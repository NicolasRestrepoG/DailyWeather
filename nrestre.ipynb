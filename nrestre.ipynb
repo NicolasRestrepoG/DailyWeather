{
 "cells": [
  {
   "cell_type": "markdown",
   "id": "4157f029",
   "metadata": {},
   "source": [
    "# Forecasting Daily Climate Events\n",
    "### By: Nicolas Restrepo"
   ]
  },
  {
   "cell_type": "markdown",
   "id": "45c07932",
   "metadata": {},
   "source": [
    "## Section 1: Introduction\n",
    "\n",
    "This project extracts data from 5 sources using a combination o APIs, Python libraries and bulk downloads as CSV files, to then pass the data through a MinMax Scaler to train a Multi-Layer Perceptron Regressor neural network and predict the maximum temperature of the next day (1 day into the future from the present day). This process is performed for the following cities in the United States: Miami, FL, New York, NY, Austin, TX, and Chicago, IL. After performing the predictions, an automatic trade is done on a Kalshi demo account through the Kalshi API to test and quantify the correctness and performance of the model over time. Each step in the process will be described in detail, as well as the decision process to choose this approach over other options. This report contains all the different steps and approaches evaluated during the process of arriving to the final model. The final model can be found towards the end of the report under \"Section 7: Final Model\". Finally, a series of graphs, images, and loss functions/indicators will be used to show the evolution of the model and the predictions thorughout time, using Kalshi and the trades made to further illustrate the accuracy of the model. "
   ]
  },
  {
   "cell_type": "markdown",
   "id": "41bdb393",
   "metadata": {},
   "source": [
    "## Section 2: Data Extraction\n",
    "For the data extraction process, a variety of options were explored such as APIs, bulk downloads as CSV files, and even web-scraping. Web-scraping was discarded due to the excessive computational and time consumption it would require to get all of the desired data for the desired time-frames, so only APIs and bulk downloads were explored further. Most of the APIs available charged for historical data, especially for the desired time-frame: 2020-01-01 to 1 day before the current day (because most data for the current day is not available until at least the following day); but through extensive research, 2 APIs were found that provide this time-frame or almost this entire time-frame, and then 2 more were found that only provide the last 7 days of data but very accurately, which ended having a positive impact on the predictions. Some of the APIs had Python libraries implemented already, which simplified the data extraction process. Finally, the information from the APIs was complemented by the most up-to-date bulk download from the National Centers for Environmental Information (NCEI)."
   ]
  },
  {
   "cell_type": "markdown",
   "id": "f09d6a1c",
   "metadata": {},
   "source": [
    "### Sources:\n",
    "Source 1: API.weather.gov (https://www.weather.gov/documentation/services-web-api#/default/station_observation_list)\n",
    "\n",
    "This API gives observations for a specific weather station for the last week. It gives multiple observations per day so it requires performing some operations to extract daily max, min and average values for temperature, pressure, etc. \n",
    "\n",
    "Source 2: Open Meteo API (https://open-meteo.com/en/docs/historical-weather-api#daily=temperature_2m_max)\n",
    "\n",
    "This API had a Python library implemented, which made the extraction process easier by simply using the sample code provided in the documentation and adjusting it to the specific locations and features desired. The data from this API does not contain data from the previous day, so the prediction must be done with data 3 days before the predicted day.\n",
    "\n",
    "Source 3: NCEI Bulk Download (https://www.ncei.noaa.gov/cdo-web/)\n",
    "\n",
    "This source consisted of submitting an order (free) for the features and the time-frame desired for a specific location (weather station). Data was only available until the 15th or 16th of March 2024, depending on the city, so the labels had to be recalculated every day so the data was used to predict the desired date. This harms the accuracy of the prediction, but the source provides such accurate data that it was worth using and then complementing the accuracy of the prediction with recent, accurate data from other sources.\n",
    "\n",
    "Source 4: Visual Crossing API (https://www.visualcrossing.com/weather/weather-data-services)\n",
    "\n",
    "This API will bring data from the previous 7 days with respect to the current date, excluding the current day. It provides very precise data and is used to create a regression based on a small but complete set of data points that complements predictions performed with hundreds of data points.\n",
    "\n",
    "Source 5: Meteostat API https://dev.meteostat.net/python/#installation\n",
    "\n",
    "This API had a Python library implemented, which made the extraction process a lot easier since there was a great amount of starter code and usage instructions in the documentation. This source is able to provide data for the entire desired time-frame: 2020-01-01 to the day before the present day. "
   ]
  },
  {
   "cell_type": "markdown",
   "id": "e07e00d8",
   "metadata": {},
   "source": [
    "### Imports for Data Extraction and Source Analysis"
   ]
  },
  {
   "cell_type": "code",
   "execution_count": 1,
   "id": "18672aa5",
   "metadata": {},
   "outputs": [],
   "source": [
    "import numpy as np\n",
    "import requests\n",
    "import openmeteo_requests\n",
    "import requests_cache\n",
    "import pandas as pd\n",
    "from retry_requests import retry\n",
    "from datetime import datetime, timedelta\n",
    "import matplotlib.pyplot as plt\n",
    "from meteostat import Point, Daily\n",
    "import sys\n",
    "import json\n",
    "import requests_cache\n",
    "from meteostat import Daily, units\n",
    "import math\n",
    "import uuid\n",
    "import kalshi_python\n",
    "from kalshi_python.models import *\n",
    "from pprint import pprint\n",
    "from collections import defaultdict\n",
    "from datetime import date"
   ]
  },
  {
   "cell_type": "markdown",
   "id": "879d9401",
   "metadata": {},
   "source": [
    "### Source 1: Weather.gov API\n",
    "For this source, different API endpoints returned the station ID that was closest to the coordinates used for each city in all sources. The coordinates represent a weather station in each city; in Miami, the chosen weather station is at the Miami International Airport, in Chicago, the chosen weather station is at Midway Airport, in New York, its in Belvedere Castle in Central Park, and in Austin, its in Camp Mabry. Once the station ID was retrieved, another request is made to the API requesting observations for this particular station in the range of 7 days before the current day and 1 day before the current day. This request returns multiple observations per day, so a series of operations inside a loop have to be done to calculate daily observations, each containing: max. temperature, min. temperature, average temperature, average atmospheric pressure, average wind speed, and total precipitation for each day in the range. Finally, the labels are attached to the same resulting data frame. These are calculated by assigning each data point the maximum temperature of 2 days in the future as a label, this because in the present day, the maximum temperature of the next day will be predicted using the maximum temperature of the previous day."
   ]
  },
  {
   "cell_type": "markdown",
   "id": "5bd3ffd3",
   "metadata": {},
   "source": [
    "#### Miami"
   ]
  },
  {
   "cell_type": "code",
   "execution_count": 2,
   "id": "cf48f820",
   "metadata": {},
   "outputs": [
    {
     "name": "stdout",
     "output_type": "stream",
     "text": [
      "            max_temperature  min_temperature  average_temperature  \\\n",
      "date                                                                \n",
      "2024-03-30            77.00            71.96            71.990000   \n",
      "2024-03-29            80.06            77.00            72.342500   \n",
      "2024-03-28            84.92            77.00            79.152800   \n",
      "2024-03-27            80.96            77.00            76.499130   \n",
      "2024-03-26            80.96            73.94            75.821818   \n",
      "2024-03-25            78.98            75.02            75.084800   \n",
      "2024-03-24            80.96            66.92            75.740000   \n",
      "\n",
      "            average_pressure  total_precipitation  average_wind_speed  label  \n",
      "date                                                                          \n",
      "2024-03-30     102050.000000                  0.0           13.260000  84.92  \n",
      "2024-03-29     101769.166667                  0.0           14.580000  80.96  \n",
      "2024-03-28     101217.200000                  0.0           17.263636  80.96  \n",
      "2024-03-27     101391.304348                  0.0           16.810435  78.98  \n",
      "2024-03-26     101423.636364                  0.0           21.028235  80.96  \n",
      "2024-03-25     101449.200000                  0.0           21.112941    NaN  \n",
      "2024-03-24     101101.666667                  0.0           12.210000    NaN  \n"
     ]
    }
   ],
   "source": [
    "# Calculate yesterday's date, setting the time to 11:59 PM\n",
    "yesterday = datetime.now() - timedelta(1)\n",
    "yesterday_str = yesterday.replace(hour=23, minute=59, second=59).strftime('%Y-%m-%dT%H:%M:%SZ')\n",
    "yesterday_str = yesterday_str.replace(':', '%3A')\n",
    "\n",
    "# Calculate the start date as today minus 7 days, setting the time to 00:00 AM\n",
    "start_date = datetime.now() - timedelta(7)\n",
    "start_date_str = start_date.replace(hour=0, minute=0, second=0).strftime('%Y-%m-%dT%H:%M:%SZ')\n",
    "start_date_str = start_date_str.replace(':', '%3A')\n",
    "\n",
    "# Station ID never changes so the code to get it was deleted for simplicity\n",
    "station_id = 'KMIA'\n",
    "\n",
    "# Modify the URL to include the appropriate oparameters every day\n",
    "observations_url = f\"https://api.weather.gov/stations/{station_id}/observations?start={start_date_str}&end={yesterday_str}\"\n",
    "\n",
    "# Make the API request\n",
    "observations_response = requests.get(observations_url)\n",
    "observations_data = observations_response.json()\n",
    "\n",
    "daily_max_temperatures = {}\n",
    "\n",
    "# Initialize dictionaries to store daily values\n",
    "daily_min_temperatures = defaultdict(lambda: None)\n",
    "daily_temperature_sums = defaultdict(int)\n",
    "daily_temperature_counts = defaultdict(int)\n",
    "daily_pressure_sums = defaultdict(int)\n",
    "daily_pressure_counts = defaultdict(int)\n",
    "daily_precipitation_sums = defaultdict(float)\n",
    "daily_wind_speed_sums = defaultdict(float)\n",
    "daily_wind_speed_counts = defaultdict(int)\n",
    "\n",
    "for observation in observations_data['features']:\n",
    "    timestamp = observation['properties']['timestamp']\n",
    "    date = datetime.fromisoformat(timestamp).date()\n",
    "    \n",
    "    temperature_celsius = observation['properties']['temperature']['value']\n",
    "    \n",
    "    if temperature_celsius is not None: \n",
    "        # Convert temperature from Celsius to Fahrenheit\n",
    "        temperature_fahrenheit = temperature_celsius * 9 / 5 + 32\n",
    "\n",
    "        # Update the dictionary with the maximum temperature in Fahrenheit\n",
    "        if date in daily_max_temperatures:\n",
    "            daily_max_temperatures[date] = max(daily_max_temperatures[date], temperature_fahrenheit)\n",
    "        else:\n",
    "            daily_max_temperatures[date] = temperature_fahrenheit\n",
    "\n",
    "    # Temperature\n",
    "    temperature = observation['properties']['temperature']['value']\n",
    "    if temperature is not None:\n",
    "        # Update min temperature\n",
    "        if daily_min_temperatures[date] is None or temperature < daily_min_temperatures[date]:\n",
    "            daily_min_temperatures[date] = temperature * 9 / 5 + 32\n",
    "        # Accumulate values for average temperature\n",
    "        daily_temperature_sums[date] += temperature * 9 / 5 + 32\n",
    "        daily_temperature_counts[date] += 1\n",
    "\n",
    "    # Pressure\n",
    "    pressure = observation['properties']['barometricPressure']['value']\n",
    "    if pressure is not None:\n",
    "        daily_pressure_sums[date] += pressure\n",
    "        daily_pressure_counts[date] += 1\n",
    "\n",
    "    # Precipitation (assuming this is cumulative over the day)\n",
    "    precipitation = observation['properties']['precipitationLastHour']['value']\n",
    "    if precipitation is not None:\n",
    "        daily_precipitation_sums[date] += precipitation\n",
    "\n",
    "    # Wind Speed\n",
    "    wind_speed = observation['properties']['windSpeed']['value']\n",
    "    if wind_speed is not None:\n",
    "        daily_wind_speed_sums[date] += wind_speed\n",
    "        daily_wind_speed_counts[date] += 1\n",
    "\n",
    "# Calculate averages and compile the final results\n",
    "daily_results = {}\n",
    "for date in daily_temperature_sums.keys():\n",
    "    daily_results[date] = {\n",
    "        'max_temperature': daily_max_temperatures[date],\n",
    "        'min_temperature': daily_min_temperatures[date],\n",
    "        'average_temperature': daily_temperature_sums[date] / daily_temperature_counts[date] if daily_temperature_counts[date] > 0 else None,\n",
    "        'average_pressure': daily_pressure_sums[date] / daily_pressure_counts[date] if daily_pressure_counts[date] > 0 else None,\n",
    "        'total_precipitation': daily_precipitation_sums[date],\n",
    "        'average_wind_speed': daily_wind_speed_sums[date] / daily_wind_speed_counts[date] if daily_wind_speed_counts[date] > 0 else None,\n",
    "    }\n",
    "\n",
    "# Convert the daily_results dictionary to a DataFrame\n",
    "daily_results_df = pd.DataFrame.from_dict(daily_results, orient='index')\n",
    "daily_results_df.index.name = 'date'\n",
    "daily_results_df['label'] = daily_results_df['max_temperature'].shift(-2)  # Calculate labels to use later\n",
    "\n",
    "# Resulting DataFrame\n",
    "miami_weathergov = daily_results_df\n",
    "print(miami_weathergov)"
   ]
  },
  {
   "cell_type": "markdown",
   "id": "6d4e8fa4",
   "metadata": {},
   "source": [
    "#### New York"
   ]
  },
  {
   "cell_type": "code",
   "execution_count": 3,
   "id": "fc76fd19",
   "metadata": {},
   "outputs": [
    {
     "name": "stdout",
     "output_type": "stream",
     "text": [
      "            max_temperature  min_temperature  average_temperature  \\\n",
      "date                                                                \n",
      "2024-03-30            60.98            44.06            48.620000   \n",
      "2024-03-29            55.94            46.94            47.180000   \n",
      "2024-03-28            51.08            48.02            48.782712   \n",
      "2024-03-27            51.08            46.94            45.257692   \n",
      "2024-03-26            51.98            46.94            44.192000   \n",
      "2024-03-25            51.08            41.00            41.826364   \n",
      "2024-03-24            48.02            35.06            43.196000   \n",
      "\n",
      "            average_pressure  total_precipitation  average_wind_speed  label  \n",
      "date                                                                          \n",
      "2024-03-30     100910.416667                  0.0           15.330000  51.08  \n",
      "2024-03-29     100872.222222                  0.0           14.478261  51.08  \n",
      "2024-03-28     101622.711864                 50.0            5.791034  51.98  \n",
      "2024-03-27     102018.846154                  0.0            5.716800  51.08  \n",
      "2024-03-26     102457.666667                  0.0           11.760000  48.02  \n",
      "2024-03-25     103106.190476                  0.0           12.486316    NaN  \n",
      "2024-03-24     102663.000000                  0.0           15.336000    NaN  \n"
     ]
    }
   ],
   "source": [
    "# Calculate yesterday's date, setting the time to 11:59 PM\n",
    "yesterday = datetime.now() - timedelta(1)\n",
    "yesterday_str = yesterday.replace(hour=23, minute=59, second=59).strftime('%Y-%m-%dT%H:%M:%SZ')\n",
    "yesterday_str = yesterday_str.replace(':', '%3A')\n",
    "\n",
    "# Calculate the start date as today minus 7 days, setting the time to 00:00 AM\n",
    "start_date = datetime.now() - timedelta(7)\n",
    "start_date_str = start_date.replace(hour=0, minute=0, second=0).strftime('%Y-%m-%dT%H:%M:%SZ')\n",
    "start_date_str = start_date_str.replace(':', '%3A')\n",
    "\n",
    "# Station ID never changes, so the code to get it was deleted for simplicity\n",
    "station_id = 'KNYC'\n",
    "\n",
    "# Modify the URL to include appropriate parameters every day automatically\n",
    "observations_url = f\"https://api.weather.gov/stations/{station_id}/observations?start={start_date_str}&end={yesterday_str}\"\n",
    "\n",
    "# Make the API request\n",
    "observations_response = requests.get(observations_url)\n",
    "observations_data = observations_response.json()\n",
    "\n",
    "daily_max_temperatures = {}\n",
    "\n",
    "# Initialize dictionaries to store daily values\n",
    "daily_min_temperatures = defaultdict(lambda: None)\n",
    "daily_temperature_sums = defaultdict(int)\n",
    "daily_temperature_counts = defaultdict(int)\n",
    "daily_pressure_sums = defaultdict(int)\n",
    "daily_pressure_counts = defaultdict(int)\n",
    "daily_precipitation_sums = defaultdict(float)\n",
    "daily_wind_speed_sums = defaultdict(float)\n",
    "daily_wind_speed_counts = defaultdict(int)\n",
    "\n",
    "for observation in observations_data['features']:\n",
    "    timestamp = observation['properties']['timestamp']\n",
    "    date = datetime.fromisoformat(timestamp).date()\n",
    "    \n",
    "    temperature_celsius = observation['properties']['temperature']['value']\n",
    "    \n",
    "    if temperature_celsius is not None:\n",
    "        # Convert temperature from Celsius to Fahrenheit\n",
    "        temperature_fahrenheit = temperature_celsius * 9 / 5 + 32\n",
    "\n",
    "        # Update the dictionary with the maximum temperature in Fahrenheit\n",
    "        if date in daily_max_temperatures:\n",
    "            daily_max_temperatures[date] = max(daily_max_temperatures[date], temperature_fahrenheit)\n",
    "        else:\n",
    "            daily_max_temperatures[date] = temperature_fahrenheit\n",
    "\n",
    "    # Temperature\n",
    "    temperature = observation['properties']['temperature']['value']\n",
    "    if temperature is not None:\n",
    "        # Update min temperature\n",
    "        if daily_min_temperatures[date] is None or temperature < daily_min_temperatures[date]:\n",
    "            daily_min_temperatures[date] = temperature * 9 / 5 + 32\n",
    "        # Accumulate values for average temperature\n",
    "        daily_temperature_sums[date] += temperature * 9 / 5 + 32\n",
    "        daily_temperature_counts[date] += 1\n",
    "\n",
    "    # Pressure\n",
    "    pressure = observation['properties']['barometricPressure']['value']\n",
    "    if pressure is not None:\n",
    "        daily_pressure_sums[date] += pressure\n",
    "        daily_pressure_counts[date] += 1\n",
    "\n",
    "    # Precipitation (assuming this is cumulative over the day)\n",
    "    precipitation = observation['properties']['precipitationLastHour']['value']\n",
    "    if precipitation is not None:\n",
    "        daily_precipitation_sums[date] += precipitation\n",
    "\n",
    "    # Wind Speed\n",
    "    wind_speed = observation['properties']['windSpeed']['value']\n",
    "    if wind_speed is not None:\n",
    "        daily_wind_speed_sums[date] += wind_speed\n",
    "        daily_wind_speed_counts[date] += 1\n",
    "\n",
    "# Calculate averages and compile the final results\n",
    "daily_results = {}\n",
    "for date in daily_temperature_sums.keys():\n",
    "    daily_results[date] = {\n",
    "        'max_temperature': daily_max_temperatures[date],\n",
    "        'min_temperature': daily_min_temperatures[date],\n",
    "        'average_temperature': daily_temperature_sums[date] / daily_temperature_counts[date] if daily_temperature_counts[date] > 0 else None,\n",
    "        'average_pressure': daily_pressure_sums[date] / daily_pressure_counts[date] if daily_pressure_counts[date] > 0 else None,\n",
    "        'total_precipitation': daily_precipitation_sums[date],\n",
    "        'average_wind_speed': daily_wind_speed_sums[date] / daily_wind_speed_counts[date] if daily_wind_speed_counts[date] > 0 else None,\n",
    "    }\n",
    "\n",
    "# Convert the daily_results dictionary to a DataFrame\n",
    "daily_results_df = pd.DataFrame.from_dict(daily_results, orient='index')\n",
    "daily_results_df.index.name = 'date'\n",
    "daily_results_df['label'] = daily_results_df['max_temperature'].shift(-2)  # Calculate labels to use later\n",
    "\n",
    "# Resulting DataFrame\n",
    "ny_weathergov = daily_results_df\n",
    "print(ny_weathergov)"
   ]
  },
  {
   "cell_type": "markdown",
   "id": "cb1b6b72",
   "metadata": {},
   "source": [
    "#### Chicago"
   ]
  },
  {
   "cell_type": "code",
   "execution_count": 4,
   "id": "49d844e5",
   "metadata": {},
   "outputs": [
    {
     "name": "stdout",
     "output_type": "stream",
     "text": [
      "            max_temperature  min_temperature  average_temperature  \\\n",
      "date                                                                \n",
      "2024-03-30            64.40            44.96            53.267273   \n",
      "2024-03-29            51.98            46.94            43.707500   \n",
      "2024-03-28            51.98            39.92            39.552174   \n",
      "2024-03-27            42.98            37.94            35.510000   \n",
      "2024-03-26            62.96            62.06            52.056154   \n",
      "2024-03-25            64.94            48.02            53.616364   \n",
      "2024-03-24            50.00            35.06            44.174545   \n",
      "\n",
      "            average_pressure  total_precipitation  average_wind_speed  label  \n",
      "date                                                                          \n",
      "2024-03-30     100898.484848                  0.0           16.155000  51.98  \n",
      "2024-03-29     101734.583333                  0.0           11.370000  42.98  \n",
      "2024-03-28     101963.478261                  0.0           13.993043  62.96  \n",
      "2024-03-27     101336.000000                  0.0           29.668235  64.94  \n",
      "2024-03-26      99965.769231                  0.0           27.078261  50.00  \n",
      "2024-03-25     100883.636364                  0.0           23.091429    NaN  \n",
      "2024-03-24     101839.090909                  0.0           22.549091    NaN  \n"
     ]
    }
   ],
   "source": [
    "# Calculate yesterday's date, setting the time to 11:59 PM\n",
    "yesterday = datetime.now() - timedelta(1)\n",
    "yesterday_str = yesterday.replace(hour=23, minute=59, second=59).strftime('%Y-%m-%dT%H:%M:%SZ')\n",
    "yesterday_str = yesterday_str.replace(':', '%3A')\n",
    "\n",
    "# Calculate the start date as today minus 7 days, setting the time to 00:00 AM\n",
    "start_date = datetime.now() - timedelta(7)\n",
    "start_date_str = start_date.replace(hour=0, minute=0, second=0).strftime('%Y-%m-%dT%H:%M:%SZ')\n",
    "start_date_str = start_date_str.replace(':', '%3A')\n",
    "\n",
    "# Station ID never changes, so code to get it was deleted for simplicity\n",
    "station_id = 'KMDW'\n",
    "\n",
    "# Modify the URL to include parameters automatically every day\n",
    "observations_url = f\"https://api.weather.gov/stations/{station_id}/observations?start={start_date_str}&end={yesterday_str}\"\n",
    "\n",
    "# Make the API request\n",
    "observations_response = requests.get(observations_url)\n",
    "observations_data = observations_response.json()\n",
    "\n",
    "daily_max_temperatures = {}\n",
    "\n",
    "# Initialize dictionaries to store daily values\n",
    "daily_min_temperatures = defaultdict(lambda: None)\n",
    "daily_temperature_sums = defaultdict(int)\n",
    "daily_temperature_counts = defaultdict(int)\n",
    "daily_pressure_sums = defaultdict(int)\n",
    "daily_pressure_counts = defaultdict(int)\n",
    "daily_precipitation_sums = defaultdict(float)\n",
    "daily_wind_speed_sums = defaultdict(float)\n",
    "daily_wind_speed_counts = defaultdict(int)\n",
    "\n",
    "for observation in observations_data['features']:\n",
    "    timestamp = observation['properties']['timestamp']\n",
    "    date = datetime.fromisoformat(timestamp).date()\n",
    "    \n",
    "    temperature_celsius = observation['properties']['temperature']['value']\n",
    "    \n",
    "    if temperature_celsius is not None:\n",
    "        # Convert temperature from Celsius to Fahrenheit\n",
    "        temperature_fahrenheit = temperature_celsius * 9 / 5 + 32\n",
    "\n",
    "        # Update the dictionary with the maximum temperature in Fahrenheit\n",
    "        if date in daily_max_temperatures:\n",
    "            daily_max_temperatures[date] = max(daily_max_temperatures[date], temperature_fahrenheit)\n",
    "        else:\n",
    "            daily_max_temperatures[date] = temperature_fahrenheit\n",
    "\n",
    "    # Temperature\n",
    "    temperature = observation['properties']['temperature']['value']\n",
    "    if temperature is not None:\n",
    "        # Update min temperature\n",
    "        if daily_min_temperatures[date] is None or temperature < daily_min_temperatures[date]:\n",
    "            daily_min_temperatures[date] = temperature * 9 / 5 + 32\n",
    "        # Accumulate values for average temperature\n",
    "        daily_temperature_sums[date] += temperature * 9 / 5 + 32\n",
    "        daily_temperature_counts[date] += 1\n",
    "\n",
    "    # Pressure\n",
    "    pressure = observation['properties']['barometricPressure']['value']\n",
    "    if pressure is not None:\n",
    "        daily_pressure_sums[date] += pressure\n",
    "        daily_pressure_counts[date] += 1\n",
    "\n",
    "    # Precipitation (assuming this is cumulative over the day)\n",
    "    precipitation = observation['properties']['precipitationLastHour']['value']\n",
    "    if precipitation is not None:\n",
    "        daily_precipitation_sums[date] += precipitation\n",
    "\n",
    "    # Wind Speed\n",
    "    wind_speed = observation['properties']['windSpeed']['value']\n",
    "    if wind_speed is not None:\n",
    "        daily_wind_speed_sums[date] += wind_speed\n",
    "        daily_wind_speed_counts[date] += 1\n",
    "\n",
    "# Calculate averages and compile the final results\n",
    "daily_results = {}\n",
    "for date in daily_temperature_sums.keys():\n",
    "    daily_results[date] = {\n",
    "        'max_temperature': daily_max_temperatures[date],\n",
    "        'min_temperature': daily_min_temperatures[date],\n",
    "        'average_temperature': daily_temperature_sums[date] / daily_temperature_counts[date] if daily_temperature_counts[date] > 0 else None,\n",
    "        'average_pressure': daily_pressure_sums[date] / daily_pressure_counts[date] if daily_pressure_counts[date] > 0 else None,\n",
    "        'total_precipitation': daily_precipitation_sums[date],\n",
    "        'average_wind_speed': daily_wind_speed_sums[date] / daily_wind_speed_counts[date] if daily_wind_speed_counts[date] > 0 else None,\n",
    "    }\n",
    "\n",
    "# Convert the daily_results dictionary to a DataFrame\n",
    "daily_results_df = pd.DataFrame.from_dict(daily_results, orient='index')\n",
    "daily_results_df.index.name = 'date'\n",
    "daily_results_df['label'] = daily_results_df['max_temperature'].shift(-2)  # Calculate labels to use later\n",
    "\n",
    "# Resulting DataFrame\n",
    "chicago_weathergov = daily_results_df\n",
    "print(chicago_weathergov)"
   ]
  },
  {
   "cell_type": "markdown",
   "id": "9510463c",
   "metadata": {},
   "source": [
    "#### Austin"
   ]
  },
  {
   "cell_type": "code",
   "execution_count": 5,
   "id": "8a17ee3f",
   "metadata": {},
   "outputs": [
    {
     "name": "stdout",
     "output_type": "stream",
     "text": [
      "            max_temperature  min_temperature  average_temperature  \\\n",
      "date                                                                \n",
      "2024-03-30            75.92            71.06            67.634375   \n",
      "2024-03-29            78.98            71.06            64.882143   \n",
      "2024-03-28            78.08            55.04            58.047500   \n",
      "2024-03-27            64.94            59.00            56.180000   \n",
      "2024-03-26            71.06            71.06            60.705263   \n",
      "2024-03-25            78.08            69.08            66.380000   \n",
      "2024-03-24            71.96            60.08            66.434000   \n",
      "\n",
      "            average_pressure  total_precipitation  average_wind_speed  label  \n",
      "date                                                                          \n",
      "2024-03-30     101462.500000                  0.0            8.720000  78.08  \n",
      "2024-03-29     101768.571429                  0.0            9.533333  64.94  \n",
      "2024-03-28     102207.916667                  0.0            2.828571  71.06  \n",
      "2024-03-27     101745.000000                  0.0            4.522500  78.08  \n",
      "2024-03-26     101078.421053                  0.0            7.650000  71.96  \n",
      "2024-03-25     100037.619048                  0.0            9.600000    NaN  \n",
      "2024-03-24     100570.000000                  0.0           15.400000    NaN  \n"
     ]
    }
   ],
   "source": [
    "# Calculate yesterday's date, setting the time to 11:59 PM\n",
    "yesterday = datetime.now() - timedelta(1)\n",
    "yesterday_str = yesterday.replace(hour=23, minute=59, second=59).strftime('%Y-%m-%dT%H:%M:%SZ')\n",
    "yesterday_str = yesterday_str.replace(':', '%3A')\n",
    "\n",
    "# Calculate the start date as today minus 7 days, setting the time to 00:00 AM\n",
    "start_date = datetime.now() - timedelta(7)\n",
    "start_date_str = start_date.replace(hour=0, minute=0, second=0).strftime('%Y-%m-%dT%H:%M:%SZ')\n",
    "start_date_str = start_date_str.replace(':', '%3A')\n",
    "\n",
    "# Station ID never changes, so code to get it was deleted for simplicity\n",
    "station_id = 'KATT'\n",
    "\n",
    "# Modify the URL to include parameters automatically\n",
    "observations_url = f\"https://api.weather.gov/stations/{station_id}/observations?start={start_date_str}&end={yesterday_str}\"\n",
    "\n",
    "# Make the API request\n",
    "observations_response = requests.get(observations_url)\n",
    "observations_data = observations_response.json()\n",
    "\n",
    "daily_max_temperatures = {}\n",
    "\n",
    "# Initialize dictionaries to store daily values\n",
    "daily_min_temperatures = defaultdict(lambda: None)\n",
    "daily_temperature_sums = defaultdict(int)\n",
    "daily_temperature_counts = defaultdict(int)\n",
    "daily_pressure_sums = defaultdict(int)\n",
    "daily_pressure_counts = defaultdict(int)\n",
    "daily_precipitation_sums = defaultdict(float)\n",
    "daily_wind_speed_sums = defaultdict(float)\n",
    "daily_wind_speed_counts = defaultdict(int)\n",
    "\n",
    "for observation in observations_data['features']:\n",
    "    timestamp = observation['properties']['timestamp']\n",
    "    date = datetime.fromisoformat(timestamp).date()\n",
    "    \n",
    "    temperature_celsius = observation['properties']['temperature']['value']\n",
    "    \n",
    "    if temperature_celsius is not None: \n",
    "        # Convert temperature from Celsius to Fahrenheit\n",
    "        temperature_fahrenheit = temperature_celsius * 9 / 5 + 32\n",
    "\n",
    "        # Update the dictionary with the maximum temperature in Fahrenheit\n",
    "        if date in daily_max_temperatures:\n",
    "            daily_max_temperatures[date] = max(daily_max_temperatures[date], temperature_fahrenheit)\n",
    "        else:\n",
    "            daily_max_temperatures[date] = temperature_fahrenheit\n",
    "\n",
    "    # Temperature\n",
    "    temperature = observation['properties']['temperature']['value']\n",
    "    if temperature is not None:\n",
    "        # Update min temperature\n",
    "        if daily_min_temperatures[date] is None or temperature < daily_min_temperatures[date]:\n",
    "            daily_min_temperatures[date] = temperature * 9 / 5 + 32\n",
    "        # Accumulate values for average temperature\n",
    "        daily_temperature_sums[date] += temperature * 9 / 5 + 32\n",
    "        daily_temperature_counts[date] += 1\n",
    "\n",
    "    # Pressure\n",
    "    pressure = observation['properties']['barometricPressure']['value']\n",
    "    if pressure is not None:\n",
    "        daily_pressure_sums[date] += pressure\n",
    "        daily_pressure_counts[date] += 1\n",
    "\n",
    "    # Precipitation (assuming this is cumulative over the day)\n",
    "    precipitation = observation['properties']['precipitationLastHour']['value']\n",
    "    if precipitation is not None:\n",
    "        daily_precipitation_sums[date] += precipitation\n",
    "\n",
    "    # Wind Speed\n",
    "    wind_speed = observation['properties']['windSpeed']['value']\n",
    "    if wind_speed is not None:\n",
    "        daily_wind_speed_sums[date] += wind_speed\n",
    "        daily_wind_speed_counts[date] += 1\n",
    "\n",
    "# Calculate averages and compile the final results\n",
    "daily_results = {}\n",
    "for date in daily_temperature_sums.keys():\n",
    "    daily_results[date] = {\n",
    "        'max_temperature': daily_max_temperatures[date],\n",
    "        'min_temperature': daily_min_temperatures[date],\n",
    "        'average_temperature': daily_temperature_sums[date] / daily_temperature_counts[date] if daily_temperature_counts[date] > 0 else None,\n",
    "        'average_pressure': daily_pressure_sums[date] / daily_pressure_counts[date] if daily_pressure_counts[date] > 0 else None,\n",
    "        'total_precipitation': daily_precipitation_sums[date],\n",
    "        'average_wind_speed': daily_wind_speed_sums[date] / daily_wind_speed_counts[date] if daily_wind_speed_counts[date] > 0 else None,\n",
    "    }\n",
    "\n",
    "# Convert the daily_results dictionary to a DataFrame\n",
    "daily_results_df = pd.DataFrame.from_dict(daily_results, orient='index')\n",
    "daily_results_df.index.name = 'date'\n",
    "daily_results_df['label'] = daily_results_df['max_temperature'].shift(-2)  # Calculate labels to use later\n",
    "\n",
    "# Resulting DataFrame\n",
    "austin_weathergov = daily_results_df\n",
    "print(austin_weathergov)"
   ]
  },
  {
   "cell_type": "markdown",
   "id": "10375d86",
   "metadata": {},
   "source": [
    "### Source 2: Open Meteo API"
   ]
  },
  {
   "cell_type": "markdown",
   "id": "4d0f0e97",
   "metadata": {},
   "source": [
    "This source has a Python library already implemented, and with the sample code provided by its documentation, its implementation was fairly straight-forward. There is a request template with all the parameters that must be defined to tailor the request to the needs of the project. After the parameter values were found, the sample code gave an excellent guide to parse the response and arrange all the data in a data frame. This source is able to provide data almost for the entire desired time frame, with one exception, it doesn't have information from the day before the present day, so the prediction has to be done with information from three days before the date we want to predict. The labels are calculated accordingly."
   ]
  },
  {
   "cell_type": "markdown",
   "id": "7abddb7a",
   "metadata": {},
   "source": [
    "#### Miami"
   ]
  },
  {
   "cell_type": "code",
   "execution_count": 6,
   "id": "1473a5c9",
   "metadata": {},
   "outputs": [
    {
     "name": "stdout",
     "output_type": "stream",
     "text": [
      "           DATE       TMAX       TMIN       TAVG  PRECIPITATION  SNOW  \\\n",
      "0    2020-01-01  76.721901  57.911903  66.851906       0.000000   0.0   \n",
      "1    2020-01-02  78.881897  62.771900  70.163155       0.000000   0.0   \n",
      "2    2020-01-03  80.681900  72.041901  76.208153       0.019685   0.0   \n",
      "3    2020-01-04  84.281898  73.211899  77.280640       0.000000   0.0   \n",
      "4    2020-01-05  73.841904  56.291901  64.455658       0.027559   0.0   \n",
      "...         ...        ...        ...        ...            ...   ...   \n",
      "1546 2024-03-26  80.141899  70.781898  74.291908       0.000000   0.0   \n",
      "1547 2024-03-27  80.861900  71.231903  75.435654       0.043307   0.0   \n",
      "1548 2024-03-28  86.351898  73.211899  78.101898       0.145669   0.0   \n",
      "1549 2024-03-29  77.441902  61.691902  69.540657       0.003937   0.0   \n",
      "1550 2024-03-30        NaN        NaN        NaN            NaN   NaN   \n",
      "\n",
      "       LATITUDE  LONGITUDE  ELEVATION  surface_pressure      LABEL  \n",
      "0     25.764498 -80.294098        2.0       1017.445618  84.281898  \n",
      "1     25.764498 -80.294098        2.0       1017.563721  73.841904  \n",
      "2     25.764498 -80.294098        2.0       1017.903870  71.321899  \n",
      "3     25.764498 -80.294098        2.0       1018.375000  76.091904  \n",
      "4     25.764498 -80.294098        2.0       1022.422485  75.371902  \n",
      "...         ...        ...        ...               ...        ...  \n",
      "1546  25.764498 -80.294098        2.0       1014.270508  77.441902  \n",
      "1547  25.764498 -80.294098        2.0       1013.700378        NaN  \n",
      "1548  25.764498 -80.294098        2.0       1011.726868        NaN  \n",
      "1549  25.764498 -80.294098        2.0       1017.292725        NaN  \n",
      "1550  25.764498 -80.294098        2.0               NaN        NaN  \n",
      "\n",
      "[1551 rows x 11 columns]\n"
     ]
    }
   ],
   "source": [
    "today = pd.Timestamp.now()\n",
    "# Subtract one day to get yesterday's date\n",
    "yesterday = today - pd.DateOffset(days=1)\n",
    "# Format yesterday's date as a string in YYYY-MM-DD format\n",
    "yesterday_str = yesterday.strftime('%Y-%m-%d')\n",
    "\n",
    "# Setup the Open-Meteo API client with cache and retry on error\n",
    "cache_session = requests_cache.CachedSession('.cache', expire_after = -1)\n",
    "retry_session = retry(cache_session, retries = 5, backoff_factor = 0.2)\n",
    "openmeteo = openmeteo_requests.Client(session = retry_session)\n",
    "\n",
    "# Make sure all required weather variables are listed here\n",
    "# The order of variables in hourly or daily is important to assign them correctly below\n",
    "url = \"https://archive-api.open-meteo.com/v1/archive\"\n",
    "params = {\n",
    "\t\"latitude\": 25.78805,\n",
    "\t\"longitude\": -80.31694,\n",
    "\t\"start_date\": \"2020-01-01\",\n",
    "\t\"end_date\": yesterday_str,\n",
    "\t\"hourly\": \"surface_pressure\",\n",
    "\t\"daily\": [\"temperature_2m_max\", \"temperature_2m_min\", \"temperature_2m_mean\", \"rain_sum\", \"snowfall_sum\"],\n",
    "\t\"temperature_unit\": \"fahrenheit\",\n",
    "\t\"wind_speed_unit\": \"mph\",\n",
    "\t\"precipitation_unit\": \"inch\"\n",
    "}\n",
    "responses = openmeteo.weather_api(url, params=params)\n",
    "\n",
    "response = responses[0]\n",
    "\n",
    "# Process hourly data. The order of variables needs to be the same as requested.\n",
    "hourly = response.Hourly()\n",
    "hourly_surface_pressure = hourly.Variables(0).ValuesAsNumpy()\n",
    "\n",
    "hourly_data = {\"DATE\": pd.date_range(\n",
    "\tstart = pd.to_datetime(hourly.Time(), unit = \"s\", utc = True),\n",
    "\tend = pd.to_datetime(hourly.TimeEnd(), unit = \"s\", utc = True),\n",
    "\tfreq = pd.Timedelta(seconds = hourly.Interval()),\n",
    "\tinclusive = \"left\"\n",
    ").date}\n",
    "\n",
    "hourly_data[\"surface_pressure\"] = hourly_surface_pressure\n",
    "\n",
    "hourly_dataframe = pd.DataFrame(data = hourly_data)\n",
    "\n",
    "# Process daily data. The order of variables needs to be the same as requested.\n",
    "daily = response.Daily()\n",
    "daily_temperature_2m_max = daily.Variables(0).ValuesAsNumpy()\n",
    "daily_temperature_2m_min = daily.Variables(1).ValuesAsNumpy()\n",
    "daily_temperature_2m_mean = daily.Variables(2).ValuesAsNumpy()\n",
    "daily_rain_sum = daily.Variables(3).ValuesAsNumpy()\n",
    "daily_snowfall_sum = daily.Variables(4).ValuesAsNumpy()\n",
    "\n",
    "daily_data = {\"DATE\": pd.date_range(\n",
    "\tstart = pd.to_datetime(daily.Time(), unit = \"s\", utc = True),\n",
    "\tend = pd.to_datetime(daily.TimeEnd(), unit = \"s\", utc = True),\n",
    "\tfreq = pd.Timedelta(seconds = daily.Interval()),\n",
    "\tinclusive = \"left\"\n",
    ").date}\n",
    "\n",
    "daily_data[\"TMAX\"] = daily_temperature_2m_max\n",
    "daily_data[\"TMIN\"] = daily_temperature_2m_min\n",
    "daily_data[\"TAVG\"] = daily_temperature_2m_mean\n",
    "daily_data[\"PRECIPITATION\"] = daily_rain_sum\n",
    "daily_data[\"SNOW\"] = daily_snowfall_sum\n",
    "\n",
    "daily_dataframe = pd.DataFrame(data = daily_data)\n",
    "\n",
    "daily_dataframe['LATITUDE'] = response.Latitude() \n",
    "daily_dataframe['LONGITUDE'] = response.Longitude()\n",
    "daily_dataframe['ELEVATION'] = response.Elevation()\n",
    "\n",
    "hourly_dataframe['DATE'] = pd.to_datetime(hourly_dataframe['DATE'])\n",
    "daily_dataframe['DATE'] = pd.to_datetime(daily_dataframe['DATE'])\n",
    "hourly_dataframe.set_index('DATE', inplace=True)\n",
    "daily_avg_pressure = hourly_dataframe['surface_pressure'].resample('D').mean()\n",
    "\n",
    "miami_openmeteo = pd.merge(daily_dataframe, daily_avg_pressure, left_on='DATE', right_index=True, how='left')\n",
    "miami_openmeteo['LABEL'] = miami_openmeteo['TMAX'].shift(-3)   # Calculate labels for 3 days in the future\n",
    "\n",
    "print(miami_openmeteo)"
   ]
  },
  {
   "cell_type": "markdown",
   "id": "78339bff",
   "metadata": {},
   "source": [
    "#### Chicago"
   ]
  },
  {
   "cell_type": "code",
   "execution_count": 7,
   "id": "44394456",
   "metadata": {},
   "outputs": [
    {
     "name": "stdout",
     "output_type": "stream",
     "text": [
      "           DATE       TMAX       TMIN       TAVG  PRECIPITATION      SNOW  \\\n",
      "0    2020-01-01  41.226799  20.436800  28.026800       0.000000  0.000000   \n",
      "1    2020-01-02  49.146801  37.086800  41.733047       0.000000  0.000000   \n",
      "2    2020-01-03  41.496799  31.416800  37.356800       0.000000  0.000000   \n",
      "3    2020-01-04  34.656799  28.266800  32.020546       0.003937  0.413386   \n",
      "4    2020-01-05  45.366798  22.416800  30.670547       0.000000  0.027559   \n",
      "...         ...        ...        ...        ...            ...       ...   \n",
      "1546 2024-03-26  54.366798  44.016800  50.504307       0.696850  0.000000   \n",
      "1547 2024-03-27  43.926800  28.176800  35.166798       0.000000  0.000000   \n",
      "1548 2024-03-28  50.766800  25.656799  36.685551       0.000000  0.000000   \n",
      "1549 2024-03-29  48.606800  27.186800  38.073048       0.000000  0.000000   \n",
      "1550 2024-03-30        NaN        NaN        NaN            NaN       NaN   \n",
      "\n",
      "       LATITUDE  LONGITUDE  ELEVATION  surface_pressure      LABEL  \n",
      "0     41.933216 -87.906982      201.0        984.237061  34.656799  \n",
      "1     41.933216 -87.906982      201.0        977.514526  45.366798  \n",
      "2     41.933216 -87.906982      201.0        983.758362  40.416801  \n",
      "3     41.933216 -87.906982      201.0        989.715759  40.416801  \n",
      "4     41.933216 -87.906982      201.0        992.240601  34.746799  \n",
      "...         ...        ...        ...               ...        ...  \n",
      "1546  41.933216 -87.906982      201.0        975.288025  48.606800  \n",
      "1547  41.933216 -87.906982      201.0        989.245117        NaN  \n",
      "1548  41.933216 -87.906982      201.0        995.289307        NaN  \n",
      "1549  41.933216 -87.906982      201.0        993.397705        NaN  \n",
      "1550  41.933216 -87.906982      201.0               NaN        NaN  \n",
      "\n",
      "[1551 rows x 11 columns]\n"
     ]
    }
   ],
   "source": [
    "today = pd.Timestamp.now()\n",
    "# Subtract one day to get yesterday's date\n",
    "yesterday = today - pd.DateOffset(days=1)\n",
    "# Format yesterday's date as a string in YYYY-MM-DD format\n",
    "yesterday_str = yesterday.strftime('%Y-%m-%d')\n",
    "\n",
    "# Setup the Open-Meteo API client with cache and retry on error\n",
    "cache_session = requests_cache.CachedSession('.cache', expire_after = -1)\n",
    "retry_session = retry(cache_session, retries = 5, backoff_factor = 0.2)\n",
    "openmeteo = openmeteo_requests.Client(session = retry_session)\n",
    "\n",
    "# Make sure all required weather variables are listed here\n",
    "# The order of variables in hourly or daily is important to assign them correctly below\n",
    "url = \"https://archive-api.open-meteo.com/v1/archive\"\n",
    "params = {\n",
    "\t\"latitude\": 41.96017,\n",
    "\t\"longitude\": -87.93164,\n",
    "\t\"start_date\": \"2020-01-01\",\n",
    "\t\"end_date\": yesterday_str,\n",
    "\t\"hourly\": \"surface_pressure\",\n",
    "\t\"daily\": [\"temperature_2m_max\", \"temperature_2m_min\", \"temperature_2m_mean\", \"rain_sum\", \"snowfall_sum\"],\n",
    "\t\"temperature_unit\": \"fahrenheit\",\n",
    "\t\"wind_speed_unit\": \"mph\",\n",
    "\t\"precipitation_unit\": \"inch\"\n",
    "}\n",
    "responses = openmeteo.weather_api(url, params=params)\n",
    "\n",
    "response = responses[0]\n",
    "\n",
    "# Process hourly data. The order of variables needs to be the same as requested.\n",
    "hourly = response.Hourly()\n",
    "hourly_surface_pressure = hourly.Variables(0).ValuesAsNumpy()\n",
    "\n",
    "hourly_data = {\"DATE\": pd.date_range(\n",
    "\tstart = pd.to_datetime(hourly.Time(), unit = \"s\", utc = True),\n",
    "\tend = pd.to_datetime(hourly.TimeEnd(), unit = \"s\", utc = True),\n",
    "\tfreq = pd.Timedelta(seconds = hourly.Interval()),\n",
    "\tinclusive = \"left\"\n",
    ").date}\n",
    "\n",
    "hourly_data[\"surface_pressure\"] = hourly_surface_pressure\n",
    "\n",
    "hourly_dataframe = pd.DataFrame(data = hourly_data)\n",
    "\n",
    "# Process daily data. The order of variables needs to be the same as requested.\n",
    "daily = response.Daily()\n",
    "daily_temperature_2m_max = daily.Variables(0).ValuesAsNumpy()\n",
    "daily_temperature_2m_min = daily.Variables(1).ValuesAsNumpy()\n",
    "daily_temperature_2m_mean = daily.Variables(2).ValuesAsNumpy()\n",
    "daily_rain_sum = daily.Variables(3).ValuesAsNumpy()\n",
    "daily_snowfall_sum = daily.Variables(4).ValuesAsNumpy()\n",
    "\n",
    "daily_data = {\"DATE\": pd.date_range(\n",
    "\tstart = pd.to_datetime(daily.Time(), unit = \"s\", utc = True),\n",
    "\tend = pd.to_datetime(daily.TimeEnd(), unit = \"s\", utc = True),\n",
    "\tfreq = pd.Timedelta(seconds = daily.Interval()),\n",
    "\tinclusive = \"left\"\n",
    ").date}\n",
    "\n",
    "daily_data[\"TMAX\"] = daily_temperature_2m_max\n",
    "daily_data[\"TMIN\"] = daily_temperature_2m_min\n",
    "daily_data[\"TAVG\"] = daily_temperature_2m_mean\n",
    "daily_data[\"PRECIPITATION\"] = daily_rain_sum\n",
    "daily_data[\"SNOW\"] = daily_snowfall_sum\n",
    "\n",
    "daily_dataframe = pd.DataFrame(data = daily_data)\n",
    "\n",
    "daily_dataframe['LATITUDE'] = response.Latitude() \n",
    "daily_dataframe['LONGITUDE'] = response.Longitude()\n",
    "daily_dataframe['ELEVATION'] = response.Elevation()\n",
    "\n",
    "hourly_dataframe['DATE'] = pd.to_datetime(hourly_dataframe['DATE'])\n",
    "daily_dataframe['DATE'] = pd.to_datetime(daily_dataframe['DATE'])\n",
    "hourly_dataframe.set_index('DATE', inplace=True)\n",
    "daily_avg_pressure = hourly_dataframe['surface_pressure'].resample('D').mean()\n",
    "\n",
    "chicago_openmeteo = pd.merge(daily_dataframe, daily_avg_pressure, left_on='DATE', right_index=True, how='left')\n",
    "chicago_openmeteo['LABEL'] = chicago_openmeteo['TMAX'].shift(-3)\n",
    "\n",
    "print(chicago_openmeteo)"
   ]
  },
  {
   "cell_type": "markdown",
   "id": "8009566b",
   "metadata": {},
   "source": [
    "#### New York"
   ]
  },
  {
   "cell_type": "code",
   "execution_count": 8,
   "id": "cbef2ab1",
   "metadata": {},
   "outputs": [
    {
     "name": "stdout",
     "output_type": "stream",
     "text": [
      "           DATE       TMAX       TMIN       TAVG  PRECIPITATION  SNOW  \\\n",
      "0    2020-01-01  39.932602  32.462601  36.940102       0.011811   0.0   \n",
      "1    2020-01-02  47.402599  27.962601  35.057598       0.000000   0.0   \n",
      "2    2020-01-03  48.662601  35.792599  42.640095       0.118110   0.0   \n",
      "3    2020-01-04  49.112602  43.172600  45.501347       0.236220   0.0   \n",
      "4    2020-01-05  47.222603  34.352600  38.841351       0.082677   0.0   \n",
      "...         ...        ...        ...        ...            ...   ...   \n",
      "1546 2024-03-26  49.652599  32.012600  41.173847       0.000000   0.0   \n",
      "1547 2024-03-27  50.372601  40.022598  44.376354       0.000000   0.0   \n",
      "1548 2024-03-28  50.552601  44.162598  46.930103       0.755905   0.0   \n",
      "1549 2024-03-29  54.242599  39.032600  45.467594       0.090551   0.0   \n",
      "1550 2024-03-30        NaN        NaN        NaN            NaN   NaN   \n",
      "\n",
      "       LATITUDE  LONGITUDE  ELEVATION  surface_pressure      LABEL  \n",
      "0     40.808434 -74.019897       44.0       1000.615356  49.112602  \n",
      "1     40.808434 -74.019897       44.0       1007.986572  47.222603  \n",
      "2     40.808434 -74.019897       44.0       1004.804749  45.242599  \n",
      "3     40.808434 -74.019897       44.0       1000.276550  42.542599  \n",
      "4     40.808434 -74.019897       44.0       1001.514526  40.652599  \n",
      "...         ...        ...        ...               ...        ...  \n",
      "1546  40.808434 -74.019897       44.0       1018.961426  54.242599  \n",
      "1547  40.808434 -74.019897       44.0       1014.052856        NaN  \n",
      "1548  40.808434 -74.019897       44.0       1009.811707        NaN  \n",
      "1549  40.808434 -74.019897       44.0       1002.712769        NaN  \n",
      "1550  40.808434 -74.019897       44.0               NaN        NaN  \n",
      "\n",
      "[1551 rows x 11 columns]\n"
     ]
    }
   ],
   "source": [
    "today = pd.Timestamp.now()\n",
    "# Subtract one day to get yesterday's date\n",
    "yesterday = today - pd.DateOffset(days=1)\n",
    "# Format yesterday's date as a string in YYYY-MM-DD format\n",
    "yesterday_str = yesterday.strftime('%Y-%m-%d')\n",
    "\n",
    "# Setup the Open-Meteo API client with cache and retry on error\n",
    "cache_session = requests_cache.CachedSession('.cache', expire_after = -1)\n",
    "retry_session = retry(cache_session, retries = 5, backoff_factor = 0.2)\n",
    "openmeteo = openmeteo_requests.Client(session = retry_session)\n",
    "\n",
    "# Make sure all required weather variables are listed here\n",
    "# The order of variables in hourly or daily is important to assign them correctly below\n",
    "url = \"https://archive-api.open-meteo.com/v1/archive\"\n",
    "params = {\n",
    "\t\"latitude\": 40.77898,\n",
    "\t\"longitude\": -73.96925,\n",
    "\t\"start_date\": \"2020-01-01\",\n",
    "\t\"end_date\": yesterday_str,\n",
    "\t\"hourly\": \"surface_pressure\",\n",
    "\t\"daily\": [\"temperature_2m_max\", \"temperature_2m_min\", \"temperature_2m_mean\", \"rain_sum\", \"snowfall_sum\"],\n",
    "\t\"temperature_unit\": \"fahrenheit\",\n",
    "\t\"wind_speed_unit\": \"mph\",\n",
    "\t\"precipitation_unit\": \"inch\"\n",
    "}\n",
    "responses = openmeteo.weather_api(url, params=params)\n",
    "\n",
    "response = responses[0]\n",
    "\n",
    "# Process hourly data. The order of variables needs to be the same as requested.\n",
    "hourly = response.Hourly()\n",
    "hourly_surface_pressure = hourly.Variables(0).ValuesAsNumpy()\n",
    "\n",
    "hourly_data = {\"DATE\": pd.date_range(\n",
    "\tstart = pd.to_datetime(hourly.Time(), unit = \"s\", utc = True),\n",
    "\tend = pd.to_datetime(hourly.TimeEnd(), unit = \"s\", utc = True),\n",
    "\tfreq = pd.Timedelta(seconds = hourly.Interval()),\n",
    "\tinclusive = \"left\"\n",
    ").date}\n",
    "\n",
    "hourly_data[\"surface_pressure\"] = hourly_surface_pressure\n",
    "\n",
    "hourly_dataframe = pd.DataFrame(data = hourly_data)\n",
    "\n",
    "# Process daily data. The order of variables needs to be the same as requested.\n",
    "daily = response.Daily()\n",
    "daily_temperature_2m_max = daily.Variables(0).ValuesAsNumpy()\n",
    "daily_temperature_2m_min = daily.Variables(1).ValuesAsNumpy()\n",
    "daily_temperature_2m_mean = daily.Variables(2).ValuesAsNumpy()\n",
    "daily_rain_sum = daily.Variables(3).ValuesAsNumpy()\n",
    "daily_snowfall_sum = daily.Variables(4).ValuesAsNumpy()\n",
    "\n",
    "daily_data = {\"DATE\": pd.date_range(\n",
    "\tstart = pd.to_datetime(daily.Time(), unit = \"s\", utc = True),\n",
    "\tend = pd.to_datetime(daily.TimeEnd(), unit = \"s\", utc = True),\n",
    "\tfreq = pd.Timedelta(seconds = daily.Interval()),\n",
    "\tinclusive = \"left\"\n",
    ").date}\n",
    "\n",
    "daily_data[\"TMAX\"] = daily_temperature_2m_max\n",
    "daily_data[\"TMIN\"] = daily_temperature_2m_min\n",
    "daily_data[\"TAVG\"] = daily_temperature_2m_mean\n",
    "daily_data[\"PRECIPITATION\"] = daily_rain_sum\n",
    "daily_data[\"SNOW\"] = daily_snowfall_sum\n",
    "\n",
    "daily_dataframe = pd.DataFrame(data = daily_data)\n",
    "\n",
    "daily_dataframe['LATITUDE'] = response.Latitude() \n",
    "daily_dataframe['LONGITUDE'] = response.Longitude()\n",
    "daily_dataframe['ELEVATION'] = response.Elevation()\n",
    "\n",
    "hourly_dataframe['DATE'] = pd.to_datetime(hourly_dataframe['DATE'])\n",
    "daily_dataframe['DATE'] = pd.to_datetime(daily_dataframe['DATE'])\n",
    "hourly_dataframe.set_index('DATE', inplace=True)\n",
    "daily_avg_pressure = hourly_dataframe['surface_pressure'].resample('D').mean()\n",
    "\n",
    "new_york_openmeteo = pd.merge(daily_dataframe, daily_avg_pressure, left_on='DATE', right_index=True, how='left')\n",
    "new_york_openmeteo['LABEL'] = new_york_openmeteo['TMAX'].shift(-3)\n",
    "\n",
    "print(new_york_openmeteo)"
   ]
  },
  {
   "cell_type": "markdown",
   "id": "115b2c64",
   "metadata": {},
   "source": [
    "#### Austin"
   ]
  },
  {
   "cell_type": "code",
   "execution_count": 9,
   "id": "015c08f4",
   "metadata": {},
   "outputs": [
    {
     "name": "stdout",
     "output_type": "stream",
     "text": [
      "           DATE       TMAX       TMIN       TAVG  PRECIPITATION  SNOW  \\\n",
      "0    2020-01-01  54.632301  47.342300  51.081051       0.000000   0.0   \n",
      "1    2020-01-02  59.762299  51.302299  54.231049       0.043307   0.0   \n",
      "2    2020-01-03  62.192299  48.602303  54.437305       0.000000   0.0   \n",
      "3    2020-01-04  68.582306  42.302299  53.526047       0.000000   0.0   \n",
      "4    2020-01-05  73.352303  48.512299  58.633549       0.000000   0.0   \n",
      "...         ...        ...        ...        ...            ...   ...   \n",
      "1546 2024-03-26  67.052299  44.552299  56.409801       0.000000   0.0   \n",
      "1547 2024-03-27  64.802299  46.172298  54.403545       0.192913   0.0   \n",
      "1548 2024-03-28  73.982300  47.342300  58.014801       0.000000   0.0   \n",
      "1549 2024-03-29  75.782303  57.332298  64.914795       0.000000   0.0   \n",
      "1550 2024-03-30        NaN        NaN        NaN            NaN   NaN   \n",
      "\n",
      "       LATITUDE  LONGITUDE  ELEVATION  surface_pressure      LABEL  \n",
      "0     30.333918 -97.807739      205.0        993.218262  68.582306  \n",
      "1     30.333918 -97.807739      205.0        981.832642  73.352303  \n",
      "2     30.333918 -97.807739      205.0        985.854980  72.092300  \n",
      "3     30.333918 -97.807739      205.0       1000.711975  66.692299  \n",
      "4     30.333918 -97.807739      205.0       1001.603943  66.422302  \n",
      "...         ...        ...        ...               ...        ...  \n",
      "1546  30.333918 -97.807739      205.0        986.403076  75.782303  \n",
      "1547  30.333918 -97.807739      205.0        992.540649        NaN  \n",
      "1548  30.333918 -97.807739      205.0        997.063721        NaN  \n",
      "1549  30.333918 -97.807739      205.0        993.171021        NaN  \n",
      "1550  30.333918 -97.807739      205.0               NaN        NaN  \n",
      "\n",
      "[1551 rows x 11 columns]\n"
     ]
    }
   ],
   "source": [
    "today = pd.Timestamp.now()\n",
    "# Subtract one day to get yesterday's date\n",
    "yesterday = today - pd.DateOffset(days=1)\n",
    "# Format yesterday's date as a string in YYYY-MM-DD format\n",
    "yesterday_str = yesterday.strftime('%Y-%m-%d')\n",
    "\n",
    "# Setup the Open-Meteo API client with cache and retry on error\n",
    "cache_session = requests_cache.CachedSession('.cache', expire_after = -1)\n",
    "retry_session = retry(cache_session, retries = 5, backoff_factor = 0.2)\n",
    "openmeteo = openmeteo_requests.Client(session = retry_session)\n",
    "\n",
    "# Make sure all required weather variables are listed here\n",
    "# The order of variables in hourly or daily is important to assign them correctly below\n",
    "url = \"https://archive-api.open-meteo.com/v1/archive\"\n",
    "params = {\n",
    "\t\"latitude\": 30.3208,\n",
    "\t\"longitude\": -97.7604,\n",
    "\t\"start_date\": \"2020-01-01\",\n",
    "\t\"end_date\": yesterday_str,\n",
    "\t\"hourly\": \"surface_pressure\",\n",
    "\t\"daily\": [\"temperature_2m_max\", \"temperature_2m_min\", \"temperature_2m_mean\", \"rain_sum\", \"snowfall_sum\"],\n",
    "\t\"temperature_unit\": \"fahrenheit\",\n",
    "\t\"wind_speed_unit\": \"mph\",\n",
    "\t\"precipitation_unit\": \"inch\"\n",
    "}\n",
    "responses = openmeteo.weather_api(url, params=params)\n",
    "\n",
    "response = responses[0]\n",
    "\n",
    "# Process hourly data. The order of variables needs to be the same as requested.\n",
    "hourly = response.Hourly()\n",
    "hourly_surface_pressure = hourly.Variables(0).ValuesAsNumpy()\n",
    "\n",
    "hourly_data = {\"DATE\": pd.date_range(\n",
    "\tstart = pd.to_datetime(hourly.Time(), unit = \"s\", utc = True),\n",
    "\tend = pd.to_datetime(hourly.TimeEnd(), unit = \"s\", utc = True),\n",
    "\tfreq = pd.Timedelta(seconds = hourly.Interval()),\n",
    "\tinclusive = \"left\"\n",
    ").date}\n",
    "\n",
    "hourly_data[\"surface_pressure\"] = hourly_surface_pressure\n",
    "\n",
    "hourly_dataframe = pd.DataFrame(data = hourly_data)\n",
    "\n",
    "# Process daily data. The order of variables needs to be the same as requested.\n",
    "daily = response.Daily()\n",
    "daily_temperature_2m_max = daily.Variables(0).ValuesAsNumpy()\n",
    "daily_temperature_2m_min = daily.Variables(1).ValuesAsNumpy()\n",
    "daily_temperature_2m_mean = daily.Variables(2).ValuesAsNumpy()\n",
    "daily_rain_sum = daily.Variables(3).ValuesAsNumpy()\n",
    "daily_snowfall_sum = daily.Variables(4).ValuesAsNumpy()\n",
    "\n",
    "daily_data = {\"DATE\": pd.date_range(\n",
    "\tstart = pd.to_datetime(daily.Time(), unit = \"s\", utc = True),\n",
    "\tend = pd.to_datetime(daily.TimeEnd(), unit = \"s\", utc = True),\n",
    "\tfreq = pd.Timedelta(seconds = daily.Interval()),\n",
    "\tinclusive = \"left\"\n",
    ").date}\n",
    "\n",
    "daily_data[\"TMAX\"] = daily_temperature_2m_max\n",
    "daily_data[\"TMIN\"] = daily_temperature_2m_min\n",
    "daily_data[\"TAVG\"] = daily_temperature_2m_mean\n",
    "daily_data[\"PRECIPITATION\"] = daily_rain_sum\n",
    "daily_data[\"SNOW\"] = daily_snowfall_sum\n",
    "\n",
    "daily_dataframe = pd.DataFrame(data = daily_data)\n",
    "\n",
    "daily_dataframe['LATITUDE'] = response.Latitude() \n",
    "daily_dataframe['LONGITUDE'] = response.Longitude()\n",
    "daily_dataframe['ELEVATION'] = response.Elevation()\n",
    "\n",
    "hourly_dataframe['DATE'] = pd.to_datetime(hourly_dataframe['DATE'])\n",
    "daily_dataframe['DATE'] = pd.to_datetime(daily_dataframe['DATE'])\n",
    "hourly_dataframe.set_index('DATE', inplace=True)\n",
    "daily_avg_pressure = hourly_dataframe['surface_pressure'].resample('D').mean()\n",
    "\n",
    "austin_openmeteo = pd.merge(daily_dataframe, daily_avg_pressure, left_on='DATE', right_index=True, how='left')\n",
    "austin_openmeteo['LABEL'] = austin_openmeteo['TMAX'].shift(-3)\n",
    "\n",
    "print(austin_openmeteo)"
   ]
  },
  {
   "cell_type": "markdown",
   "id": "f252b7f6",
   "metadata": {},
   "source": [
    "### Source 3: NCEI Bulk Download"
   ]
  },
  {
   "cell_type": "markdown",
   "id": "dc111c62",
   "metadata": {},
   "source": [
    "This source has information starting on 2020-01-01, and goes until March 16, 2024 for Miami and Chicago, and March 15, 2024 for New York City and Austin. This information was extracted by submitting an online order (free) to NCEI, which had custom variables and dates. NCEI sent a CSV file via email, then it was downloaded and is read by the program on every execution. There is a variable, source_3_constant, which is used to calculate the labels and some other operations during data pre-processing. This variable is set to the difference between March 15, 2024 and the present day, minus 1, because the model is predicting one day in the future."
   ]
  },
  {
   "cell_type": "code",
   "execution_count": 11,
   "id": "9a2f961a",
   "metadata": {},
   "outputs": [
    {
     "name": "stdout",
     "output_type": "stream",
     "text": [
      "          STATION                                NAME  LATITUDE  LONGITUDE  \\\n",
      "0     USW00012839  MIAMI INTERNATIONAL AIRPORT, FL US  25.78805  -80.31694   \n",
      "1     USW00012839  MIAMI INTERNATIONAL AIRPORT, FL US  25.78805  -80.31694   \n",
      "2     USW00012839  MIAMI INTERNATIONAL AIRPORT, FL US  25.78805  -80.31694   \n",
      "3     USW00012839  MIAMI INTERNATIONAL AIRPORT, FL US  25.78805  -80.31694   \n",
      "4     USW00012839  MIAMI INTERNATIONAL AIRPORT, FL US  25.78805  -80.31694   \n",
      "...           ...                                 ...       ...        ...   \n",
      "1532  USW00012839  MIAMI INTERNATIONAL AIRPORT, FL US  25.78805  -80.31694   \n",
      "1533  USW00012839  MIAMI INTERNATIONAL AIRPORT, FL US  25.78805  -80.31694   \n",
      "1534  USW00012839  MIAMI INTERNATIONAL AIRPORT, FL US  25.78805  -80.31694   \n",
      "1535  USW00012839  MIAMI INTERNATIONAL AIRPORT, FL US  25.78805  -80.31694   \n",
      "1536  USW00012839  MIAMI INTERNATIONAL AIRPORT, FL US  25.78805  -80.31694   \n",
      "\n",
      "      ELEVATION       DATE   AWND  PRCP  SNOW  TAVG  TMAX TMIN  LABEL  \n",
      "0           1.4 2020-01-01   4.25  0.00   NaN  70.0  82.0   61   79.0  \n",
      "1           1.4 2020-01-02   7.38  0.00   NaN  72.0  81.0   63   81.0  \n",
      "2           1.4 2020-01-03   9.62  0.00   NaN  78.0  84.0   75   76.0  \n",
      "3           1.4 2020-01-04  10.51  0.06   NaN  79.0  87.0   69   67.0  \n",
      "4           1.4 2020-01-05   9.62  0.00   NaN  67.0  72.0   58   63.0  \n",
      "...         ...        ...    ...   ...   ...   ...   ...  ...    ...  \n",
      "1532        1.4 2024-03-12   6.93  0.00   0.0  74.0  80.0   67    NaN  \n",
      "1533        1.4 2024-03-13   6.26  0.00   0.0  74.0  81.0   66    NaN  \n",
      "1534        1.4 2024-03-14   9.17  0.00   0.0  76.0  84.0   70    NaN  \n",
      "1535        1.4 2024-03-15  10.07  0.00   0.0  77.0  83.0   73    NaN  \n",
      "1536        1.4 2024-03-16    NaN   NaN   NaN  75.0   NaN  NaN    NaN  \n",
      "\n",
      "[1537 rows x 13 columns]\n",
      "          STATION                                        NAME  LATITUDE  \\\n",
      "1537  USW00094846  CHICAGO OHARE INTERNATIONAL AIRPORT, IL US  41.96017   \n",
      "1538  USW00094846  CHICAGO OHARE INTERNATIONAL AIRPORT, IL US  41.96017   \n",
      "1539  USW00094846  CHICAGO OHARE INTERNATIONAL AIRPORT, IL US  41.96017   \n",
      "1540  USW00094846  CHICAGO OHARE INTERNATIONAL AIRPORT, IL US  41.96017   \n",
      "1541  USW00094846  CHICAGO OHARE INTERNATIONAL AIRPORT, IL US  41.96017   \n",
      "...           ...                                         ...       ...   \n",
      "3069  USW00094846  CHICAGO OHARE INTERNATIONAL AIRPORT, IL US  41.96017   \n",
      "3070  USW00094846  CHICAGO OHARE INTERNATIONAL AIRPORT, IL US  41.96017   \n",
      "3071  USW00094846  CHICAGO OHARE INTERNATIONAL AIRPORT, IL US  41.96017   \n",
      "3072  USW00094846  CHICAGO OHARE INTERNATIONAL AIRPORT, IL US  41.96017   \n",
      "3073  USW00094846  CHICAGO OHARE INTERNATIONAL AIRPORT, IL US  41.96017   \n",
      "\n",
      "      LONGITUDE  ELEVATION       DATE   AWND  PRCP  SNOW  TAVG  TMAX TMIN  \\\n",
      "1537  -87.93164      204.8 2020-01-01  11.86  0.00   0.0  28.0  42.0   21   \n",
      "1538  -87.93164      204.8 2020-01-02  11.63  0.00   0.0  42.0  48.0   37   \n",
      "1539  -87.93164      204.8 2020-01-03   6.04  0.00   0.0  38.0  41.0   33   \n",
      "1540  -87.93164      204.8 2020-01-04   9.17  0.03   0.5  32.0  33.0   26   \n",
      "1541  -87.93164      204.8 2020-01-05  13.87  0.00   0.0  31.0  42.0   24   \n",
      "...         ...        ...        ...    ...   ...   ...   ...   ...  ...   \n",
      "3069  -87.93164      204.8 2024-03-12  12.75  0.00   0.0  58.0  71.0   47   \n",
      "3070  -87.93164      204.8 2024-03-13   8.05  0.00   0.0  59.0  69.0   48   \n",
      "3071  -87.93164      204.8 2024-03-14  12.97  0.43   0.0  52.0  64.0   40   \n",
      "3072  -87.93164      204.8 2024-03-15   8.95  0.00   0.0  43.0  54.0   37   \n",
      "3073  -87.93164      204.8 2024-03-16    NaN   NaN   NaN  42.0   NaN  NaN   \n",
      "\n",
      "      LABEL  \n",
      "1537   35.0  \n",
      "1538   19.0  \n",
      "1539   31.0  \n",
      "1540   29.0  \n",
      "1541   34.0  \n",
      "...     ...  \n",
      "3069    NaN  \n",
      "3070    NaN  \n",
      "3071    NaN  \n",
      "3072    NaN  \n",
      "3073    NaN  \n",
      "\n",
      "[1537 rows x 13 columns]\n",
      "          STATION                         NAME  LATITUDE  LONGITUDE  \\\n",
      "3074  USW00094728  NY CITY CENTRAL PARK, NY US  40.77898  -73.96925   \n",
      "3075  USW00094728  NY CITY CENTRAL PARK, NY US  40.77898  -73.96925   \n",
      "3076  USW00094728  NY CITY CENTRAL PARK, NY US  40.77898  -73.96925   \n",
      "3077  USW00094728  NY CITY CENTRAL PARK, NY US  40.77898  -73.96925   \n",
      "3078  USW00094728  NY CITY CENTRAL PARK, NY US  40.77898  -73.96925   \n",
      "...           ...                          ...       ...        ...   \n",
      "4605  USW00094728  NY CITY CENTRAL PARK, NY US  40.77898  -73.96925   \n",
      "4606  USW00094728  NY CITY CENTRAL PARK, NY US  40.77898  -73.96925   \n",
      "4607  USW00094728  NY CITY CENTRAL PARK, NY US  40.77898  -73.96925   \n",
      "4608  USW00094728  NY CITY CENTRAL PARK, NY US  40.77898  -73.96925   \n",
      "4609  USW00094728  NY CITY CENTRAL PARK, NY US  40.77898  -73.96925   \n",
      "\n",
      "      ELEVATION       DATE   AWND  PRCP  SNOW  TAVG  TMAX TMIN  LABEL  \n",
      "3074       42.7 2020-01-01   8.50  0.00   0.0   NaN  41.0   34   37.0  \n",
      "3075       42.7 2020-01-02   5.37  0.00   0.0   NaN  49.0   33   43.0  \n",
      "3076       42.7 2020-01-03   3.36  0.15   0.0   NaN  49.0   44   31.0  \n",
      "3077       42.7 2020-01-04   4.47  0.27   0.0   NaN  51.0   41   33.0  \n",
      "3078       42.7 2020-01-05  11.41  0.00   0.0   NaN  42.0   35   38.0  \n",
      "...         ...        ...    ...   ...   ...   ...   ...  ...    ...  \n",
      "4605       42.7 2024-03-11  12.75  0.00   0.0   NaN  52.0   35    NaN  \n",
      "4606       42.7 2024-03-12   6.04  0.00   0.0   NaN  66.0   43    NaN  \n",
      "4607       42.7 2024-03-13   3.58  0.00   0.0   NaN  62.0   48    NaN  \n",
      "4608       42.7 2024-03-14   2.46  0.00   0.0   NaN  74.0   46    NaN  \n",
      "4609       42.7 2024-03-15    NaN  0.00   0.0   NaN  73.0   51    NaN  \n",
      "\n",
      "[1536 rows x 13 columns]\n",
      "          STATION                      NAME  LATITUDE  LONGITUDE  ELEVATION  \\\n",
      "4610  USW00013958  AUSTIN CAMP MABRY, TX US   30.3208   -97.7604      204.2   \n",
      "4611  USW00013958  AUSTIN CAMP MABRY, TX US   30.3208   -97.7604      204.2   \n",
      "4612  USW00013958  AUSTIN CAMP MABRY, TX US   30.3208   -97.7604      204.2   \n",
      "4613  USW00013958  AUSTIN CAMP MABRY, TX US   30.3208   -97.7604      204.2   \n",
      "4614  USW00013958  AUSTIN CAMP MABRY, TX US   30.3208   -97.7604      204.2   \n",
      "...           ...                       ...       ...        ...        ...   \n",
      "6133  USW00013958  AUSTIN CAMP MABRY, TX US   30.3208   -97.7604      204.2   \n",
      "6134  USW00013958  AUSTIN CAMP MABRY, TX US   30.3208   -97.7604      204.2   \n",
      "6135  USW00013958  AUSTIN CAMP MABRY, TX US   30.3208   -97.7604      204.2   \n",
      "6136  USW00013958  AUSTIN CAMP MABRY, TX US   30.3208   -97.7604      204.2   \n",
      "6137  USW00013958  AUSTIN CAMP MABRY, TX US   30.3208   -97.7604      204.2   \n",
      "\n",
      "           DATE  AWND  PRCP  SNOW  TAVG  TMAX TMIN  LABEL  \n",
      "4610 2020-01-01  3.58  0.00   0.0   NaN  58.0   50   70.0  \n",
      "4611 2020-01-02  2.91  0.00   0.0   NaN  60.0   49   58.0  \n",
      "4612 2020-01-03  6.71  0.00   0.0   NaN  66.0   49   62.0  \n",
      "4613 2020-01-04  4.25  0.00   0.0   NaN  73.0   44   62.0  \n",
      "4614 2020-01-05  2.68  0.00   0.0   NaN  76.0   45   59.0  \n",
      "...         ...   ...   ...   ...   ...   ...  ...    ...  \n",
      "6133 2024-03-11  3.80  0.00   0.0   NaN  75.0   54    NaN  \n",
      "6134 2024-03-12  5.37  0.00   0.0   NaN  79.0   58    NaN  \n",
      "6135 2024-03-13  7.38  0.00   0.0   NaN  84.0   67    NaN  \n",
      "6136 2024-03-14  7.61  0.01   0.0   NaN  80.0   70    NaN  \n",
      "6137 2024-03-15  6.04  0.02   NaN   NaN  76.0   64    NaN  \n",
      "\n",
      "[1528 rows x 13 columns]\n"
     ]
    }
   ],
   "source": [
    "from datetime import date\n",
    "date_today = date.today()\n",
    "date_target = date(2024, 3, 15)\n",
    "\n",
    "# Calculate the difference in days\n",
    "source_3_constant = (date_today - date_target).days + 1\n",
    "source_3_constant *= -1\n",
    "\n",
    "df = pd.read_csv('NCEI Historical Data.csv')\n",
    "df['DATE'] = pd.to_datetime(df['DATE'])\n",
    "\n",
    "miami_NCEI = df[df['STATION'] == 'USW00012839'].copy(deep=True)\n",
    "miami_NCEI['LABEL'] = miami_NCEI['TMAX'].shift(source_3_constant)\n",
    "\n",
    "chicago_NCEI = df[df['STATION'] == 'USW00094846'].copy(deep=True)\n",
    "chicago_NCEI['LABEL'] = chicago_NCEI['TMAX'].shift(source_3_constant)\n",
    "\n",
    "new_york_NCEI = df[df['STATION'] == 'USW00094728'].copy(deep=True)\n",
    "new_york_NCEI['LABEL'] = new_york_NCEI['TMAX'].shift(source_3_constant)\n",
    "\n",
    "austin_NCEI = df[df['STATION'] == 'USW00013958'].copy(deep=True)\n",
    "austin_NCEI.iloc[-1, 11] = 64\n",
    "austin_NCEI['LABEL'] = austin_NCEI['TMAX'].shift(source_3_constant)\n",
    "\n",
    "print(miami_NCEI)\n",
    "print(chicago_NCEI)\n",
    "print(new_york_NCEI)\n",
    "print(austin_NCEI)"
   ]
  },
  {
   "cell_type": "markdown",
   "id": "8041fbd0",
   "metadata": {},
   "source": [
    "### Source 4: Visual Crossing API"
   ]
  },
  {
   "cell_type": "markdown",
   "id": "f06e7b38",
   "metadata": {},
   "source": [
    "This source only has data for the last 7 days before the present day. There is a possibility to get the whole range since 2020 but it would cost money to complete each request. This data is extremely accurate, and it is extracted through an API using an API key provided with a free account. The API key is hard-coded. This source has all the desired features right away, so the parsing process is fairly simple."
   ]
  },
  {
   "cell_type": "markdown",
   "id": "307b954b",
   "metadata": {},
   "source": [
    "#### Miami"
   ]
  },
  {
   "cell_type": "code",
   "execution_count": 12,
   "id": "bf145c8e",
   "metadata": {},
   "outputs": [
    {
     "name": "stdout",
     "output_type": "stream",
     "text": [
      "            max_temperature  min_temperature  average_temperature  \\\n",
      "date                                                                \n",
      "2024-03-24             80.9             64.1                 72.2   \n",
      "2024-03-25             79.1             71.9                 74.9   \n",
      "2024-03-26             80.9             73.1                 76.4   \n",
      "2024-03-27             82.1             73.1                 77.1   \n",
      "2024-03-28             84.8             74.0                 79.4   \n",
      "2024-03-29             80.0             64.9                 71.9   \n",
      "2024-03-30             77.0             64.8                 71.7   \n",
      "\n",
      "            average_pressure  total_precipitation  average_wind_speed  snow  \\\n",
      "date                                                                          \n",
      "2024-03-24            1010.4                0.000                12.8   0.0   \n",
      "2024-03-25            1014.6                0.051                23.0   0.0   \n",
      "2024-03-26            1014.1                0.000                18.3   0.0   \n",
      "2024-03-27            1014.0                0.000                15.0   0.0   \n",
      "2024-03-28            1012.0                0.000                21.9   0.0   \n",
      "2024-03-29            1018.3                0.000                19.5   0.0   \n",
      "2024-03-30            1020.5                0.000                12.7   0.0   \n",
      "\n",
      "            humidity  label  \n",
      "date                         \n",
      "2024-03-24      67.8   80.9  \n",
      "2024-03-25      65.5   82.1  \n",
      "2024-03-26      68.8   84.8  \n",
      "2024-03-27      76.0   80.0  \n",
      "2024-03-28      67.6   77.0  \n",
      "2024-03-29      60.2    NaN  \n",
      "2024-03-30      53.9    NaN  \n"
     ]
    }
   ],
   "source": [
    "latitude = 25.78805\n",
    "longitude = -80.31694\n",
    "\n",
    "# Calculate yesterday's date, setting the time to 11:59 PM\n",
    "yesterday = datetime.now() - timedelta(1)\n",
    "end_date = yesterday.strftime('%Y-%m-%d')\n",
    "\n",
    "# Calculate the start date as today minus 7 days, setting the time to 00:00 AM\n",
    "week_ago = datetime.now() - timedelta(7)\n",
    "start_date = week_ago.strftime('%Y-%m-%d')\n",
    "\n",
    "# Modify the URL to include start and end parameters\n",
    "observations_url = f\"https://weather.visualcrossing.com/VisualCrossingWebServices/rest/services/timeline/{latitude}%2C%20{longitude}/{start_date}/{end_date}?unitGroup=us&include=days&key=TW5AN5ZG45LSGQWZ44C74S8YN&contentType=json\"\n",
    "\n",
    "# Make the API request\n",
    "observations_response = requests.get(observations_url)\n",
    "observations_data = observations_response.json()\n",
    "\n",
    "# Compile the final results\n",
    "daily_results = {}\n",
    "for day in observations_data['days']:\n",
    "    daily_results[day['datetime']] = {\n",
    "        'max_temperature': day['tempmax'],\n",
    "        'min_temperature': day['tempmin'],\n",
    "        'average_temperature': day['temp'],\n",
    "        'average_pressure': day['pressure'],\n",
    "        'total_precipitation': day['precip'],\n",
    "        'average_wind_speed': day['windspeed'],\n",
    "        'snow': day['snow'],\n",
    "        'humidity': day['humidity'],\n",
    "    }\n",
    "\n",
    "# Convert the daily_results dictionary to a DataFrame\n",
    "daily_results_df = pd.DataFrame.from_dict(daily_results, orient='index')\n",
    "daily_results_df.index.name = 'date'\n",
    "daily_results_df['label'] = daily_results_df['max_temperature'].shift(-2)\n",
    "\n",
    "miami_visualcrossing = daily_results_df.copy(deep=True)\n",
    "print(miami_visualcrossing)"
   ]
  },
  {
   "cell_type": "markdown",
   "id": "0548f5c6",
   "metadata": {},
   "source": [
    "#### New York"
   ]
  },
  {
   "cell_type": "code",
   "execution_count": 13,
   "id": "21980374",
   "metadata": {},
   "outputs": [
    {
     "name": "stdout",
     "output_type": "stream",
     "text": [
      "            max_temperature  min_temperature  average_temperature  \\\n",
      "date                                                                \n",
      "2024-03-24             47.9             30.8                 38.6   \n",
      "2024-03-25             51.2             35.0                 42.7   \n",
      "2024-03-26             53.0             38.9                 45.5   \n",
      "2024-03-27             52.1             42.2                 46.7   \n",
      "2024-03-28             51.2             44.9                 48.4   \n",
      "2024-03-29             55.8             42.1                 46.8   \n",
      "2024-03-30             61.1             40.9                 49.7   \n",
      "\n",
      "            average_pressure  total_precipitation  average_wind_speed  snow  \\\n",
      "date                                                                          \n",
      "2024-03-24            1022.8                0.000                16.1   0.0   \n",
      "2024-03-25            1029.8                0.000                23.0   0.0   \n",
      "2024-03-26            1022.9                0.000                12.8   0.0   \n",
      "2024-03-27            1019.1                0.024                 8.1   0.0   \n",
      "2024-03-28            1013.9                0.734                11.2   0.0   \n",
      "2024-03-29            1007.4                0.000                28.6   0.0   \n",
      "2024-03-30            1008.0                0.012                17.6   0.0   \n",
      "\n",
      "            humidity  label  \n",
      "date                         \n",
      "2024-03-24      39.7   53.0  \n",
      "2024-03-25      42.6   52.1  \n",
      "2024-03-26      53.3   51.2  \n",
      "2024-03-27      74.8   55.8  \n",
      "2024-03-28      86.0   61.1  \n",
      "2024-03-29      37.3    NaN  \n",
      "2024-03-30      39.8    NaN  \n"
     ]
    }
   ],
   "source": [
    "latitude = 40.77898\n",
    "longitude = -73.96925\n",
    "\n",
    "# Calculate yesterday's date, setting the time to 11:59 PM\n",
    "yesterday = datetime.now() - timedelta(1)\n",
    "end_date = yesterday.strftime('%Y-%m-%d')\n",
    "\n",
    "# Calculate the start date as today minus 7 days, setting the time to 00:00 AM\n",
    "week_ago = datetime.now() - timedelta(7)\n",
    "start_date = week_ago.strftime('%Y-%m-%d')\n",
    "\n",
    "# Modify the URL to include start and end parameters\n",
    "observations_url = f\"https://weather.visualcrossing.com/VisualCrossingWebServices/rest/services/timeline/{latitude}%2C%20{longitude}/{start_date}/{end_date}?unitGroup=us&include=days&key=TW5AN5ZG45LSGQWZ44C74S8YN&contentType=json\"\n",
    "\n",
    "# Make the API request\n",
    "observations_response = requests.get(observations_url)\n",
    "observations_data = observations_response.json()\n",
    "\n",
    "# Compile the final results\n",
    "daily_results = {}\n",
    "for day in observations_data['days']:\n",
    "    daily_results[day['datetime']] = {\n",
    "        'max_temperature': day['tempmax'],\n",
    "        'min_temperature': day['tempmin'],\n",
    "        'average_temperature': day['temp'],\n",
    "        'average_pressure': day['pressure'],\n",
    "        'total_precipitation': day['precip'],\n",
    "        'average_wind_speed': day['windspeed'],\n",
    "        'snow': day['snow'],\n",
    "        'humidity': day['humidity'],\n",
    "    }\n",
    "\n",
    "# Convert the daily_results dictionary to a DataFrame\n",
    "daily_results_df = pd.DataFrame.from_dict(daily_results, orient='index')\n",
    "daily_results_df.index.name = 'date'\n",
    "daily_results_df['label'] = daily_results_df['max_temperature'].shift(-2)\n",
    "\n",
    "ny_visualcrossing = daily_results_df.copy(deep=True)\n",
    "print(ny_visualcrossing)"
   ]
  },
  {
   "cell_type": "markdown",
   "id": "e910617c",
   "metadata": {},
   "source": [
    "#### Chicago"
   ]
  },
  {
   "cell_type": "code",
   "execution_count": 14,
   "id": "8b34a705",
   "metadata": {},
   "outputs": [
    {
     "name": "stdout",
     "output_type": "stream",
     "text": [
      "            max_temperature  min_temperature  average_temperature  \\\n",
      "date                                                                \n",
      "2024-03-24             47.0             33.2                 40.1   \n",
      "2024-03-25             62.0             44.9                 52.9   \n",
      "2024-03-26             55.1             34.1                 46.9   \n",
      "2024-03-27             42.2             29.0                 34.6   \n",
      "2024-03-28             50.1             29.0                 39.4   \n",
      "2024-03-29             52.9             33.1                 42.1   \n",
      "2024-03-30             60.9             39.9                 48.1   \n",
      "\n",
      "            average_pressure  total_precipitation  average_wind_speed  snow  \\\n",
      "date                                                                          \n",
      "2024-03-24            1019.1                0.000                21.9   0.0   \n",
      "2024-03-25            1006.4                0.134                24.2   0.0   \n",
      "2024-03-26             999.4                0.473                26.4   0.0   \n",
      "2024-03-27            1016.3                0.000                20.8   0.0   \n",
      "2024-03-28            1019.2                0.000                15.0   0.0   \n",
      "2024-03-29            1016.8                0.011                12.5   0.0   \n",
      "2024-03-30            1009.4                0.334                15.9   0.0   \n",
      "\n",
      "            humidity  label  \n",
      "date                         \n",
      "2024-03-24      45.9   55.1  \n",
      "2024-03-25      55.9   42.2  \n",
      "2024-03-26      81.0   50.1  \n",
      "2024-03-27      60.8   52.9  \n",
      "2024-03-28      55.7   60.9  \n",
      "2024-03-29      51.5    NaN  \n",
      "2024-03-30      82.3    NaN  \n"
     ]
    }
   ],
   "source": [
    "latitude = 41.96017\n",
    "longitude = -87.93164\n",
    "\n",
    "# Calculate yesterday's date, setting the time to 11:59 PM\n",
    "yesterday = datetime.now() - timedelta(1)\n",
    "end_date = yesterday.strftime('%Y-%m-%d')\n",
    "\n",
    "# Calculate the start date as today minus 7 days, setting the time to 00:00 AM\n",
    "week_ago = datetime.now() - timedelta(7)\n",
    "start_date = week_ago.strftime('%Y-%m-%d')\n",
    "\n",
    "# Modify the URL to include start and end parameters\n",
    "observations_url = f\"https://weather.visualcrossing.com/VisualCrossingWebServices/rest/services/timeline/{latitude}%2C%20{longitude}/{start_date}/{end_date}?unitGroup=us&include=days&key=TW5AN5ZG45LSGQWZ44C74S8YN&contentType=json\"\n",
    "\n",
    "# Make the API request\n",
    "observations_response = requests.get(observations_url)\n",
    "observations_data = observations_response.json()\n",
    "\n",
    "# Compile the final results\n",
    "daily_results = {}\n",
    "for day in observations_data['days']:\n",
    "    daily_results[day['datetime']] = {\n",
    "        'max_temperature': day['tempmax'],\n",
    "        'min_temperature': day['tempmin'],\n",
    "        'average_temperature': day['temp'],\n",
    "        'average_pressure': day['pressure'],\n",
    "        'total_precipitation': day['precip'],\n",
    "        'average_wind_speed': day['windspeed'],\n",
    "        'snow': day['snow'],\n",
    "        'humidity': day['humidity'],\n",
    "    }\n",
    "\n",
    "# Convert the daily_results dictionary to a DataFrame\n",
    "daily_results_df = pd.DataFrame.from_dict(daily_results, orient='index')\n",
    "daily_results_df.index.name = 'date'\n",
    "daily_results_df['label'] = daily_results_df['max_temperature'].shift(-2)\n",
    "\n",
    "chicago_visualcrossing = daily_results_df.copy(deep=True)\n",
    "print(chicago_visualcrossing)"
   ]
  },
  {
   "cell_type": "markdown",
   "id": "49b0e68b",
   "metadata": {},
   "source": [
    "#### Austin"
   ]
  },
  {
   "cell_type": "code",
   "execution_count": 15,
   "id": "ca01f65e",
   "metadata": {},
   "outputs": [
    {
     "name": "stdout",
     "output_type": "stream",
     "text": [
      "            max_temperature  min_temperature  average_temperature  \\\n",
      "date                                                                \n",
      "2024-03-24             71.9             59.1                 65.3   \n",
      "2024-03-25             78.2             56.9                 67.6   \n",
      "2024-03-26             69.2             46.1                 58.7   \n",
      "2024-03-27             65.0             48.8                 54.7   \n",
      "2024-03-28             78.2             44.9                 61.7   \n",
      "2024-03-29             79.1             56.0                 66.3   \n",
      "2024-03-30             75.8             62.3                 68.9   \n",
      "\n",
      "            average_pressure  total_precipitation  average_wind_speed  snow  \\\n",
      "date                                                                          \n",
      "2024-03-24            1005.6                0.000                13.9   0.0   \n",
      "2024-03-25            1000.3                0.118                14.9   0.0   \n",
      "2024-03-26            1012.5                0.000                11.5   0.0   \n",
      "2024-03-27            1018.2                0.071                 6.9   0.0   \n",
      "2024-03-28            1021.5                0.000                11.8   0.0   \n",
      "2024-03-29            1016.2                0.000                15.0   0.0   \n",
      "2024-03-30            1013.5                0.000                12.8   0.0   \n",
      "\n",
      "            humidity  label  \n",
      "date                         \n",
      "2024-03-24      76.3   69.2  \n",
      "2024-03-25      59.0   65.0  \n",
      "2024-03-26      41.9   78.2  \n",
      "2024-03-27      70.1   79.1  \n",
      "2024-03-28      68.1   75.8  \n",
      "2024-03-29      71.6    NaN  \n",
      "2024-03-30      78.2    NaN  \n"
     ]
    }
   ],
   "source": [
    "latitude = 30.3208\n",
    "longitude = -97.7604\n",
    "\n",
    "# Calculate yesterday's date, setting the time to 11:59 PM\n",
    "yesterday = datetime.now() - timedelta(1)\n",
    "end_date = yesterday.strftime('%Y-%m-%d')\n",
    "\n",
    "# Calculate the start date as today minus 7 days, setting the time to 00:00 AM\n",
    "week_ago = datetime.now() - timedelta(7)\n",
    "start_date = week_ago.strftime('%Y-%m-%d')\n",
    "\n",
    "# Modify the URL to include start and end parameters\n",
    "observations_url = f\"https://weather.visualcrossing.com/VisualCrossingWebServices/rest/services/timeline/{latitude}%2C%20{longitude}/{start_date}/{end_date}?unitGroup=us&include=days&key=TW5AN5ZG45LSGQWZ44C74S8YN&contentType=json\"\n",
    "\n",
    "# Make the API request\n",
    "observations_response = requests.get(observations_url)\n",
    "observations_data = observations_response.json()\n",
    "\n",
    "# Calculate averages and compile the final results\n",
    "daily_results = {}\n",
    "for day in observations_data['days']:\n",
    "    daily_results[day['datetime']] = {\n",
    "        'max_temperature': day['tempmax'],\n",
    "        'min_temperature': day['tempmin'],\n",
    "        'average_temperature': day['temp'],\n",
    "        'average_pressure': day['pressure'],\n",
    "        'total_precipitation': day['precip'],\n",
    "        'average_wind_speed': day['windspeed'],\n",
    "        'snow': day['snow'],\n",
    "        'humidity': day['humidity'],\n",
    "    }\n",
    "\n",
    "# Convert the daily_results dictionary to a DataFrame\n",
    "daily_results_df = pd.DataFrame.from_dict(daily_results, orient='index')\n",
    "daily_results_df.index.name = 'date'\n",
    "daily_results_df['label'] = daily_results_df['max_temperature'].shift(-2)\n",
    "\n",
    "austin_visualcrossing = daily_results_df.copy(deep=True)\n",
    "print(austin_visualcrossing)"
   ]
  },
  {
   "cell_type": "markdown",
   "id": "f876fe42",
   "metadata": {},
   "source": [
    "### Source 5: Meteostat API"
   ]
  },
  {
   "cell_type": "markdown",
   "id": "48847d9a",
   "metadata": {},
   "source": [
    "This source has the entire time-frame desired and is the source that updates fastest. This API has a Python library implemented, so the implementation was simplified using the sample code in the documentation. After receiving the information, few adjustments are made to only get the desired features. Due to the nature of this library, the date for 1 day in the past of the present day is calculated manually to pass as an attribute to the library."
   ]
  },
  {
   "cell_type": "code",
   "execution_count": 16,
   "id": "1d92d174",
   "metadata": {},
   "outputs": [
    {
     "name": "stdout",
     "output_type": "stream",
     "text": [
      "2024 3 31\n"
     ]
    }
   ],
   "source": [
    "# Get today's dat to calculate yesterday's date later\n",
    "now = datetime.now()\n",
    "current_year = now.year\n",
    "current_month = now.month\n",
    "current_day = now.day\n",
    "print(current_year, current_month, current_day)"
   ]
  },
  {
   "cell_type": "markdown",
   "id": "7202f09d",
   "metadata": {},
   "source": [
    "#### Miami"
   ]
  },
  {
   "cell_type": "code",
   "execution_count": 17,
   "id": "abddb965",
   "metadata": {},
   "outputs": [
    {
     "name": "stdout",
     "output_type": "stream",
     "text": [
      "            TAVG  TMIN  TMAX  PRECIPITATION  SNOW  WIND_SPEED  PRESSURE  LABEL\n",
      "DATE                                                                          \n",
      "2020-01-01  70.2  61.0  82.0          0.000   0.0         4.2    1017.6   84.0\n",
      "2020-01-02  72.3  63.0  81.0          0.000   0.0         7.4    1017.8   87.1\n",
      "2020-01-03  77.9  75.0  84.0          0.000   0.0         9.6    1018.3   72.0\n",
      "2020-01-04  79.3  69.1  87.1          0.059   0.0        10.5    1018.5   75.0\n",
      "2020-01-05  66.6  57.9  72.0          0.000   0.0         9.6    1023.4   79.0\n",
      "...          ...   ...   ...            ...   ...         ...       ...    ...\n",
      "2024-03-26  79.0  73.9  84.9          0.000   NaN        12.9    1014.3   88.0\n",
      "2024-03-27  77.9  72.0  84.9          0.000   NaN        11.1    1014.1   88.0\n",
      "2024-03-28  78.4  72.0  88.0          0.000   NaN        11.4    1012.2   84.0\n",
      "2024-03-29  76.6  73.0  88.0          0.091   NaN         9.3    1018.7    NaN\n",
      "2024-03-30  76.6  70.0  84.0          1.031   NaN         7.8    1020.7    NaN\n",
      "\n",
      "[1551 rows x 8 columns]\n"
     ]
    }
   ],
   "source": [
    "# Set time period\n",
    "start = datetime(2020, 1, 1)\n",
    "end = datetime(current_year, current_month, current_day-1)\n",
    "\n",
    "Miami = Point(25.78805, -80.31694)\n",
    "\n",
    "data = Daily(Miami, start, end)\n",
    "data = data.convert(units.imperial)\n",
    "data = data.fetch()\n",
    "\n",
    "data.rename(columns={'tavg': 'TAVG', 'tmin': 'TMIN', 'tmax': 'TMAX', 'prcp': 'PRECIPITATION', 'snow': 'SNOW', 'wspd': 'WIND_SPEED', 'pres': 'PRESSURE'}, inplace=True)\n",
    "data = data.drop(['wdir', 'wpgt', 'tsun'], axis=1)\n",
    "data = data.rename_axis('DATE', axis='index')\n",
    "\n",
    "miami_meteostat = data.copy(deep=True)\n",
    "miami_meteostat['LABEL'] = miami_meteostat['TMAX'].shift(-2)\n",
    "\n",
    "print(miami_meteostat)"
   ]
  },
  {
   "cell_type": "markdown",
   "id": "41a3c172",
   "metadata": {},
   "source": [
    "#### Chicago"
   ]
  },
  {
   "cell_type": "code",
   "execution_count": 18,
   "id": "86c183f4",
   "metadata": {},
   "outputs": [
    {
     "name": "stdout",
     "output_type": "stream",
     "text": [
      "            TAVG  TMIN  TMAX  PRECIPITATION   SNOW  WIND_SPEED  PRESSURE  \\\n",
      "DATE                                                                       \n",
      "2020-01-01  28.2  21.2  42.1          0.000  0.000        11.9    1006.5   \n",
      "2020-01-02  41.7  37.0  48.0          0.000  0.000        11.6    1001.8   \n",
      "2020-01-03  38.5  33.1  41.0          0.000  0.000         6.0    1009.4   \n",
      "2020-01-04  31.8  26.2  33.1          0.031  1.181         9.2    1016.1   \n",
      "2020-01-05  30.7  24.3  42.1          0.000  0.000        13.9    1015.5   \n",
      "...          ...   ...   ...            ...    ...         ...       ...   \n",
      "2024-03-26  42.6  37.9  54.0          0.000    NaN        18.8    1000.0   \n",
      "2024-03-27  38.1  33.1  51.1          0.000    NaN        13.0    1016.5   \n",
      "2024-03-28  42.1  33.1  50.0          0.000    NaN         7.7    1019.0   \n",
      "2024-03-29  53.4  37.9  66.0          0.000    NaN         7.6    1016.5   \n",
      "2024-03-30  57.6  46.9  68.0          0.079    NaN         8.4    1009.1   \n",
      "\n",
      "            LABEL  \n",
      "DATE               \n",
      "2020-01-01   41.0  \n",
      "2020-01-02   33.1  \n",
      "2020-01-03   42.1  \n",
      "2020-01-04   42.1  \n",
      "2020-01-05   39.9  \n",
      "...           ...  \n",
      "2024-03-26   50.0  \n",
      "2024-03-27   66.0  \n",
      "2024-03-28   68.0  \n",
      "2024-03-29    NaN  \n",
      "2024-03-30    NaN  \n",
      "\n",
      "[1551 rows x 8 columns]\n"
     ]
    }
   ],
   "source": [
    "# Set time period\n",
    "start = datetime(2020, 1, 1)\n",
    "end = datetime(current_year, current_month, current_day-1)\n",
    "\n",
    "Chicago = Point(41.96017, -87.93164)\n",
    "\n",
    "data = Daily(Chicago, start, end)\n",
    "data = data.convert(units.imperial)\n",
    "data = data.fetch()\n",
    "\n",
    "data.rename(columns={'tavg': 'TAVG', 'tmin': 'TMIN', 'tmax': 'TMAX', 'prcp': 'PRECIPITATION', 'snow': 'SNOW', 'wspd': 'WIND_SPEED', 'pres': 'PRESSURE'}, inplace=True)\n",
    "data = data.drop(['wdir', 'wpgt', 'tsun'], axis=1)\n",
    "data = data.rename_axis('DATE', axis='index')\n",
    "\n",
    "chicago_meteostat = data.copy(deep=True)\n",
    "chicago_meteostat['LABEL'] = chicago_meteostat['TMAX'].shift(-2)\n",
    "\n",
    "print(chicago_meteostat)"
   ]
  },
  {
   "cell_type": "markdown",
   "id": "123163e2",
   "metadata": {},
   "source": [
    "#### New York"
   ]
  },
  {
   "cell_type": "code",
   "execution_count": 19,
   "id": "5a4ca81f",
   "metadata": {},
   "outputs": [
    {
     "name": "stdout",
     "output_type": "stream",
     "text": [
      "            TAVG  TMIN  TMAX  PRECIPITATION  SNOW  WIND_SPEED  PRESSURE  LABEL\n",
      "DATE                                                                          \n",
      "2020-01-01  38.5  35.1  41.0          0.000   0.0        10.8    1008.2   46.9\n",
      "2020-01-02  40.5  33.1  48.0          0.000   0.0         7.7    1013.9   48.9\n",
      "2020-01-03  45.7  44.1  46.9          0.110   0.0         5.2    1010.2   45.0\n",
      "2020-01-04  46.8  44.1  48.9          0.209   0.0         3.5    1003.7   46.0\n",
      "2020-01-05  40.3  37.0  45.0          0.000   0.0         5.1    1010.1   44.1\n",
      "...          ...   ...   ...            ...   ...         ...       ...    ...\n",
      "2024-03-26  44.6  32.9  53.6          0.000   NaN         6.9    1023.3   51.8\n",
      "2024-03-27  46.6  42.1  51.8          0.071   NaN         3.7    1019.5   55.9\n",
      "2024-03-28  48.4  45.0  51.8          0.752   NaN         4.5    1014.0   56.5\n",
      "2024-03-29  46.6  38.7  55.9          0.008   NaN        11.9    1007.5    NaN\n",
      "2024-03-30  45.5  36.1  56.5          0.024   NaN        13.4    1009.2    NaN\n",
      "\n",
      "[1551 rows x 8 columns]\n"
     ]
    }
   ],
   "source": [
    "# Set time period\n",
    "start = datetime(2020, 1, 1)\n",
    "end = datetime(current_year, current_month, current_day-1)\n",
    "\n",
    "New_York = Point(40.77898, -73.96925)\n",
    "\n",
    "data = Daily(New_York, start, end)\n",
    "data = data.convert(units.imperial)\n",
    "data = data.fetch()\n",
    "\n",
    "data.rename(columns={'tavg': 'TAVG', 'tmin': 'TMIN', 'tmax': 'TMAX', 'prcp': 'PRECIPITATION', 'snow': 'SNOW', 'wspd': 'WIND_SPEED', 'pres': 'PRESSURE'}, inplace=True)\n",
    "data = data.drop(['wdir', 'wpgt', 'tsun'], axis=1)\n",
    "data = data.rename_axis('DATE', axis='index')\n",
    "\n",
    "new_york_meteostat = data.copy(deep=True)\n",
    "new_york_meteostat['LABEL'] = new_york_meteostat['TMAX'].shift(-2)\n",
    "\n",
    "print(new_york_meteostat)"
   ]
  },
  {
   "cell_type": "markdown",
   "id": "72b42abb",
   "metadata": {},
   "source": [
    "#### Austin"
   ]
  },
  {
   "cell_type": "code",
   "execution_count": 20,
   "id": "d6558ce1",
   "metadata": {},
   "outputs": [
    {
     "name": "stdout",
     "output_type": "stream",
     "text": [
      "            TAVG  TMIN  TMAX  PRECIPITATION  SNOW  WIND_SPEED  PRESSURE  LABEL\n",
      "DATE                                                                          \n",
      "2020-01-01  54.0  50.0  57.9          0.000   0.0         3.6    1014.9   66.0\n",
      "2020-01-02  54.7  48.9  60.1          0.000   0.0         2.9    1004.7   73.0\n",
      "2020-01-03  55.9  48.9  66.0          0.000   0.0         6.7    1014.6   75.9\n",
      "2020-01-04  55.6  44.1  73.0          0.000   0.0         4.2    1026.9   75.9\n",
      "2020-01-05  59.0  45.0  75.9          0.000   0.0         2.7    1025.2   69.1\n",
      "...          ...   ...   ...            ...   ...         ...       ...    ...\n",
      "2024-03-26  57.7  46.4  69.8          0.000   NaN         4.9    1012.8   78.1\n",
      "2024-03-27  54.5  48.2  64.4          0.039   NaN         2.7    1018.6   78.8\n",
      "2024-03-28  62.2  45.0  78.1          0.000   NaN         3.7    1021.5   79.5\n",
      "2024-03-29  66.6  55.4  78.8          0.000   NaN         7.3    1016.2    NaN\n",
      "2024-03-30  70.3  62.6  79.5          0.000   NaN         7.2    1013.4    NaN\n",
      "\n",
      "[1551 rows x 8 columns]\n"
     ]
    }
   ],
   "source": [
    "# Set time period\n",
    "start = datetime(2020, 1, 1)\n",
    "end = datetime(current_year, current_month, current_day-1)\n",
    "\n",
    "Austin = Point(30.3208, -97.7604)\n",
    "\n",
    "data = Daily(Austin, start, end)\n",
    "data = data.convert(units.imperial)\n",
    "data = data.fetch()\n",
    "\n",
    "data.rename(columns={'tavg': 'TAVG', 'tmin': 'TMIN', 'tmax': 'TMAX', 'prcp': 'PRECIPITATION', 'snow': 'SNOW', 'wspd': 'WIND_SPEED', 'pres': 'PRESSURE'}, inplace=True)\n",
    "data = data.drop(['wdir', 'wpgt', 'tsun'], axis=1)\n",
    "data = data.rename_axis('DATE', axis='index')\n",
    "\n",
    "austin_meteostat = data.copy(deep=True)\n",
    "austin_meteostat['LABEL'] = austin_meteostat['TMAX'].shift(-2)\n",
    "\n",
    "print(austin_meteostat)"
   ]
  },
  {
   "cell_type": "markdown",
   "id": "35aff6e8",
   "metadata": {},
   "source": [
    "## Section 3: Organizing Data for Pre-Processing"
   ]
  },
  {
   "cell_type": "markdown",
   "id": "66ba6565",
   "metadata": {},
   "source": [
    "As general pre-processing steps, the dates for 1 day in the past and for 2 days in the past from the present day are calculated in timestamp format to use during the prediction process later. Due to some data inconsistencies where some features for some data points came empty, a small function was developed to perform automatic cleaning of the data. Finally, all sources for each city are renamed with simpler names, and the date column for each data frame is translated into timestamp format. This was done considering the possibility of building time series models that took date into consideration, but this possibility was never explored due to the quality achieved with fully connected neural networks."
   ]
  },
  {
   "cell_type": "code",
   "execution_count": 21,
   "id": "fcb85f66",
   "metadata": {},
   "outputs": [],
   "source": [
    "# Yesterday's date in timestamp format.\n",
    "yesterday = today - pd.DateOffset(days=1)\n",
    "yesterday_str = yesterday.strftime('%Y-%m-%d')\n",
    "yesterday_encoded = (pd.to_datetime(yesterday_str) - pd.Timestamp(\"1970-01-01\")) // pd.Timedelta('1s')\n",
    "\n",
    "# Before yesterday's date in timestamp format.\n",
    "before_yesterday = today - pd.DateOffset(days=2)\n",
    "before_yesterday_str = before_yesterday.strftime('%Y-%m-%d')\n",
    "before_yesterday_encoded = (pd.to_datetime(before_yesterday_str) - pd.Timestamp(\"1970-01-01\")) // pd.Timedelta('1s')"
   ]
  },
  {
   "cell_type": "markdown",
   "id": "f4cff837",
   "metadata": {},
   "source": [
    "Due to small inconsistencies in the data where some data points had blank features (probably due to sensor failure or some other issue), this function was created. It goes through the entire data frame given to it and fills blanks with the average of the same feature in the data points above and below the affected feature in the affected data point. If the blanks are consecutive, this function won't do anything and the fix will be decided on a case-by-case basis."
   ]
  },
  {
   "cell_type": "code",
   "execution_count": 22,
   "id": "ff70e65b",
   "metadata": {},
   "outputs": [],
   "source": [
    "def fill_with_avg(df):\n",
    "    for column in df.columns:\n",
    "        \n",
    "        for i in range(1, len(df) - 1):\n",
    "\n",
    "            index = df.index[i]\n",
    "            \n",
    "            # If the current value is NaN\n",
    "            if pd.isna(df.at[index, column]):\n",
    "                # Get the index labels/values for the positions above and below\n",
    "                above_index = df.index[i - 1]\n",
    "                below_index = df.index[i + 1]\n",
    "\n",
    "                # Get the values above and below using these indices\n",
    "                above = df.at[above_index, column]\n",
    "                below = df.at[below_index, column]\n",
    "\n",
    "                # If both above and below are not NaN, take the average\n",
    "                if not pd.isna(above) and not pd.isna(below):\n",
    "                    df.at[index, column] = (above + below) / 2"
   ]
  },
  {
   "cell_type": "markdown",
   "id": "8e479a78",
   "metadata": {},
   "source": [
    "All sources are renamed to simpler names and the 'date' column is translated into timestamp format for all sources."
   ]
  },
  {
   "cell_type": "code",
   "execution_count": 23,
   "id": "e1af9171",
   "metadata": {},
   "outputs": [],
   "source": [
    "## Miami\n",
    "miami_source1 = miami_weathergov.copy(deep=True)\n",
    "miami_source1.index = pd.to_datetime(miami_source1.index)\n",
    "miami_source1.index = (miami_source1.index - pd.Timestamp(\"1970-01-01\")) // pd.Timedelta('1s')\n",
    "\n",
    "miami_source2 = miami_openmeteo.copy(deep=True)\n",
    "miami_source2['DATE'] = (miami_openmeteo['DATE'] - pd.Timestamp(\"1970-01-01\")) // pd.Timedelta('1s')\n",
    "\n",
    "miami_source3 = miami_NCEI.copy(deep=True)\n",
    "miami_source3['DATE'] = (miami_NCEI['DATE'] - pd.Timestamp(\"1970-01-01\")) // pd.Timedelta('1s')\n",
    "\n",
    "miami_source4 = miami_visualcrossing.copy(deep=True)\n",
    "miami_source4.index = pd.to_datetime(miami_source4.index)\n",
    "miami_source4.index = (miami_source4.index - pd.Timestamp(\"1970-01-01\")) // pd.Timedelta('1s')\n",
    "\n",
    "miami_source5 = miami_meteostat.copy(deep=True)\n",
    "miami_source5.index = (miami_meteostat.index - pd.Timestamp(\"1970-01-01\")) // pd.Timedelta('1s')\n",
    "\n",
    "## Chicago\n",
    "chicago_source1 = chicago_weathergov.copy(deep=True)\n",
    "chicago_source1.index = pd.to_datetime(chicago_source1.index)\n",
    "chicago_source1.index = (chicago_source1.index - pd.Timestamp(\"1970-01-01\")) // pd.Timedelta('1s')\n",
    "\n",
    "chicago_source2 = chicago_openmeteo.copy(deep=True)\n",
    "chicago_source2['DATE'] = (chicago_openmeteo['DATE'] - pd.Timestamp(\"1970-01-01\")) // pd.Timedelta('1s')\n",
    "\n",
    "chicago_source3 = chicago_NCEI.copy(deep=True)\n",
    "chicago_source3['DATE'] = (chicago_NCEI['DATE'] - pd.Timestamp(\"1970-01-01\")) // pd.Timedelta('1s')\n",
    "\n",
    "chicago_source4 = chicago_visualcrossing.copy(deep=True)\n",
    "chicago_source4.index = pd.to_datetime(chicago_source4.index)\n",
    "chicago_source4.index = (chicago_source4.index - pd.Timestamp(\"1970-01-01\")) // pd.Timedelta('1s')\n",
    "\n",
    "chicago_source5 = chicago_meteostat.copy(deep=True)\n",
    "chicago_source5.index = (chicago_meteostat.index - pd.Timestamp(\"1970-01-01\")) // pd.Timedelta('1s')\n",
    "\n",
    "## New York\n",
    "ny_source1 = ny_weathergov.copy(deep=True)\n",
    "ny_source1.index = pd.to_datetime(ny_source1.index)\n",
    "ny_source1.index = (ny_source1.index - pd.Timestamp(\"1970-01-01\")) // pd.Timedelta('1s')\n",
    "\n",
    "ny_source2 = new_york_openmeteo.copy(deep=True)\n",
    "ny_source2['DATE'] = (new_york_openmeteo['DATE'] - pd.Timestamp(\"1970-01-01\")) // pd.Timedelta('1s')\n",
    "\n",
    "ny_source3 = new_york_NCEI.copy(deep=True)\n",
    "ny_source3['DATE'] = (new_york_NCEI['DATE'] - pd.Timestamp(\"1970-01-01\")) // pd.Timedelta('1s')\n",
    "\n",
    "ny_source4 = ny_visualcrossing.copy(deep=True)\n",
    "ny_source4.index = pd.to_datetime(ny_source4.index)\n",
    "ny_source4.index = (ny_source4.index - pd.Timestamp(\"1970-01-01\")) // pd.Timedelta('1s')\n",
    "\n",
    "ny_source5 = new_york_meteostat.copy(deep=True)\n",
    "ny_source5.index = (new_york_meteostat.index - pd.Timestamp(\"1970-01-01\")) // pd.Timedelta('1s')\n",
    "\n",
    "## Austin\n",
    "austin_source1 = austin_weathergov.copy(deep=True)\n",
    "austin_source1.index = pd.to_datetime(austin_source1.index)\n",
    "austin_source1.index = (austin_source1.index - pd.Timestamp(\"1970-01-01\")) // pd.Timedelta('1s')\n",
    "\n",
    "austin_source2 = austin_openmeteo.copy(deep=True)\n",
    "austin_source2['DATE'] = (austin_openmeteo['DATE'] - pd.Timestamp(\"1970-01-01\")) // pd.Timedelta('1s')\n",
    "\n",
    "austin_source3 = austin_NCEI.copy(deep=True)\n",
    "austin_source3['DATE'] = (austin_NCEI['DATE'] - pd.Timestamp(\"1970-01-01\")) // pd.Timedelta('1s')\n",
    "\n",
    "austin_source4 = austin_visualcrossing.copy(deep=True)\n",
    "austin_source4.index = pd.to_datetime(austin_source4.index)\n",
    "austin_source4.index = (austin_source4.index - pd.Timestamp(\"1970-01-01\")) // pd.Timedelta('1s')\n",
    "\n",
    "austin_source5 = austin_meteostat.copy(deep=True)\n",
    "austin_source5.index = (austin_meteostat.index - pd.Timestamp(\"1970-01-01\")) // pd.Timedelta('1s')"
   ]
  },
  {
   "cell_type": "markdown",
   "id": "926d75a2",
   "metadata": {},
   "source": [
    "## Section 4: Data Analysis and Feature Selection"
   ]
  },
  {
   "cell_type": "markdown",
   "id": "f47ccfdc",
   "metadata": {},
   "source": [
    "For all sources, the process of feature selection was mostly straightforward using common sense. It is obvious that features such as station name, latitude, longitude, and elevation were irrelevant since they are exactly the same for all observations in the same city and since the data was being separated by city and the models would be constructed by city. So these features were removed from all sources at the moment of fitting and predicting. The dates might have been useful for a time series model, so they were translated to timestamp format but set as the index of all data frames so they wouldn't interfere with Ridge Regression and MLP Regressor. The features chosen through common sense for the model were: Maximum temperature, minimum temperature, average temperature, average surface pressure, average wind speed, total precipitation, total snow fall, and average humidity for every day in the range of each source. For Miami and Austin the snow fall feature was removed because it wouldn't provide any valuable information. For validation purposes, some plots and correlation coefficients were calculated using source 3 for Chicago, which is believed to be the most accurate source with an extensive date range. This is only done for Chicago since weather patterns of this sort can be extrapolated for all cities."
   ]
  },
  {
   "cell_type": "code",
   "execution_count": 24,
   "id": "f468227c",
   "metadata": {},
   "outputs": [
    {
     "name": "stdout",
     "output_type": "stream",
     "text": [
      "Average temperature:\n",
      "0.977360043868309\n",
      "Minimum temperature:\n",
      "0.9455268130642673\n",
      "Average wind speed:\n",
      "-0.19737386359089185\n",
      "Total precipitation:\n",
      "0.06124514442950425\n",
      "Total snow fall:\n",
      "-0.2668099396032197\n"
     ]
    },
    {
     "data": {
      "image/png": "[encoded data removed]",
      "text/plain": [
       "<Figure size 640x480 with 1 Axes>"
      ]
     },
     "metadata": {},
     "output_type": "display_data"
    },
    {
     "data": {
      "image/png": "[encoded data removed]",
      "text/plain": [
       "<Figure size 640x480 with 1 Axes>"
      ]
     },
     "metadata": {},
     "output_type": "display_data"
    },
    {
     "data": {
      "image/png": "[encoded data removed]",
      "text/plain": [
       "<Figure size 640x480 with 1 Axes>"
      ]
     },
     "metadata": {},
     "output_type": "display_data"
    },
    {
     "data": {
      "image/png": "[encoded data removed]",
      "text/plain": [
       "<Figure size 640x480 with 1 Axes>"
      ]
     },
     "metadata": {},
     "output_type": "display_data"
    },
    {
     "data": {
      "image/png": "[encoded data removed]",
      "text/plain": [
       "<Figure size 640x480 with 1 Axes>"
      ]
     },
     "metadata": {},
     "output_type": "display_data"
    }
   ],
   "source": [
    "test = chicago_source3[['TMAX', 'TAVG', 'TMIN', 'AWND', 'PRCP', 'SNOW']].copy(deep=True)\n",
    "test = test[:-1]\n",
    "test['TMIN'] = pd.to_numeric(test['TMIN'], errors='coerce')\n",
    "test['TMAX'] = pd.to_numeric(test['TMAX'], errors='coerce')\n",
    "print('Average temperature:')\n",
    "print(test['TAVG'].corr(test['TMAX']))\n",
    "print('Minimum temperature:')\n",
    "print(test['TMIN'].corr(test['TMAX']))\n",
    "print('Average wind speed:')\n",
    "print(test['AWND'].corr(test['TMAX']))\n",
    "print('Total precipitation:')\n",
    "print(test['PRCP'].corr(test['TMAX']))\n",
    "print('Total snow fall:')\n",
    "print(test['SNOW'].corr(test['TMAX']))\n",
    "\n",
    "plt.plot(test['TMAX'])\n",
    "plt.title('Maximum Temperature')\n",
    "plt.show()\n",
    "\n",
    "plt.plot(test.index, test['TMAX'], label='TMAX')\n",
    "plt.plot(test.index, test['TMIN'], label='TMIN')\n",
    "plt.plot(test.index, test['TAVG'], label='TAVG')\n",
    "\n",
    "plt.title('Temperatures')\n",
    "plt.legend()\n",
    "plt.show()\n",
    "\n",
    "plt.plot(test.index, test['AWND'], label='AWND')\n",
    "plt.title('Average Wind Speed')\n",
    "plt.show()\n",
    "plt.plot(test.index, test['PRCP'], label='PRCP')\n",
    "plt.title('Total Precipitation')\n",
    "plt.show()\n",
    "plt.plot(test.index, test['SNOW'], label='SNOW')\n",
    "plt.title('Total snow fall')\n",
    "plt.show()"
   ]
  },
  {
   "cell_type": "markdown",
   "id": "5d816474",
   "metadata": {},
   "source": [
    "From the previous correlation coefficients and graphs, many relations and patterns can already be identified. The correlation between Maximum temperature and average and minimum temperature is very strong, as expected, these features are clearly necessary for the model. From the plots of maximum temperature alone and then the three temperatures together, it is evident how they follow exactly the same pattern year to year. This shows that time series would be a good option for this model. Average wind speed has a weak but existent negative correlation with maximum temperature, which makes this a good feature to explore and something a fully connected neural network could identify. This feature also exhibits temporal patterns, as it has peaks similar to those of temperature, but sightly shifted. Still, this makes this data a good fit for time series models. Precipitation has the weakest correlation of all features. Thre is almost no correlation between precipitation and maximum temperature, but there are some temporal patterns that could be used to better identify patterns in other features, so it will still be used to train the model. Finally, total snow fall has a negative correlation, obviously, which is on the weaker side but still existent and relevant. This makes snow fall a good feature for a fully connected neural network and as expected, it follows temporal patterns which make it good for time series models. From all graphs it is also clear that this data is not linear, so a linear regression would be extremely inaccurate for this data, especially in extreme seasons such as summer and winter. In spring and fall a linear regression could show some accurate predictions but this would be misleading since this model would not be reusable or accurate overall. "
   ]
  },
  {
   "cell_type": "markdown",
   "id": "c4a921f3",
   "metadata": {},
   "source": [
    "## Section 5: Model Version 1.0 - Ridge Regression"
   ]
  },
  {
   "cell_type": "markdown",
   "id": "acb7bfe0",
   "metadata": {},
   "source": [
    "The different model options were explored using the scikit learn documentation, which provided detailed instructions on how to use each model and tool, as well as sample code that was very helpful for understanding. For the first version of the model, Ridge Regression was chosen due to its simplicity to implement and train, but its increased complexity relative to vanilla Linear Regression. To implement Ridge Regression, a MinMax Scaler was added for pre-procesing because the regularization term in Ridge Regression is sensitive to the scale of the features, and the features in this case have very different scales. When this model was being explored, only 2 sources were used for testing the model to make the process more efficient because organizing the data for training takes time and it was most lilely this model would not be the final version. The features used have very different scales, for example precipitation and surface pressure, so a Min Max Scaler is used to get positive values between 0 and 1 that maintain relationships between the data but put everything in the same scale. Min Max scaling doesn't handle outliers well, but that is not an issue in this case since outliers are extremely rare. The fitting process was scored using the built in function from sckikit learn's Ridge class, which returns the coefficient of determination for the model. This number was between 0.4 and 0.5 for most days in which this model was executed. These results were not terrible, and there was clearly no overfitting, but it was still a little low which was expected from a linear model."
   ]
  },
  {
   "cell_type": "markdown",
   "id": "01ccd3d6",
   "metadata": {},
   "source": [
    "### Imports"
   ]
  },
  {
   "cell_type": "code",
   "execution_count": 25,
   "id": "1c627a18",
   "metadata": {},
   "outputs": [],
   "source": [
    "from sklearn.linear_model import Ridge\n",
    "from sklearn.preprocessing import MinMaxScaler"
   ]
  },
  {
   "cell_type": "markdown",
   "id": "34c059ef",
   "metadata": {},
   "source": [
    "### Miami Source 2"
   ]
  },
  {
   "cell_type": "markdown",
   "id": "7e46a403",
   "metadata": {},
   "source": [
    "For this source, 4 observations must be removed from the end of the dataframe. 3 because they are null, and 1 because it will be used for prediction. The same is done to the labels so the dimensions match for training. Not all of the features from the source are used because some of them don't provide any information such as the name of the station. The features used in this source for Miami were: Maximum temperature, minimum temperature, average temperature, total precipitation, and average surface pressure for every day in the extracted range."
   ]
  },
  {
   "cell_type": "code",
   "execution_count": 26,
   "id": "a1e2645a",
   "metadata": {},
   "outputs": [
    {
     "name": "stdout",
     "output_type": "stream",
     "text": [
      "Score:\n",
      "0.452454564396071\n",
      "Prediction:\n",
      "79.34461975097656\n"
     ]
    }
   ],
   "source": [
    "X = miami_source2[['TMAX', 'TMIN', 'TAVG', 'PRECIPITATION', 'surface_pressure']].copy(deep=True)\n",
    "X.index = miami_source2['DATE']\n",
    "# Remove the 3 data points from the end of the data frame because they are null and 1 because it will be the prediction data point\n",
    "X = X[:-4]  \n",
    "fill_with_avg(X)  # Clean data using custom function\n",
    "\n",
    "# Initialize the MinMaxScaler\n",
    "scaler = MinMaxScaler()\n",
    "\n",
    "# Apply the scaler to the dataframe values\n",
    "scaler.fit(X)\n",
    "scaled_values = scaler.transform(X)\n",
    "\n",
    "# Create a new DataFrame with the scaled values and the original index\n",
    "scaled_miami_source2 = pd.DataFrame(scaled_values, columns=X.columns, index=X.index)\n",
    "\n",
    "y = miami_source2[['LABEL']].copy(deep=True)\n",
    "# Remove the same 4 data points removed from X \n",
    "y = y[:-4]\n",
    "\n",
    "clf = Ridge(alpha=1.0)\n",
    "clf.fit(scaled_miami_source2, y)\n",
    "print(\"Score:\")\n",
    "print(clf.score(scaled_miami_source2, y))\n",
    "\n",
    "# Make a prediction\n",
    "X_predict = miami_source2[miami_source2['DATE'] == before_yesterday_encoded]\n",
    "X_predict = X_predict[['TMAX', 'TMIN', 'TAVG', 'PRECIPITATION', 'surface_pressure']]\n",
    "scaled_value = scaler.transform(X_predict)\n",
    "X_predict_scaled = pd.DataFrame(scaled_value, columns=X_predict.columns, index=[before_yesterday_encoded])\n",
    "\n",
    "miami_source2_pred = clf.predict(X_predict_scaled).item()\n",
    "print(\"Prediction:\")\n",
    "print(miami_source2_pred)"
   ]
  },
  {
   "cell_type": "markdown",
   "id": "8060405a",
   "metadata": {},
   "source": [
    "### Miami Source 5"
   ]
  },
  {
   "cell_type": "markdown",
   "id": "92ef0305",
   "metadata": {},
   "source": [
    "For this source, 2 observations must be removed from the end of the dataframe. 1 because it is null, and 1 because it will be used for prediction. The same is done to the labels so the dimensions match for training. Not all of the features from the source are used because some of them don't provide any information such as the name of the station. The features used in this source for Miami were: Maximum temperature, minimum temperature, average temperature, total precipitation, average wind speed, and average surface pressure for every day in the extracted range."
   ]
  },
  {
   "cell_type": "code",
   "execution_count": 27,
   "id": "12b78552",
   "metadata": {},
   "outputs": [
    {
     "name": "stdout",
     "output_type": "stream",
     "text": [
      "Score:\n",
      "0.5507317573985744\n",
      "Prediction:\n",
      "85.16468777604688\n"
     ]
    }
   ],
   "source": [
    "X = miami_source5[['TMAX', 'TMIN', 'TAVG', 'PRECIPITATION','WIND_SPEED', 'PRESSURE']].copy(deep=True)\n",
    "X.index = miami_source5.index\n",
    "# Remove only 2 data points from the end of the data frame\n",
    "X = X[:-2]\n",
    "fill_with_avg(X)  # Clean data using custom function\n",
    "\n",
    "# Initialize the MinMaxScaler\n",
    "scaler = MinMaxScaler()\n",
    "\n",
    "# Apply the scaler to the dataframe values\n",
    "scaler.fit(X)\n",
    "scaled_values = scaler.transform(X)\n",
    "\n",
    "# Create a new DataFrame with the scaled values and the original index\n",
    "scaled_miami_source5 = pd.DataFrame(scaled_values, columns=X.columns, index=X.index)\n",
    "\n",
    "y = miami_source5[['LABEL']].copy(deep=True)\n",
    "# Adjust labels to match dimensions of X\n",
    "y = y[:-2]\n",
    "\n",
    "clf = Ridge(alpha=1.0)\n",
    "clf.fit(scaled_miami_source5, y)\n",
    "print(\"Score:\")\n",
    "print(clf.score(scaled_miami_source5, y))\n",
    "\n",
    "# Make a prediction\n",
    "X_predict = miami_source5[miami_source5.index == yesterday_encoded]\n",
    "X_predict = X_predict[['TMAX', 'TMIN', 'TAVG', 'PRECIPITATION','WIND_SPEED', 'PRESSURE']]\n",
    "scaled_value = scaler.transform(X_predict)\n",
    "X_predict_scaled = pd.DataFrame(scaled_value, columns=X_predict.columns, index=X_predict.index)\n",
    "if(math.isnan(X_predict_scaled['WIND_SPEED'])):\n",
    "    X_predict_scaled['WIND_SPEED'] = 0.0\n",
    "if(math.isnan(X_predict_scaled['PRESSURE'])):\n",
    "    X_predict_scaled['PRESSURE'] = 0.0\n",
    "\n",
    "miami_source5_pred = clf.predict(X_predict_scaled).item()\n",
    "print(\"Prediction:\")\n",
    "print(miami_source5_pred)"
   ]
  },
  {
   "cell_type": "markdown",
   "id": "bfba40fc",
   "metadata": {},
   "source": [
    "### Chicago Source 2"
   ]
  },
  {
   "cell_type": "markdown",
   "id": "2f36ff7f",
   "metadata": {},
   "source": [
    "For this source, 4 observations must be removed from the end of the dataframe. 3 because they are null, and 1 because it will be used for prediction. The same is done to the labels so the dimensions match for training. Not all of the features from the source are used because some of them don't provide any information such as the name of the station. The features used in this source for Chicago were: Maximum temperature, minimum temperature, average temperature, total precipitation, and average surface pressure for every day in the extracted range."
   ]
  },
  {
   "cell_type": "code",
   "execution_count": 28,
   "id": "655140d3",
   "metadata": {},
   "outputs": [
    {
     "name": "stdout",
     "output_type": "stream",
     "text": [
      "Score:\n",
      "0.7250467720714361\n",
      "Prediction:\n",
      "48.85055160522461\n"
     ]
    }
   ],
   "source": [
    "X = chicago_source2[['TMAX', 'TMIN', 'TAVG', 'PRECIPITATION', 'surface_pressure']].copy(deep=True)\n",
    "X.index = chicago_source2['DATE']\n",
    "# Remove 4 observations from the end of the input matrix\n",
    "X = X[:-4]\n",
    "fill_with_avg(X)  # Clean data using custom function\n",
    "\n",
    "# Initialize the MinMaxScaler\n",
    "scaler = MinMaxScaler()\n",
    "\n",
    "# Apply the scaler to the dataframe values\n",
    "scaler.fit(X)\n",
    "scaled_values = scaler.transform(X)\n",
    "\n",
    "# Create a new DataFrame with the scaled values and the original index\n",
    "scaled_chicago_source2 = pd.DataFrame(scaled_values, columns=X.columns, index=X.index)\n",
    "\n",
    "y = chicago_source2[['LABEL']].copy(deep=True)\n",
    "# Match the dimensions of X\n",
    "y = y[:-4]\n",
    "\n",
    "clf = Ridge(alpha=1.0)\n",
    "clf.fit(scaled_chicago_source2, y)\n",
    "print(\"Score:\")\n",
    "print(clf.score(scaled_chicago_source2, y))\n",
    "\n",
    "# Make a prediction\n",
    "X_predict = chicago_source2[chicago_source2['DATE'] == before_yesterday_encoded]\n",
    "X_predict = X_predict[['TMAX', 'TMIN', 'TAVG', 'PRECIPITATION', 'surface_pressure']]\n",
    "scaled_value = scaler.transform(X_predict)\n",
    "X_predict_scaled = pd.DataFrame(scaled_value, columns=X_predict.columns, index=[before_yesterday_encoded])\n",
    "\n",
    "chicago_source2_pred = clf.predict(X_predict_scaled).item()\n",
    "print(\"Prediction:\")\n",
    "print(chicago_source2_pred)"
   ]
  },
  {
   "cell_type": "markdown",
   "id": "78dc633a",
   "metadata": {},
   "source": [
    "### Chicago Source 5"
   ]
  },
  {
   "cell_type": "markdown",
   "id": "039ce4cd",
   "metadata": {},
   "source": [
    "For this source, 2 observations must be removed from the end of the dataframe. 1 because it is null, and 1 because it will be used for prediction. The same is done to the labels so the dimensions match for training. Not all of the features from the source are used because some of them don't provide any information such as the name of the station. The features used in this source for Chicago were: Maximum temperature, minimum temperature, average temperature, total precipitation, total snow fall, average wind speed, and average surface pressure for every day in the extracted range."
   ]
  },
  {
   "cell_type": "code",
   "execution_count": 29,
   "id": "f4eb0b18",
   "metadata": {},
   "outputs": [
    {
     "name": "stdout",
     "output_type": "stream",
     "text": [
      "Score:\n",
      "0.7660853589072297\n",
      "Prediction:\n",
      "62.41483489968731\n"
     ]
    }
   ],
   "source": [
    "X = chicago_source5[['TMAX', 'TMIN', 'TAVG', 'PRECIPITATION', 'SNOW','WIND_SPEED', 'PRESSURE']].copy(deep=True)\n",
    "X.index = chicago_source5.index\n",
    "# Remove 2 observations from the end of the data frame\n",
    "X = X[:-2]\n",
    "fill_with_avg(X)  # Clean the data using custom function\n",
    "# Custom cleaning because this feature often has NaN, and it is safe to assume 0\n",
    "X['SNOW'].fillna(0.0, inplace=True)   \n",
    "\n",
    "# Initialize the MinMaxScaler\n",
    "scaler = MinMaxScaler()\n",
    "\n",
    "# Apply the scaler to the dataframe values\n",
    "scaler.fit(X)\n",
    "scaled_values = scaler.transform(X)\n",
    "\n",
    "# Create a new DataFrame with the scaled values and the original index\n",
    "scaled_chicago_source5 = pd.DataFrame(scaled_values, columns=X.columns, index=X.index)\n",
    "\n",
    "y = chicago_source5[['LABEL']].copy(deep=True)\n",
    "# Match dimensions of X\n",
    "y = y[:-2]\n",
    "\n",
    "clf = Ridge(alpha=1.0)\n",
    "clf.fit(scaled_chicago_source5, y)\n",
    "print(\"Score:\")\n",
    "print(clf.score(scaled_chicago_source5, y))\n",
    "\n",
    "# Make a prediction\n",
    "X_predict = chicago_source5[chicago_source5.index == yesterday_encoded]\n",
    "X_predict = X_predict[['TMAX', 'TMIN', 'TAVG', 'PRECIPITATION', 'SNOW','WIND_SPEED', 'PRESSURE']]\n",
    "X_predict['SNOW'].fillna(0.0, inplace=True)\n",
    "scaled_value = scaler.transform(X_predict)\n",
    "X_predict_scaled = pd.DataFrame(scaled_value, columns=X_predict.columns, index=X_predict.index)\n",
    "if(math.isnan(X_predict_scaled['WIND_SPEED'])):\n",
    "    X_predict_scaled['WIND_SPEED'] = 0.0\n",
    "if(math.isnan(X_predict_scaled['PRESSURE'])):\n",
    "    X_predict_scaled['PRESSURE'] = 0.0\n",
    "\n",
    "chicago_source5_pred = clf.predict(X_predict_scaled).item()\n",
    "print(\"Prediction:\")\n",
    "print(chicago_source5_pred)"
   ]
  },
  {
   "cell_type": "markdown",
   "id": "2e90093d",
   "metadata": {},
   "source": [
    "### New York Source 2"
   ]
  },
  {
   "cell_type": "markdown",
   "id": "4d4b230e",
   "metadata": {},
   "source": [
    "For this source, 4 observations must be removed from the end of the dataframe. 3 because they are null, and 1 because it will be used for prediction. The same is done to the labels so the dimensions match for training. Not all of the features from the source are used because some of them don't provide any information such as the name of the station. The features used in this source for New York City are: Maximum temperature, minimum temperature, average temperature, total precipitation, and average surface pressure for every day in the extracted range."
   ]
  },
  {
   "cell_type": "code",
   "execution_count": 30,
   "id": "b9bc4c39",
   "metadata": {},
   "outputs": [
    {
     "name": "stdout",
     "output_type": "stream",
     "text": [
      "Score:\n",
      "0.7262648818097617\n",
      "Prediction:\n",
      "52.856998443603516\n"
     ]
    }
   ],
   "source": [
    "X = ny_source2[['TMAX', 'TMIN', 'TAVG', 'PRECIPITATION', 'surface_pressure']].copy(deep=True)\n",
    "X.index = ny_source2['DATE']\n",
    "# Remove 4 observations from the end of the data frame\n",
    "X = X[:-4]\n",
    "fill_with_avg(X)  # Clean data with custom function\n",
    "\n",
    "# Initialize the MinMaxScaler\n",
    "scaler = MinMaxScaler()\n",
    "\n",
    "# Apply the scaler to the dataframe values\n",
    "scaler.fit(X)\n",
    "scaled_values = scaler.transform(X)\n",
    "\n",
    "# Create a new DataFrame with the scaled values and the original index\n",
    "scaled_ny_source2 = pd.DataFrame(scaled_values, columns=X.columns, index=X.index)\n",
    "\n",
    "y = ny_source2[['LABEL']].copy(deep=True)\n",
    "# Match dimensions of X\n",
    "y = y[:-4]\n",
    "\n",
    "clf = Ridge(alpha=1.0)\n",
    "clf.fit(scaled_ny_source2, y)\n",
    "print(\"Score:\")\n",
    "print(clf.score(scaled_ny_source2, y))\n",
    "\n",
    "# Make a prediction\n",
    "X_predict = ny_source2[ny_source2['DATE'] == before_yesterday_encoded]\n",
    "X_predict = X_predict[['TMAX', 'TMIN', 'TAVG', 'PRECIPITATION', 'surface_pressure']]\n",
    "scaled_value = scaler.transform(X_predict)\n",
    "X_predict_scaled = pd.DataFrame(scaled_value, columns=X_predict.columns, index=[before_yesterday_encoded])\n",
    "\n",
    "ny_source2_pred = clf.predict(X_predict_scaled).item()\n",
    "print(\"Prediction:\")\n",
    "print(ny_source2_pred)"
   ]
  },
  {
   "cell_type": "markdown",
   "id": "46f164b9",
   "metadata": {},
   "source": [
    "### New York Source 5"
   ]
  },
  {
   "cell_type": "markdown",
   "id": "b579a78a",
   "metadata": {},
   "source": [
    "For this source, 2 observations must be removed from the end of the dataframe. 1 because it is null, and 1 because it will be used for prediction. The same is done to the labels so the dimensions match for training. Not all of the features from the source are used because some of them don't provide any information such as the name of the station. The features used in this source for New York City were: Maximum temperature, minimum temperature, average temperature, total precipitation, total snow fall, average wind speed, and average surface pressure for every day in the extracted range."
   ]
  },
  {
   "cell_type": "code",
   "execution_count": 31,
   "id": "f9fda9cb",
   "metadata": {},
   "outputs": [
    {
     "name": "stdout",
     "output_type": "stream",
     "text": [
      "Score:\n",
      "0.7307063995577249\n",
      "Prediction:\n",
      "51.5450554007921\n"
     ]
    }
   ],
   "source": [
    "X = ny_source5[['TMAX', 'TMIN', 'TAVG', 'PRECIPITATION', 'SNOW','WIND_SPEED', 'PRESSURE']].copy(deep=True)\n",
    "X.index = ny_source5.index\n",
    "# Remove 2 observations from the end of the data frame\n",
    "X = X[:-2]\n",
    "fill_with_avg(X)  # Clean data using custom function\n",
    "# Custom cleaning because this feature often has many NaN together, it is safe to assume value 0\n",
    "X['SNOW'].fillna(0.0, inplace=True)\n",
    "\n",
    "# Initialize the MinMaxScaler\n",
    "scaler = MinMaxScaler()\n",
    "\n",
    "# Apply the scaler to the dataframe values\n",
    "scaler.fit(X)\n",
    "scaled_values = scaler.transform(X)\n",
    "\n",
    "# Create a new DataFrame with the scaled values and the original index\n",
    "scaled_ny_source5 = pd.DataFrame(scaled_values, columns=X.columns, index=X.index)\n",
    "\n",
    "y = ny_source5[['LABEL']].copy(deep=True)\n",
    "# Match dimensions of X\n",
    "y = y[:-2]\n",
    "\n",
    "clf = Ridge(alpha=1.0)\n",
    "clf.fit(scaled_ny_source5, y)\n",
    "print(\"Score:\")\n",
    "print(clf.score(scaled_ny_source5, y))\n",
    "\n",
    "# Make a prediction\n",
    "X_predict = ny_source5[ny_source5.index == yesterday_encoded]\n",
    "X_predict = X_predict[['TMAX', 'TMIN', 'TAVG', 'PRECIPITATION', 'SNOW','WIND_SPEED', 'PRESSURE']]\n",
    "X_predict['SNOW'].fillna(0.0, inplace=True)\n",
    "scaled_value = scaler.transform(X_predict)\n",
    "X_predict_scaled = pd.DataFrame(scaled_value, columns=X_predict.columns, index=X_predict.index)\n",
    "\n",
    "ny_source5_pred = clf.predict(X_predict_scaled).item()\n",
    "print(\"Prediction:\")\n",
    "print(ny_source5_pred)"
   ]
  },
  {
   "cell_type": "markdown",
   "id": "ba172a78",
   "metadata": {},
   "source": [
    "### Austin Source 2"
   ]
  },
  {
   "cell_type": "markdown",
   "id": "fa8c2039",
   "metadata": {},
   "source": [
    "For this source, 4 observations must be removed from the end of the dataframe. 3 because they are null, and 1 because it will be used for prediction. The same is done to the labels so the dimensions match for training. Not all of the features from the source are used because some of them don't provide any information such as the name of the station. The features used in this source for Austin are: Maximum temperature, minimum temperature, average temperature, total precipitation, and average surface pressure for every day in the extracted range."
   ]
  },
  {
   "cell_type": "code",
   "execution_count": 32,
   "id": "f5b2ed3d",
   "metadata": {},
   "outputs": [
    {
     "name": "stdout",
     "output_type": "stream",
     "text": [
      "Score:\n",
      "0.6805707499420457\n",
      "Prediction:\n",
      "76.28665161132812\n"
     ]
    }
   ],
   "source": [
    "X = austin_source2[['TMAX', 'TMIN', 'TAVG', 'PRECIPITATION', 'surface_pressure']].copy(deep=True)\n",
    "X.index = austin_source2['DATE']\n",
    "# Remove 4 observations from the end of the data frame\n",
    "X = X[:-4]\n",
    "fill_with_avg(X)  # Clean data with custom function\n",
    "\n",
    "# Initialize the MinMaxScaler\n",
    "scaler = MinMaxScaler()\n",
    "\n",
    "# Apply the scaler to the dataframe values, ignoring the index\n",
    "scaler.fit(X)\n",
    "scaled_values = scaler.transform(X)\n",
    "\n",
    "# Create a new DataFrame with the scaled values and the original index\n",
    "scaled_austin_source2 = pd.DataFrame(scaled_values, columns=X.columns, index=X.index)\n",
    "\n",
    "y = austin_source2[['LABEL']].copy(deep=True)\n",
    "# Match dimensions of X\n",
    "y = y[:-4]\n",
    "\n",
    "clf = Ridge(alpha=1.0)\n",
    "clf.fit(scaled_austin_source2, y)\n",
    "print(\"Score:\")\n",
    "print(clf.score(scaled_austin_source2, y))\n",
    "\n",
    "# Make a prediction\n",
    "X_predict = austin_source2[austin_source2['DATE'] == before_yesterday_encoded]\n",
    "X_predict = X_predict[['TMAX', 'TMIN', 'TAVG', 'PRECIPITATION', 'surface_pressure']]\n",
    "scaled_value = scaler.transform(X_predict)\n",
    "X_predict_scaled = pd.DataFrame(scaled_value, columns=X_predict.columns, index=[before_yesterday_encoded])\n",
    "\n",
    "austin_source2_pred = clf.predict(X_predict_scaled).item()\n",
    "print(\"Prediction:\")\n",
    "print(austin_source2_pred)"
   ]
  },
  {
   "cell_type": "markdown",
   "id": "e5db5df4",
   "metadata": {},
   "source": [
    "### Austin Source 5"
   ]
  },
  {
   "cell_type": "markdown",
   "id": "10484ada",
   "metadata": {},
   "source": [
    "For this source, 2 observations must be removed from the end of the dataframe. 1 because it is null, and 1 because it will be used for prediction. The same is done to the labels so the dimensions match for training. Not all of the features from the source are used because some of them don't provide any information such as the name of the station. The features used in this source for Austin are: Maximum temperature, minimum temperature, average temperature, total precipitation, average wind speed, and average surface pressure for every day in the extracted range."
   ]
  },
  {
   "cell_type": "code",
   "execution_count": 33,
   "id": "23493746",
   "metadata": {},
   "outputs": [
    {
     "name": "stdout",
     "output_type": "stream",
     "text": [
      "Score:\n",
      "0.702823490015557\n",
      "Prediction:\n",
      "78.72255600668012\n"
     ]
    }
   ],
   "source": [
    "X = austin_source5[['TMAX', 'TMIN', 'TAVG', 'PRECIPITATION','WIND_SPEED', 'PRESSURE']].copy(deep=True)\n",
    "X.index = austin_source5.index\n",
    "# Remove 2 observations from the end of the data frame\n",
    "X = X[:-2]\n",
    "fill_with_avg(X)  # Clean data using custom function\n",
    "\n",
    "# Initialize the MinMaxScaler\n",
    "scaler = MinMaxScaler()\n",
    "\n",
    "# Apply the scaler to the dataframe values, ignoring the index\n",
    "scaler.fit(X)\n",
    "scaled_values = scaler.transform(X)\n",
    "\n",
    "# Create a new DataFrame with the scaled values and the original index\n",
    "scaled_austin_source5 = pd.DataFrame(scaled_values, columns=X.columns, index=X.index)\n",
    "\n",
    "y = austin_source5[['LABEL']].copy(deep=True)\n",
    "# Match dimensions of X\n",
    "y = y[:-2]\n",
    "\n",
    "clf = Ridge(alpha=1.0)\n",
    "clf.fit(scaled_austin_source5, y)\n",
    "print(\"Score:\")\n",
    "print(clf.score(scaled_austin_source5, y))\n",
    "\n",
    "# Make a prediction\n",
    "X_predict = austin_source5[austin_source5.index == yesterday_encoded]\n",
    "X_predict = X_predict[['TMAX', 'TMIN', 'TAVG', 'PRECIPITATION','WIND_SPEED', 'PRESSURE']]\n",
    "scaled_value = scaler.transform(X_predict)\n",
    "X_predict_scaled = pd.DataFrame(scaled_value, columns=X_predict.columns, index=X_predict.index)\n",
    "\n",
    "austin_source5_pred = clf.predict(X_predict_scaled).item()\n",
    "print(\"Prediction:\")\n",
    "print(austin_source5_pred)"
   ]
  },
  {
   "cell_type": "markdown",
   "id": "5f4962f7",
   "metadata": {},
   "source": [
    "### Predictions"
   ]
  },
  {
   "cell_type": "markdown",
   "id": "c27e0c7a",
   "metadata": {},
   "source": [
    "A summary of the predictions is shown here for testing purposes. Using the Min Max Scaler got the predictions to an acceptable range, but they were often outside the range given in the Kalshi platform, and often over 7 degrees away from Accuweather's prediction, which was the most frquent reference used for validation. More on predictions and scoring in Section 8: Model Evaluation."
   ]
  },
  {
   "cell_type": "code",
   "execution_count": 34,
   "id": "89d712a2",
   "metadata": {},
   "outputs": [
    {
     "name": "stdout",
     "output_type": "stream",
     "text": [
      "Miami predictions:\n",
      "Source 2: 79.34461975097656\n",
      "Source 5: 85.16468777604688\n",
      "Chicago predictions:\n",
      "Source 2: 48.85055160522461\n",
      "Source 5: 62.41483489968731\n",
      "New York predictions:\n",
      "Source 2: 52.856998443603516\n",
      "Source 5: 51.5450554007921\n",
      "Austin predictions:\n",
      "Source 2: 76.28665161132812\n",
      "Source 5: 78.72255600668012\n"
     ]
    }
   ],
   "source": [
    "print(\"Miami predictions:\")\n",
    "print(f\"Source 2: {miami_source2_pred}\")\n",
    "print(f\"Source 5: {miami_source5_pred}\")\n",
    "\n",
    "print(\"Chicago predictions:\")\n",
    "print(f\"Source 2: {chicago_source2_pred}\")\n",
    "print(f\"Source 5: {chicago_source5_pred}\")\n",
    "\n",
    "print(\"New York predictions:\")\n",
    "print(f\"Source 2: {ny_source2_pred}\")\n",
    "print(f\"Source 5: {ny_source5_pred}\")\n",
    "\n",
    "print(\"Austin predictions:\")\n",
    "print(f\"Source 2: {austin_source2_pred}\")\n",
    "print(f\"Source 5: {austin_source5_pred}\")"
   ]
  },
  {
   "cell_type": "markdown",
   "id": "bf54a894",
   "metadata": {},
   "source": [
    "## Section 6: Model Version 2.0 - MLP Regressor"
   ]
  },
  {
   "cell_type": "markdown",
   "id": "425480a6",
   "metadata": {},
   "source": [
    "For the second version of the model, the target of the exploration phase was neural networks. After reading the course textbooks, different articles online, and the scikit learn documentation and recommendations, Multi-Layer Perceptron Regressors were the best option for this task. MLP Regressors have multiple settings to adjust, and they can be combined with lots of pre-processing methods; this flexibility was perfect to improve predictions through educated trial and error. For data pre-processing, the most important issue to resolve was the scaling of the features, because these differences in scale are likely sources of model divergence. During this phase, two scaling techniques were tested side-by-side: MinMax Scaling and Standard Scaling. Both algorithms behaved pretty similarly, and they both have similar pros and cons, but the empirical observations showed that Standard Scaling tends to increase the prediction by 1 or 2 degrees relative to MinMax Scaling, and due to possible inconsistencies with the data, it was beneficial for accuracy for the prediction to be as low as possible, so MinMax Scaling was chosen for the final model. For this stage, only 3 sources were used for each city to optimize time and focus on evaluating MLP Regressors and choosing a scaling method. Source 2 and 5 were processed in the same way as for Ridge Regression, with the exception of making two predictions per source, per city, using Standard Scaler for one and MinMax Scaler for the other. The MLPRegressor was set up almost identically for all predictions: All of them have 2 hidden layers, the first one with 100 neurons and the second one with 6 neurons. There was few trial and error done to the structure of the neural network, since the changes made had little effect on the predictions. The number of epochs was initially set to 500 for all Regressors, but they had to be increased to 1000 because most networks weren't able to converge with 500 epochs. There is one exception that required 1500 epochs because it wasn't converging with 1000 epochs. The activation function was always set to ReLU for all networks, all readings recommended using this function for regression purposes and its nonlinearity was key for predicting this data. Only one other activation function was tested and it changed the results drastically, so instead of re-tuning the network, ReLU was chosen since it was the most recommended function anyway. The solver for the MLP Regressors was adam, because it seemed the most appropriate for this task according to the scikit learn documentation. It is a variation of gradient descent and it aids faster convergence. The random_state was never changed, it was left as the scikit learn documentation recommended, and the learning rate was adjusted between 0.0001 and 0.01, but the final decision was to use a learning rate of 0.001 because it gave decent convergence time and very good predictions."
   ]
  },
  {
   "cell_type": "markdown",
   "id": "c100e65a",
   "metadata": {},
   "source": [
    "### Imports"
   ]
  },
  {
   "cell_type": "code",
   "execution_count": 35,
   "id": "ddc059f4",
   "metadata": {},
   "outputs": [],
   "source": [
    "from sklearn.neural_network import MLPRegressor\n",
    "from sklearn.model_selection import train_test_split\n",
    "from sklearn.preprocessing import StandardScaler\n",
    "from sklearn.metrics import mean_squared_error"
   ]
  },
  {
   "cell_type": "markdown",
   "id": "099171c8",
   "metadata": {},
   "source": [
    "### Miami Source 2"
   ]
  },
  {
   "cell_type": "markdown",
   "id": "b51fd625",
   "metadata": {},
   "source": [
    "#### Standard Scaler"
   ]
  },
  {
   "cell_type": "code",
   "execution_count": 36,
   "id": "03a41c50",
   "metadata": {},
   "outputs": [],
   "source": [
    "X = miami_source2[['TMAX', 'TMIN', 'TAVG', 'PRECIPITATION', 'surface_pressure']].copy(deep=True)\n",
    "X.index = miami_source2['DATE']\n",
    "X = X[:-4]\n",
    "fill_with_avg(X)\n",
    "\n",
    "scaler = StandardScaler()\n",
    "scaler.fit(X)\n",
    "X_train_scaled = scaler.transform(X)\n",
    "scaled_miami_source2 = pd.DataFrame(X_train_scaled, columns=X.columns, index=X.index)\n",
    "\n",
    "X_test = miami_source2[miami_source2['DATE'] == before_yesterday_encoded]\n",
    "X_test = X_test[['TMAX', 'TMIN', 'TAVG', 'PRECIPITATION', 'surface_pressure']]\n",
    "X_test_scaled = scaler.transform(X_test)\n",
    "X_predict_scaled = pd.DataFrame(X_test_scaled, columns=X_test.columns, index=[before_yesterday_encoded])\n",
    "\n",
    "y = miami_source2[['LABEL']].copy(deep=True)\n",
    "y = y[:-4]\n",
    "y = y['LABEL'].ravel()"
   ]
  },
  {
   "cell_type": "code",
   "execution_count": 37,
   "id": "870106c8",
   "metadata": {},
   "outputs": [
    {
     "name": "stdout",
     "output_type": "stream",
     "text": [
      "Prediction:\n",
      "[78.25359]\n"
     ]
    }
   ],
   "source": [
    "mlp = MLPRegressor(hidden_layer_sizes=(100,6), max_iter=1000, activation='relu', \n",
    "                   solver='adam', random_state=42, learning_rate_init=0.001)\n",
    "\n",
    "mlp.fit(scaled_miami_source2, y)\n",
    "pred_mia_2_ss = mlp.predict(X_predict_scaled)\n",
    "\n",
    "print(\"Prediction:\")\n",
    "print(pred_mia_2_ss)"
   ]
  },
  {
   "cell_type": "markdown",
   "id": "001a26de",
   "metadata": {},
   "source": [
    "#### MinMax Scaler"
   ]
  },
  {
   "cell_type": "code",
   "execution_count": 38,
   "id": "bbe9a60c",
   "metadata": {},
   "outputs": [],
   "source": [
    "X = miami_source2[['TMAX', 'TMIN', 'TAVG', 'PRECIPITATION', 'surface_pressure']].copy(deep=True)\n",
    "X.index = miami_source2['DATE']\n",
    "X = X[:-4]\n",
    "fill_with_avg(X)\n",
    "\n",
    "scaler = MinMaxScaler()\n",
    "scaler.fit(X)\n",
    "X_train_scaled = scaler.transform(X)\n",
    "scaled_miami_source2 = pd.DataFrame(X_train_scaled, columns=X.columns, index=X.index)\n",
    "\n",
    "X_test = miami_source2[miami_source2['DATE'] == before_yesterday_encoded]\n",
    "X_test = X_test[['TMAX', 'TMIN', 'TAVG', 'PRECIPITATION', 'surface_pressure']]\n",
    "X_test_scaled = scaler.transform(X_test)\n",
    "X_predict_scaled = pd.DataFrame(X_test_scaled, columns=X_test.columns, index=[before_yesterday_encoded])\n",
    "\n",
    "y = miami_source2[['LABEL']].copy(deep=True)\n",
    "y = y[:-4]\n",
    "y = y['LABEL'].ravel()"
   ]
  },
  {
   "cell_type": "code",
   "execution_count": 39,
   "id": "5d59f6f8",
   "metadata": {},
   "outputs": [
    {
     "name": "stdout",
     "output_type": "stream",
     "text": [
      "Prediction:\n",
      "[78.09904]\n"
     ]
    }
   ],
   "source": [
    "mlp = MLPRegressor(hidden_layer_sizes=(100,6), max_iter=1000, activation='relu', \n",
    "                   solver='adam', random_state=42, learning_rate_init=0.001)\n",
    "\n",
    "mlp.fit(scaled_miami_source2, y)\n",
    "pred_mia_2_mm = mlp.predict(X_predict_scaled)\n",
    "\n",
    "print(\"Prediction:\")\n",
    "print(pred_mia_2_mm)"
   ]
  },
  {
   "cell_type": "markdown",
   "id": "277e2ffa",
   "metadata": {},
   "source": [
    "### Miami Source 3"
   ]
  },
  {
   "cell_type": "markdown",
   "id": "4a6ce18e",
   "metadata": {},
   "source": [
    "#### Standard Scaler"
   ]
  },
  {
   "cell_type": "code",
   "execution_count": 40,
   "id": "c4462512",
   "metadata": {},
   "outputs": [],
   "source": [
    "X = miami_source3[['TMAX', 'TMIN', 'TAVG', 'PRCP', 'AWND']].copy(deep=True)\n",
    "X.index = miami_source3['DATE']\n",
    "X = X[:source_3_constant - 1]\n",
    "fill_with_avg(X)\n",
    "\n",
    "scaler = StandardScaler()\n",
    "scaler.fit(X)\n",
    "X_train_scaled = scaler.transform(X)\n",
    "scaled_miami_source3 = pd.DataFrame(X_train_scaled, columns=X.columns, index=X.index)\n",
    "scaled_miami_source3.fillna(0, inplace=True)\n",
    "\n",
    "X_test = miami_source3.iloc[source_3_constant:source_3_constant+1]\n",
    "X_test.index = X_test['DATE']\n",
    "X_test = X_test[['TMAX', 'TMIN', 'TAVG', 'PRCP', 'AWND']]\n",
    "X_test_scaled = scaler.transform(X_test)\n",
    "X_predict_scaled = pd.DataFrame(X_test_scaled, columns=X_test.columns, index=X_test.index)\n",
    "\n",
    "y = miami_source3[['LABEL']].copy(deep=True)\n",
    "y = y[:source_3_constant - 1]\n",
    "y = y['LABEL'].ravel()"
   ]
  },
  {
   "cell_type": "code",
   "execution_count": 41,
   "id": "d555785e",
   "metadata": {},
   "outputs": [
    {
     "name": "stdout",
     "output_type": "stream",
     "text": [
      "Prediction:\n",
      "[80.9994944]\n"
     ]
    }
   ],
   "source": [
    "mlp = MLPRegressor(hidden_layer_sizes=(100,6), max_iter=1000, activation='relu', \n",
    "                   solver='adam', random_state=42, learning_rate_init=0.001)\n",
    "\n",
    "mlp.fit(scaled_miami_source3, y)\n",
    "pred_mia_3_ss = mlp.predict(X_predict_scaled)\n",
    "\n",
    "print(\"Prediction:\")\n",
    "print(pred_mia_3_ss)"
   ]
  },
  {
   "cell_type": "markdown",
   "id": "dec7cfa1",
   "metadata": {},
   "source": [
    "#### MinMax Scaler"
   ]
  },
  {
   "cell_type": "code",
   "execution_count": 42,
   "id": "fd85eaa7",
   "metadata": {},
   "outputs": [],
   "source": [
    "X = miami_source3[['TMAX', 'TMIN', 'TAVG', 'PRCP', 'AWND']].copy(deep=True)\n",
    "X.index = miami_source3['DATE']\n",
    "X = X[:source_3_constant - 1]\n",
    "fill_with_avg(X)\n",
    "\n",
    "scaler = MinMaxScaler()\n",
    "scaler.fit(X)\n",
    "X_train_scaled = scaler.transform(X)\n",
    "scaled_miami_source3 = pd.DataFrame(X_train_scaled, columns=X.columns, index=X.index)\n",
    "scaled_miami_source3.fillna(0, inplace=True)\n",
    "\n",
    "X_test = miami_source3.iloc[source_3_constant:source_3_constant+1]\n",
    "X_test.index = X_test['DATE']\n",
    "X_test = X_test[['TMAX', 'TMIN', 'TAVG', 'PRCP', 'AWND']]\n",
    "X_test_scaled = scaler.transform(X_test)\n",
    "X_predict_scaled = pd.DataFrame(X_test_scaled, columns=X_test.columns, index=X_test.index)\n",
    "\n",
    "y = miami_source3[['LABEL']].copy(deep=True)\n",
    "y = y[:source_3_constant - 1]\n",
    "y = y['LABEL'].ravel()"
   ]
  },
  {
   "cell_type": "code",
   "execution_count": 43,
   "id": "ab497b3d",
   "metadata": {},
   "outputs": [
    {
     "name": "stdout",
     "output_type": "stream",
     "text": [
      "Prediction:\n",
      "[81.43093615]\n"
     ]
    }
   ],
   "source": [
    "mlp = MLPRegressor(hidden_layer_sizes=(100,6), max_iter=1000, activation='relu', \n",
    "                   solver='adam', random_state=42, learning_rate_init=0.001)\n",
    "\n",
    "mlp.fit(scaled_miami_source3, y)\n",
    "pred_mia_3_mm = mlp.predict(X_predict_scaled)\n",
    "\n",
    "print(\"Prediction:\")\n",
    "print(pred_mia_3_mm)"
   ]
  },
  {
   "cell_type": "markdown",
   "id": "a180de61",
   "metadata": {},
   "source": [
    "### Miami Source 5"
   ]
  },
  {
   "cell_type": "markdown",
   "id": "819c6916",
   "metadata": {},
   "source": [
    "#### Standard Scaler"
   ]
  },
  {
   "cell_type": "code",
   "execution_count": 44,
   "id": "c4ab9b2f",
   "metadata": {},
   "outputs": [],
   "source": [
    "X = miami_source5[['TMAX', 'TMIN', 'TAVG', 'PRECIPITATION','WIND_SPEED', 'PRESSURE']].copy(deep=True)\n",
    "X.index = miami_source5.index\n",
    "X = X[:-2]\n",
    "fill_with_avg(X)\n",
    "\n",
    "scaler = StandardScaler()\n",
    "scaler.fit(X)\n",
    "X_train_scaled = scaler.transform(X)\n",
    "scaled_miami_source5 = pd.DataFrame(X_train_scaled, columns=X.columns, index=X.index)\n",
    "\n",
    "X_test = miami_source5[miami_source5.index == yesterday_encoded]\n",
    "X_test = X_test[['TMAX', 'TMIN', 'TAVG', 'PRECIPITATION','WIND_SPEED', 'PRESSURE']]\n",
    "scaled_value = scaler.transform(X_test)\n",
    "X_predict_scaled = pd.DataFrame(scaled_value, columns=X_test.columns, index=X_test.index)\n",
    "\n",
    "y = miami_source5[['LABEL']].copy(deep=True)\n",
    "y = y[:-2]\n",
    "y = y['LABEL'].ravel()"
   ]
  },
  {
   "cell_type": "code",
   "execution_count": 45,
   "id": "33d639cb",
   "metadata": {},
   "outputs": [
    {
     "name": "stdout",
     "output_type": "stream",
     "text": [
      "Prediction:\n",
      "[83.8957257]\n"
     ]
    }
   ],
   "source": [
    "mlp = MLPRegressor(hidden_layer_sizes=(100,6), max_iter=1000, activation='relu', \n",
    "                   solver='adam', random_state=42, learning_rate_init=0.001)\n",
    "\n",
    "mlp.fit(scaled_miami_source5, y)\n",
    "pred_mia_5_ss = mlp.predict(X_predict_scaled)\n",
    "\n",
    "print(\"Prediction:\")\n",
    "print(pred_mia_5_ss)"
   ]
  },
  {
   "cell_type": "markdown",
   "id": "12a56b5d",
   "metadata": {},
   "source": [
    "#### MinMax Scaler"
   ]
  },
  {
   "cell_type": "code",
   "execution_count": 46,
   "id": "fa5f79fe",
   "metadata": {},
   "outputs": [],
   "source": [
    "X = miami_source5[['TMAX', 'TMIN', 'TAVG', 'PRECIPITATION','WIND_SPEED', 'PRESSURE']].copy(deep=True)\n",
    "X.index = miami_source5.index\n",
    "X = X[:-2]\n",
    "fill_with_avg(X)\n",
    "\n",
    "scaler = MinMaxScaler()\n",
    "scaler.fit(X)\n",
    "X_train_scaled = scaler.transform(X)\n",
    "scaled_miami_source5 = pd.DataFrame(X_train_scaled, columns=X.columns, index=X.index)\n",
    "\n",
    "X_test = miami_source5[miami_source5.index == yesterday_encoded]\n",
    "X_test = X_test[['TMAX', 'TMIN', 'TAVG', 'PRECIPITATION','WIND_SPEED', 'PRESSURE']]\n",
    "scaled_value = scaler.transform(X_test)\n",
    "X_predict_scaled = pd.DataFrame(scaled_value, columns=X_test.columns, index=X_test.index)\n",
    "\n",
    "y = miami_source5[['LABEL']].copy(deep=True)\n",
    "y = y[:-2]\n",
    "y = y['LABEL'].ravel()"
   ]
  },
  {
   "cell_type": "code",
   "execution_count": 47,
   "id": "7a941553",
   "metadata": {},
   "outputs": [
    {
     "name": "stdout",
     "output_type": "stream",
     "text": [
      "Prediction:\n",
      "[84.25087399]\n"
     ]
    }
   ],
   "source": [
    "mlp = MLPRegressor(hidden_layer_sizes=(100,6), max_iter=1000, activation='relu', \n",
    "                   solver='adam', random_state=42, learning_rate_init=0.001)\n",
    "\n",
    "mlp.fit(scaled_miami_source5, y)\n",
    "pred_mia_5_mm = mlp.predict(X_predict_scaled)\n",
    "\n",
    "print(\"Prediction:\")\n",
    "print(pred_mia_5_mm)"
   ]
  },
  {
   "cell_type": "markdown",
   "id": "62daf293",
   "metadata": {},
   "source": [
    "### New York Source 2"
   ]
  },
  {
   "cell_type": "markdown",
   "id": "47017b37",
   "metadata": {},
   "source": [
    "#### Standard Scaler"
   ]
  },
  {
   "cell_type": "code",
   "execution_count": 48,
   "id": "c7d5ddb2",
   "metadata": {},
   "outputs": [],
   "source": [
    "X = ny_source2[['TMAX', 'TMIN', 'TAVG', 'PRECIPITATION', 'SNOW', 'surface_pressure']].copy(deep=True)\n",
    "X.index = ny_source2['DATE']\n",
    "X = X[:-4]\n",
    "fill_with_avg(X)\n",
    "\n",
    "scaler = StandardScaler()\n",
    "scaler.fit(X)\n",
    "X_train_scaled = scaler.transform(X)\n",
    "scaled_ny_source2 = pd.DataFrame(X_train_scaled, columns=X.columns, index=X.index)\n",
    "\n",
    "X_test = ny_source2[ny_source2['DATE'] == before_yesterday_encoded]\n",
    "X_test = X_test[['TMAX', 'TMIN', 'TAVG', 'PRECIPITATION', 'SNOW', 'surface_pressure']]\n",
    "X_test_scaled = scaler.transform(X_test)\n",
    "X_predict_scaled = pd.DataFrame(X_test_scaled, columns=X_test.columns, index=[before_yesterday_encoded])\n",
    "\n",
    "y = ny_source2[['LABEL']].copy(deep=True)\n",
    "y = y[:-4]\n",
    "y = y['LABEL'].ravel()"
   ]
  },
  {
   "cell_type": "code",
   "execution_count": 49,
   "id": "0b64f762",
   "metadata": {},
   "outputs": [
    {
     "name": "stdout",
     "output_type": "stream",
     "text": [
      "Prediction:\n",
      "[53.22766]\n"
     ]
    }
   ],
   "source": [
    "mlp = MLPRegressor(hidden_layer_sizes=(100,6), max_iter=1000, activation='relu', \n",
    "                   solver='adam', random_state=42, learning_rate_init=0.001)\n",
    "\n",
    "mlp.fit(scaled_ny_source2, y)\n",
    "pred_nyc_2_ss = mlp.predict(X_predict_scaled)\n",
    "\n",
    "print(\"Prediction:\")\n",
    "print(pred_nyc_2_ss)"
   ]
  },
  {
   "cell_type": "markdown",
   "id": "63646e0c",
   "metadata": {},
   "source": [
    "#### MinMax Scaler"
   ]
  },
  {
   "cell_type": "code",
   "execution_count": 50,
   "id": "0acb2ac0",
   "metadata": {},
   "outputs": [],
   "source": [
    "X = ny_source2[['TMAX', 'TMIN', 'TAVG', 'PRECIPITATION', 'SNOW', 'surface_pressure']].copy(deep=True)\n",
    "X.index = ny_source2['DATE']\n",
    "X = X[:-4]\n",
    "fill_with_avg(X)\n",
    "\n",
    "scaler = MinMaxScaler()\n",
    "scaler.fit(X)\n",
    "X_train_scaled = scaler.transform(X)\n",
    "scaled_ny_source2 = pd.DataFrame(X_train_scaled, columns=X.columns, index=X.index)\n",
    "\n",
    "X_test = ny_source2[ny_source2['DATE'] == before_yesterday_encoded]\n",
    "X_test = X_test[['TMAX', 'TMIN', 'TAVG', 'PRECIPITATION', 'SNOW', 'surface_pressure']]\n",
    "X_test_scaled = scaler.transform(X_test)\n",
    "X_predict_scaled = pd.DataFrame(X_test_scaled, columns=X_test.columns, index=[before_yesterday_encoded])\n",
    "\n",
    "y = ny_source2[['LABEL']].copy(deep=True)\n",
    "y = y[:-4]\n",
    "y = y['LABEL'].ravel()"
   ]
  },
  {
   "cell_type": "code",
   "execution_count": 51,
   "id": "d3553108",
   "metadata": {},
   "outputs": [
    {
     "name": "stdout",
     "output_type": "stream",
     "text": [
      "Prediction:\n",
      "[52.54103]\n"
     ]
    }
   ],
   "source": [
    "mlp = MLPRegressor(hidden_layer_sizes=(100,6), max_iter=1000, activation='relu', \n",
    "                   solver='adam', random_state=42, learning_rate_init=0.001)\n",
    "\n",
    "mlp.fit(scaled_ny_source2, y)\n",
    "pred_nyc_2_mm = mlp.predict(X_predict_scaled)\n",
    "\n",
    "print(\"Prediction:\")\n",
    "print(pred_nyc_2_mm)"
   ]
  },
  {
   "cell_type": "markdown",
   "id": "b8acdb3c",
   "metadata": {},
   "source": [
    "### New York Source 3"
   ]
  },
  {
   "cell_type": "markdown",
   "id": "e7a4272f",
   "metadata": {},
   "source": [
    "#### Standard Scaler"
   ]
  },
  {
   "cell_type": "code",
   "execution_count": 56,
   "id": "54ec415f",
   "metadata": {},
   "outputs": [],
   "source": [
    "X = ny_source3[['TMAX', 'TMIN', 'SNOW', 'PRCP', 'AWND']].copy(deep=True)\n",
    "X.index = ny_source3['DATE']\n",
    "X = X[:source_3_constant - 1]\n",
    "fill_with_avg(X)\n",
    "\n",
    "scaler = StandardScaler()\n",
    "scaler.fit(X)\n",
    "X_train_scaled = scaler.transform(X)\n",
    "scaled_ny_source3 = pd.DataFrame(X_train_scaled, columns=X.columns, index=X.index)\n",
    "scaled_ny_source3.fillna(0, inplace=True)\n",
    "\n",
    "X_test = ny_source3.iloc[source_3_constant:source_3_constant+1]\n",
    "X_test.index = X_test['DATE']\n",
    "X_test = X_test[['TMAX', 'TMIN', 'SNOW', 'PRCP', 'AWND']]\n",
    "X_test_scaled = scaler.transform(X_test)\n",
    "X_predict_scaled = pd.DataFrame(X_test_scaled, columns=X_test.columns, index=X_test.index)\n",
    "X_predict_scaled.fillna(0.0, inplace=True)\n",
    "\n",
    "y = ny_source3[['LABEL']].copy(deep=True)\n",
    "y = y[:source_3_constant - 1]\n",
    "y = y['LABEL'].ravel()"
   ]
  },
  {
   "cell_type": "code",
   "execution_count": 57,
   "id": "0842fcbf",
   "metadata": {},
   "outputs": [
    {
     "name": "stdout",
     "output_type": "stream",
     "text": [
      "Prediction:\n",
      "[59.41093563]\n"
     ]
    }
   ],
   "source": [
    "mlp = MLPRegressor(hidden_layer_sizes=(100,6), max_iter=1000, activation='relu', \n",
    "                   solver='adam', random_state=42, learning_rate_init=0.001)\n",
    "\n",
    "mlp.fit(scaled_ny_source3, y)\n",
    "pred_nyc_3_ss = mlp.predict(X_predict_scaled)\n",
    "\n",
    "print(\"Prediction:\")\n",
    "print(pred_nyc_3_ss)"
   ]
  },
  {
   "cell_type": "markdown",
   "id": "3b147694",
   "metadata": {},
   "source": [
    "#### MinMax Scaler"
   ]
  },
  {
   "cell_type": "code",
   "execution_count": 60,
   "id": "fcfd9462",
   "metadata": {},
   "outputs": [],
   "source": [
    "X = ny_source3[['TMAX', 'TMIN', 'SNOW', 'PRCP', 'AWND']].copy(deep=True)\n",
    "X.index = ny_source3['DATE']\n",
    "X = X[:source_3_constant - 1]\n",
    "fill_with_avg(X)\n",
    "\n",
    "scaler = MinMaxScaler()\n",
    "scaler.fit(X)\n",
    "X_train_scaled = scaler.transform(X)\n",
    "scaled_ny_source3 = pd.DataFrame(X_train_scaled, columns=X.columns, index=X.index)\n",
    "scaled_ny_source3.fillna(0, inplace=True)\n",
    "\n",
    "X_test = ny_source3.iloc[source_3_constant:source_3_constant+1]\n",
    "X_test.index = X_test['DATE']\n",
    "X_test = X_test[['TMAX', 'TMIN', 'SNOW', 'PRCP', 'AWND']]\n",
    "X_test_scaled = scaler.transform(X_test)\n",
    "X_predict_scaled = pd.DataFrame(X_test_scaled, columns=X_test.columns, index=X_test.index)\n",
    "X_predict_scaled.fillna(0.0, inplace=True)\n",
    "\n",
    "y = ny_source3[['LABEL']].copy(deep=True)\n",
    "y = y[:source_3_constant - 1]\n",
    "y = y['LABEL'].ravel()"
   ]
  },
  {
   "cell_type": "code",
   "execution_count": 61,
   "id": "15b638ce",
   "metadata": {},
   "outputs": [
    {
     "name": "stdout",
     "output_type": "stream",
     "text": [
      "Prediction:\n",
      "[60.4079473]\n"
     ]
    }
   ],
   "source": [
    "mlp = MLPRegressor(hidden_layer_sizes=(100,6), max_iter=1000, activation='relu', \n",
    "                   solver='adam', random_state=42, learning_rate_init=0.001)\n",
    "\n",
    "mlp.fit(scaled_ny_source3, y)\n",
    "pred_nyc_3_mm = mlp.predict(X_predict_scaled)\n",
    "\n",
    "print(\"Prediction:\")\n",
    "print(pred_nyc_3_mm)"
   ]
  },
  {
   "cell_type": "markdown",
   "id": "66c2fad6",
   "metadata": {},
   "source": [
    "### New York Source 5"
   ]
  },
  {
   "cell_type": "markdown",
   "id": "dc1b3981",
   "metadata": {},
   "source": [
    "#### Standard Scaler"
   ]
  },
  {
   "cell_type": "code",
   "execution_count": 62,
   "id": "f6382a44",
   "metadata": {},
   "outputs": [],
   "source": [
    "X = ny_source5[['TMAX', 'TMIN', 'TAVG', 'PRECIPITATION', 'SNOW', 'WIND_SPEED', 'PRESSURE']].copy(deep=True)\n",
    "X.index = ny_source5.index\n",
    "X = X[:-2]\n",
    "fill_with_avg(X)\n",
    "\n",
    "scaler = StandardScaler()\n",
    "scaler.fit(X)\n",
    "X_train_scaled = scaler.transform(X)\n",
    "scaled_ny_source5 = pd.DataFrame(X_train_scaled, columns=X.columns, index=X.index)\n",
    "scaled_ny_source5.fillna(0, inplace=True)\n",
    "\n",
    "X_test = ny_source5[ny_source5.index == yesterday_encoded]\n",
    "X_test = X_test[['TMAX', 'TMIN', 'TAVG', 'PRECIPITATION', 'SNOW', 'WIND_SPEED', 'PRESSURE']]\n",
    "scaled_value = scaler.transform(X_test)\n",
    "X_predict_scaled = pd.DataFrame(scaled_value, columns=X_test.columns, index=X_test.index)\n",
    "X_predict_scaled.fillna(0, inplace=True)\n",
    "\n",
    "y = ny_source5[['LABEL']].copy(deep=True)\n",
    "y = y[:-2]\n",
    "y = y['LABEL'].ravel()"
   ]
  },
  {
   "cell_type": "code",
   "execution_count": 63,
   "id": "04d777b3",
   "metadata": {},
   "outputs": [
    {
     "name": "stdout",
     "output_type": "stream",
     "text": [
      "Prediction:\n",
      "[52.47620713]\n"
     ]
    }
   ],
   "source": [
    "mlp = MLPRegressor(hidden_layer_sizes=(100,6), max_iter=1000, activation='relu', \n",
    "                   solver='adam', random_state=42, learning_rate_init=0.001)\n",
    "\n",
    "mlp.fit(scaled_ny_source5, y)\n",
    "pred_nyc_5_ss = mlp.predict(X_predict_scaled)\n",
    "\n",
    "print(\"Prediction:\")\n",
    "print(pred_nyc_5_ss)"
   ]
  },
  {
   "cell_type": "markdown",
   "id": "782509cb",
   "metadata": {},
   "source": [
    "#### MinMax Scaler"
   ]
  },
  {
   "cell_type": "code",
   "execution_count": 64,
   "id": "82449fc5",
   "metadata": {},
   "outputs": [],
   "source": [
    "X = ny_source5[['TMAX', 'TMIN', 'TAVG', 'PRECIPITATION', 'SNOW', 'WIND_SPEED', 'PRESSURE']].copy(deep=True)\n",
    "X.index = ny_source5.index\n",
    "X = X[:-2]\n",
    "fill_with_avg(X)\n",
    "\n",
    "scaler = MinMaxScaler()\n",
    "scaler.fit(X)\n",
    "X_train_scaled = scaler.transform(X)\n",
    "scaled_ny_source5 = pd.DataFrame(X_train_scaled, columns=X.columns, index=X.index)\n",
    "scaled_ny_source5.fillna(0, inplace=True)\n",
    "\n",
    "X_test = ny_source5[ny_source5.index == yesterday_encoded]\n",
    "X_test = X_test[['TMAX', 'TMIN', 'TAVG', 'PRECIPITATION', 'SNOW', 'WIND_SPEED', 'PRESSURE']]\n",
    "scaled_value = scaler.transform(X_test)\n",
    "X_predict_scaled = pd.DataFrame(scaled_value, columns=X_test.columns, index=X_test.index)\n",
    "X_predict_scaled.fillna(0, inplace=True)\n",
    "\n",
    "y = ny_source5[['LABEL']].copy(deep=True)\n",
    "y = y[:-2]\n",
    "y = y['LABEL'].ravel()"
   ]
  },
  {
   "cell_type": "code",
   "execution_count": 65,
   "id": "54972d56",
   "metadata": {},
   "outputs": [
    {
     "name": "stdout",
     "output_type": "stream",
     "text": [
      "Prediction:\n",
      "[52.84683493]\n"
     ]
    }
   ],
   "source": [
    "mlp = MLPRegressor(hidden_layer_sizes=(100,6), max_iter=1000, activation='relu', \n",
    "                   solver='adam', random_state=42, learning_rate_init=0.001)\n",
    "\n",
    "mlp.fit(scaled_ny_source5, y)\n",
    "pred_nyc_5_mm = mlp.predict(X_predict_scaled)\n",
    "\n",
    "print(\"Prediction:\")\n",
    "print(pred_nyc_5_mm)"
   ]
  },
  {
   "cell_type": "markdown",
   "id": "c78d2fee",
   "metadata": {},
   "source": [
    "### Chicago Source 2"
   ]
  },
  {
   "cell_type": "markdown",
   "id": "94b5bd85",
   "metadata": {},
   "source": [
    "#### Standard Scaler"
   ]
  },
  {
   "cell_type": "code",
   "execution_count": 66,
   "id": "adb27428",
   "metadata": {},
   "outputs": [],
   "source": [
    "X = chicago_source2[['TMAX', 'TMIN', 'TAVG', 'PRECIPITATION', 'SNOW', 'surface_pressure']].copy(deep=True)\n",
    "X.index = chicago_source2['DATE']\n",
    "X = X[:-4]\n",
    "fill_with_avg(X)\n",
    "\n",
    "scaler = StandardScaler()\n",
    "scaler.fit(X)\n",
    "X_train_scaled = scaler.transform(X)\n",
    "scaled_chicago_source2 = pd.DataFrame(X_train_scaled, columns=X.columns, index=X.index)\n",
    "\n",
    "X_test = chicago_source2[chicago_source2['DATE'] == before_yesterday_encoded]\n",
    "X_test = X_test[['TMAX', 'TMIN', 'TAVG', 'PRECIPITATION', 'SNOW', 'surface_pressure']]\n",
    "X_test_scaled = scaler.transform(X_test)\n",
    "X_predict_scaled = pd.DataFrame(X_test_scaled, columns=X_test.columns, index=[before_yesterday_encoded])\n",
    "\n",
    "y = chicago_source2[['LABEL']].copy(deep=True)\n",
    "y = y[:-4]\n",
    "y = y['LABEL'].ravel()"
   ]
  },
  {
   "cell_type": "code",
   "execution_count": 67,
   "id": "57684c32",
   "metadata": {},
   "outputs": [
    {
     "name": "stdout",
     "output_type": "stream",
     "text": [
      "Prediction:\n",
      "[47.45319]\n"
     ]
    }
   ],
   "source": [
    "mlp = MLPRegressor(hidden_layer_sizes=(100,6), max_iter=1000, activation='relu', \n",
    "                   solver='adam', random_state=42, learning_rate_init=0.001)\n",
    "\n",
    "mlp.fit(scaled_chicago_source2, y)\n",
    "pred_chi_2_ss = mlp.predict(X_predict_scaled)\n",
    "\n",
    "print(\"Prediction:\")\n",
    "print(pred_chi_2_ss)"
   ]
  },
  {
   "cell_type": "markdown",
   "id": "05486491",
   "metadata": {},
   "source": [
    "#### MinMax Scaler"
   ]
  },
  {
   "cell_type": "code",
   "execution_count": 68,
   "id": "7a13b7b5",
   "metadata": {},
   "outputs": [],
   "source": [
    "X = chicago_source2[['TMAX', 'TMIN', 'TAVG', 'PRECIPITATION', 'SNOW', 'surface_pressure']].copy(deep=True)\n",
    "X.index = chicago_source2['DATE']\n",
    "X = X[:-4]\n",
    "fill_with_avg(X)\n",
    "\n",
    "scaler = MinMaxScaler()\n",
    "scaler.fit(X)\n",
    "X_train_scaled = scaler.transform(X)\n",
    "scaled_chicago_source2 = pd.DataFrame(X_train_scaled, columns=X.columns, index=X.index)\n",
    "\n",
    "X_test = chicago_source2[chicago_source2['DATE'] == before_yesterday_encoded]\n",
    "X_test = X_test[['TMAX', 'TMIN', 'TAVG', 'PRECIPITATION', 'SNOW', 'surface_pressure']]\n",
    "X_test_scaled = scaler.transform(X_test)\n",
    "X_predict_scaled = pd.DataFrame(X_test_scaled, columns=X_test.columns, index=[before_yesterday_encoded])\n",
    "\n",
    "y = chicago_source2[['LABEL']].copy(deep=True)\n",
    "y = y[:-4]\n",
    "y = y['LABEL'].ravel()"
   ]
  },
  {
   "cell_type": "code",
   "execution_count": 69,
   "id": "20b09297",
   "metadata": {},
   "outputs": [
    {
     "name": "stdout",
     "output_type": "stream",
     "text": [
      "Prediction:\n",
      "[48.766212]\n"
     ]
    }
   ],
   "source": [
    "mlp = MLPRegressor(hidden_layer_sizes=(100,6), max_iter=1000, activation='relu', \n",
    "                   solver='adam', random_state=42, learning_rate_init=0.001)\n",
    "\n",
    "mlp.fit(scaled_chicago_source2, y)\n",
    "pred_chi_2_mm = mlp.predict(X_predict_scaled)\n",
    "\n",
    "print(\"Prediction:\")\n",
    "print(pred_chi_2_mm)"
   ]
  },
  {
   "cell_type": "markdown",
   "id": "469fdc9e",
   "metadata": {},
   "source": [
    "### Chicago Source 3"
   ]
  },
  {
   "cell_type": "markdown",
   "id": "972a9bc2",
   "metadata": {},
   "source": [
    "#### Standard Scaler"
   ]
  },
  {
   "cell_type": "code",
   "execution_count": 70,
   "id": "223ac121",
   "metadata": {},
   "outputs": [],
   "source": [
    "X = chicago_source3[['TMAX', 'TMIN', 'SNOW', 'PRCP', 'AWND']].copy(deep=True)\n",
    "X.index = chicago_source3['DATE']\n",
    "X = X[:source_3_constant - 1]\n",
    "fill_with_avg(X)\n",
    "\n",
    "scaler = StandardScaler()\n",
    "scaler.fit(X)\n",
    "X_train_scaled = scaler.transform(X)\n",
    "scaled_chicago_source3 = pd.DataFrame(X_train_scaled, columns=X.columns, index=X.index)\n",
    "scaled_chicago_source3.fillna(0, inplace=True)\n",
    "\n",
    "X_test = chicago_source3.iloc[source_3_constant:source_3_constant+1]\n",
    "X_test.index = X_test['DATE']\n",
    "X_test = X_test[['TMAX', 'TMIN', 'SNOW', 'PRCP', 'AWND']]\n",
    "X_test_scaled = scaler.transform(X_test)\n",
    "X_predict_scaled = pd.DataFrame(X_test_scaled, columns=X_test.columns, index=X_test.index)\n",
    "\n",
    "y = chicago_source3[['LABEL']].copy(deep=True)\n",
    "y = y[:source_3_constant - 1]\n",
    "y = y['LABEL'].ravel()"
   ]
  },
  {
   "cell_type": "code",
   "execution_count": 71,
   "id": "f4c2811e",
   "metadata": {},
   "outputs": [
    {
     "name": "stdout",
     "output_type": "stream",
     "text": [
      "Prediction:\n",
      "[43.53379578]\n"
     ]
    }
   ],
   "source": [
    "mlp = MLPRegressor(hidden_layer_sizes=(100,6), max_iter=1000, activation='relu', \n",
    "                   solver='adam', random_state=42, learning_rate_init=0.001)\n",
    "\n",
    "mlp.fit(scaled_chicago_source3, y)\n",
    "pred_chi_3_ss = mlp.predict(X_predict_scaled)\n",
    "\n",
    "print(\"Prediction:\")\n",
    "print(pred_chi_3_ss)"
   ]
  },
  {
   "cell_type": "markdown",
   "id": "51843e54",
   "metadata": {},
   "source": [
    "#### MinMax Scaler"
   ]
  },
  {
   "cell_type": "code",
   "execution_count": 72,
   "id": "6aed9f2b",
   "metadata": {},
   "outputs": [],
   "source": [
    "X = chicago_source3[['TMAX', 'TMIN', 'SNOW', 'PRCP', 'AWND']].copy(deep=True)\n",
    "X.index = chicago_source3['DATE']\n",
    "X = X[:source_3_constant - 1]\n",
    "fill_with_avg(X)\n",
    "\n",
    "scaler = MinMaxScaler()\n",
    "scaler.fit(X)\n",
    "X_train_scaled = scaler.transform(X)\n",
    "scaled_chicago_source3 = pd.DataFrame(X_train_scaled, columns=X.columns, index=X.index)\n",
    "scaled_chicago_source3.fillna(0, inplace=True)\n",
    "\n",
    "X_test = chicago_source3.iloc[source_3_constant:source_3_constant+1]\n",
    "X_test.index = X_test['DATE']\n",
    "X_test = X_test[['TMAX', 'TMIN', 'SNOW', 'PRCP', 'AWND']]\n",
    "X_test_scaled = scaler.transform(X_test)\n",
    "X_predict_scaled = pd.DataFrame(X_test_scaled, columns=X_test.columns, index=X_test.index)\n",
    "\n",
    "y = chicago_source3[['LABEL']].copy(deep=True)\n",
    "y = y[:source_3_constant - 1]\n",
    "y = y['LABEL'].ravel()"
   ]
  },
  {
   "cell_type": "code",
   "execution_count": 73,
   "id": "7b09747d",
   "metadata": {},
   "outputs": [
    {
     "name": "stdout",
     "output_type": "stream",
     "text": [
      "Prediction:\n",
      "[42.34775498]\n"
     ]
    }
   ],
   "source": [
    "mlp = MLPRegressor(hidden_layer_sizes=(100,6), max_iter=1000, activation='relu', \n",
    "                   solver='adam', random_state=42, learning_rate_init=0.001)\n",
    "\n",
    "mlp.fit(scaled_chicago_source3, y)\n",
    "pred_chi_3_mm = mlp.predict(X_predict_scaled)\n",
    "\n",
    "print(\"Prediction:\")\n",
    "print(pred_chi_3_mm)"
   ]
  },
  {
   "cell_type": "markdown",
   "id": "d71f9244",
   "metadata": {},
   "source": [
    "### Chicago Source 5"
   ]
  },
  {
   "cell_type": "markdown",
   "id": "9cdf5a50",
   "metadata": {},
   "source": [
    "#### Standard Scaler"
   ]
  },
  {
   "cell_type": "code",
   "execution_count": 74,
   "id": "c406a3b2",
   "metadata": {},
   "outputs": [],
   "source": [
    "X = chicago_source5[['TMAX', 'TMIN', 'TAVG', 'PRECIPITATION', 'SNOW', 'WIND_SPEED', 'PRESSURE']].copy(deep=True)\n",
    "X.index = chicago_source5.index\n",
    "X = X[:-2]\n",
    "fill_with_avg(X)\n",
    "\n",
    "scaler = StandardScaler()\n",
    "scaler.fit(X)\n",
    "X_train_scaled = scaler.transform(X)\n",
    "scaled_chicago_source5 = pd.DataFrame(X_train_scaled, columns=X.columns, index=X.index)\n",
    "scaled_chicago_source5.fillna(0, inplace=True)\n",
    "\n",
    "X_test = chicago_source5[chicago_source5.index == yesterday_encoded]\n",
    "X_test = X_test[['TMAX', 'TMIN', 'TAVG', 'PRECIPITATION', 'SNOW', 'WIND_SPEED', 'PRESSURE']]\n",
    "scaled_value = scaler.transform(X_test)\n",
    "X_predict_scaled = pd.DataFrame(scaled_value, columns=X_test.columns, index=X_test.index)\n",
    "X_predict_scaled.fillna(0, inplace=True)\n",
    "\n",
    "y = chicago_source5[['LABEL']].copy(deep=True)\n",
    "y = y[:-2]\n",
    "y = y['LABEL'].ravel()"
   ]
  },
  {
   "cell_type": "code",
   "execution_count": 75,
   "id": "78da57ea",
   "metadata": {},
   "outputs": [
    {
     "name": "stdout",
     "output_type": "stream",
     "text": [
      "Prediction:\n",
      "[58.6920941]\n"
     ]
    }
   ],
   "source": [
    "mlp = MLPRegressor(hidden_layer_sizes=(100,6), max_iter=1000, activation='relu', \n",
    "                   solver='adam', random_state=42, learning_rate_init=0.001)\n",
    "\n",
    "mlp.fit(scaled_chicago_source5, y)\n",
    "pred_chi_5_ss = mlp.predict(X_predict_scaled)\n",
    "\n",
    "print(\"Prediction:\")\n",
    "print(pred_chi_5_ss)"
   ]
  },
  {
   "cell_type": "markdown",
   "id": "0f78199f",
   "metadata": {},
   "source": [
    "#### MinMax Scaler"
   ]
  },
  {
   "cell_type": "code",
   "execution_count": 76,
   "id": "c74405e9",
   "metadata": {},
   "outputs": [],
   "source": [
    "X = chicago_source5[['TMAX', 'TMIN', 'TAVG', 'PRECIPITATION', 'SNOW', 'WIND_SPEED', 'PRESSURE']].copy(deep=True)\n",
    "X.index = chicago_source5.index\n",
    "X = X[:-2]\n",
    "fill_with_avg(X)\n",
    "\n",
    "scaler = MinMaxScaler()\n",
    "scaler.fit(X)\n",
    "X_train_scaled = scaler.transform(X)\n",
    "scaled_chicago_source5 = pd.DataFrame(X_train_scaled, columns=X.columns, index=X.index)\n",
    "scaled_chicago_source5.fillna(0, inplace=True)\n",
    "\n",
    "X_test = chicago_source5[chicago_source5.index == yesterday_encoded]\n",
    "X_test = X_test[['TMAX', 'TMIN', 'TAVG', 'PRECIPITATION', 'SNOW', 'WIND_SPEED', 'PRESSURE']]\n",
    "scaled_value = scaler.transform(X_test)\n",
    "X_predict_scaled = pd.DataFrame(scaled_value, columns=X_test.columns, index=X_test.index)\n",
    "X_predict_scaled.fillna(0, inplace=True)\n",
    "\n",
    "y = chicago_source5[['LABEL']].copy(deep=True)\n",
    "y = y[:-2]\n",
    "y = y['LABEL'].ravel()"
   ]
  },
  {
   "cell_type": "code",
   "execution_count": 77,
   "id": "5809fe58",
   "metadata": {},
   "outputs": [
    {
     "name": "stdout",
     "output_type": "stream",
     "text": [
      "Prediction:\n",
      "[62.80279638]\n"
     ]
    }
   ],
   "source": [
    "mlp = MLPRegressor(hidden_layer_sizes=(100,6), max_iter=1000, activation='relu', \n",
    "                   solver='adam', random_state=42, learning_rate_init=0.001)\n",
    "\n",
    "mlp.fit(scaled_chicago_source5, y)\n",
    "pred_chi_5_mm = mlp.predict(X_predict_scaled)\n",
    "\n",
    "print(\"Prediction:\")\n",
    "print(pred_chi_5_mm)"
   ]
  },
  {
   "cell_type": "markdown",
   "id": "a9f592c3",
   "metadata": {},
   "source": [
    "### Austin Source 2"
   ]
  },
  {
   "cell_type": "markdown",
   "id": "8e3ccbd4",
   "metadata": {},
   "source": [
    "#### Standard Scaler"
   ]
  },
  {
   "cell_type": "code",
   "execution_count": 78,
   "id": "5fefcbed",
   "metadata": {},
   "outputs": [],
   "source": [
    "X = austin_source2[['TMAX', 'TMIN', 'TAVG', 'PRECIPITATION', 'surface_pressure']].copy(deep=True)\n",
    "X.index = austin_source2['DATE']\n",
    "X = X[:-4]\n",
    "fill_with_avg(X)\n",
    "\n",
    "scaler = StandardScaler()\n",
    "scaler.fit(X)\n",
    "X_train_scaled = scaler.transform(X)\n",
    "scaled_austin_source2 = pd.DataFrame(X_train_scaled, columns=X.columns, index=X.index)\n",
    "\n",
    "X_test = austin_source2[austin_source2['DATE'] == before_yesterday_encoded]\n",
    "X_test = X_test[['TMAX', 'TMIN', 'TAVG', 'PRECIPITATION', 'surface_pressure']]\n",
    "X_test_scaled = scaler.transform(X_test)\n",
    "X_predict_scaled = pd.DataFrame(X_test_scaled, columns=X_test.columns, index=[before_yesterday_encoded])\n",
    "\n",
    "y = austin_source2[['LABEL']].copy(deep=True)\n",
    "y = y[:-4]\n",
    "y = y['LABEL'].ravel()"
   ]
  },
  {
   "cell_type": "code",
   "execution_count": 79,
   "id": "c636a418",
   "metadata": {},
   "outputs": [
    {
     "name": "stdout",
     "output_type": "stream",
     "text": [
      "Prediction:\n",
      "[73.749405]\n"
     ]
    }
   ],
   "source": [
    "mlp = MLPRegressor(hidden_layer_sizes=(100,6), max_iter=1000, activation='relu', \n",
    "                   solver='adam', random_state=42, learning_rate_init=0.001)\n",
    "\n",
    "mlp.fit(scaled_austin_source2, y)\n",
    "pred_aus_2_ss = mlp.predict(X_predict_scaled)\n",
    "\n",
    "print(\"Prediction:\")\n",
    "print(pred_aus_2_ss)"
   ]
  },
  {
   "cell_type": "markdown",
   "id": "d68d74e9",
   "metadata": {},
   "source": [
    "#### MinMax Scaler"
   ]
  },
  {
   "cell_type": "code",
   "execution_count": 80,
   "id": "426a7aba",
   "metadata": {},
   "outputs": [],
   "source": [
    "X = austin_source2[['TMAX', 'TMIN', 'TAVG', 'PRECIPITATION', 'surface_pressure']].copy(deep=True)\n",
    "X.index = austin_source2['DATE']\n",
    "X = X[:-4]\n",
    "fill_with_avg(X)\n",
    "\n",
    "scaler = MinMaxScaler()\n",
    "scaler.fit(X)\n",
    "X_train_scaled = scaler.transform(X)\n",
    "scaled_austin_source2 = pd.DataFrame(X_train_scaled, columns=X.columns, index=X.index)\n",
    "\n",
    "X_test = austin_source2[austin_source2['DATE'] == before_yesterday_encoded]\n",
    "X_test = X_test[['TMAX', 'TMIN', 'TAVG', 'PRECIPITATION', 'surface_pressure']]\n",
    "X_test_scaled = scaler.transform(X_test)\n",
    "X_predict_scaled = pd.DataFrame(X_test_scaled, columns=X_test.columns, index=[before_yesterday_encoded])\n",
    "\n",
    "y = austin_source2[['LABEL']].copy(deep=True)\n",
    "y = y[:-4]\n",
    "y = y['LABEL'].ravel()"
   ]
  },
  {
   "cell_type": "code",
   "execution_count": 81,
   "id": "1d6c2cdb",
   "metadata": {},
   "outputs": [
    {
     "name": "stdout",
     "output_type": "stream",
     "text": [
      "Prediction:\n",
      "[74.642975]\n"
     ]
    }
   ],
   "source": [
    "mlp = MLPRegressor(hidden_layer_sizes=(100,6), max_iter=1000, activation='relu', \n",
    "                   solver='adam', random_state=42, learning_rate_init=0.001)\n",
    "\n",
    "mlp.fit(scaled_austin_source2, y)\n",
    "pred_aus_2_mm = mlp.predict(X_predict_scaled)\n",
    "\n",
    "print(\"Prediction:\")\n",
    "print(pred_aus_2_mm)"
   ]
  },
  {
   "cell_type": "markdown",
   "id": "3b043b43",
   "metadata": {},
   "source": [
    "### Austin Source 3"
   ]
  },
  {
   "cell_type": "markdown",
   "id": "0e3c6a2c",
   "metadata": {},
   "source": [
    "#### Standard Scaler"
   ]
  },
  {
   "cell_type": "code",
   "execution_count": 86,
   "id": "78719389",
   "metadata": {},
   "outputs": [],
   "source": [
    "X = austin_source3[['TMAX', 'TMIN', 'PRCP', 'AWND']].copy(deep=True)\n",
    "X.index = austin_source3['DATE']\n",
    "X = X[:source_3_constant - 1]\n",
    "fill_with_avg(X)\n",
    "\n",
    "scaler = StandardScaler()\n",
    "scaler.fit(X)\n",
    "X_train_scaled = scaler.transform(X)\n",
    "scaled_austin_source3 = pd.DataFrame(X_train_scaled, columns=X.columns, index=X.index)\n",
    "scaled_austin_source3.fillna(0, inplace=True)\n",
    "\n",
    "X_test = austin_source3.iloc[source_3_constant:source_3_constant+1]\n",
    "X_test.index = X_test['DATE']\n",
    "X_test = X_test[['TMAX', 'TMIN', 'PRCP', 'AWND']]\n",
    "X_test_scaled = scaler.transform(X_test)\n",
    "X_predict_scaled = pd.DataFrame(X_test_scaled, columns=X_test.columns, index=X_test.index)\n",
    "\n",
    "y = austin_source3[['LABEL']].copy(deep=True)\n",
    "y = y[:source_3_constant - 1]\n",
    "y = y['LABEL'].ravel()"
   ]
  },
  {
   "cell_type": "code",
   "execution_count": 87,
   "id": "4412be98",
   "metadata": {},
   "outputs": [
    {
     "name": "stdout",
     "output_type": "stream",
     "text": [
      "Prediction:\n",
      "[73.87839441]\n"
     ]
    }
   ],
   "source": [
    "mlp = MLPRegressor(hidden_layer_sizes=(100,6), max_iter=1000, activation='relu', \n",
    "                   solver='adam', random_state=42, learning_rate_init=0.001)\n",
    "\n",
    "mlp.fit(scaled_austin_source3, y)\n",
    "pred_aus_3_ss = mlp.predict(X_predict_scaled)\n",
    "\n",
    "print(\"Prediction:\")\n",
    "print(pred_aus_3_ss)"
   ]
  },
  {
   "cell_type": "markdown",
   "id": "4435d37f",
   "metadata": {},
   "source": [
    "#### MinMax Scaler"
   ]
  },
  {
   "cell_type": "code",
   "execution_count": 88,
   "id": "91ae1232",
   "metadata": {},
   "outputs": [],
   "source": [
    "X = austin_source3[['TMAX', 'TMIN', 'PRCP', 'AWND']].copy(deep=True)\n",
    "X.index = austin_source3['DATE']\n",
    "X = X[:source_3_constant - 1]\n",
    "fill_with_avg(X)\n",
    "\n",
    "scaler = MinMaxScaler()\n",
    "scaler.fit(X)\n",
    "X_train_scaled = scaler.transform(X)\n",
    "scaled_austin_source3 = pd.DataFrame(X_train_scaled, columns=X.columns, index=X.index)\n",
    "scaled_austin_source3.fillna(0, inplace=True)\n",
    "\n",
    "X_test = austin_source3.iloc[source_3_constant:source_3_constant+1]\n",
    "X_test.index = X_test['DATE']\n",
    "X_test = X_test[['TMAX', 'TMIN', 'PRCP', 'AWND']]\n",
    "X_test_scaled = scaler.transform(X_test)\n",
    "X_predict_scaled = pd.DataFrame(X_test_scaled, columns=X_test.columns, index=X_test.index)\n",
    "\n",
    "y = austin_source3[['LABEL']].copy(deep=True)\n",
    "y = y[:source_3_constant - 1]\n",
    "y = y['LABEL'].ravel()"
   ]
  },
  {
   "cell_type": "code",
   "execution_count": 89,
   "id": "431d9b2e",
   "metadata": {},
   "outputs": [
    {
     "name": "stdout",
     "output_type": "stream",
     "text": [
      "Prediction:\n",
      "[75.93065741]\n"
     ]
    }
   ],
   "source": [
    "mlp = MLPRegressor(hidden_layer_sizes=(100,6), max_iter=1500, activation='relu', \n",
    "                   solver='adam', random_state=42, learning_rate_init=0.001)\n",
    "\n",
    "mlp.fit(scaled_austin_source3, y)\n",
    "pred_aus_3_mm = mlp.predict(X_predict_scaled)\n",
    "\n",
    "print(\"Prediction:\")\n",
    "print(pred_aus_3_mm)"
   ]
  },
  {
   "cell_type": "markdown",
   "id": "9e0fd856",
   "metadata": {},
   "source": [
    "### Austin Source 5"
   ]
  },
  {
   "cell_type": "markdown",
   "id": "fb609dd4",
   "metadata": {},
   "source": [
    "#### Standard Scaler"
   ]
  },
  {
   "cell_type": "code",
   "execution_count": 90,
   "id": "ed5ff4aa",
   "metadata": {},
   "outputs": [],
   "source": [
    "X = austin_source5[['TMAX', 'TMIN', 'TAVG', 'PRECIPITATION', 'WIND_SPEED', 'PRESSURE']].copy(deep=True)\n",
    "X.index = austin_source5.index\n",
    "X = X[:-2]\n",
    "fill_with_avg(X)\n",
    "\n",
    "scaler = StandardScaler()\n",
    "scaler.fit(X)\n",
    "X_train_scaled = scaler.transform(X)\n",
    "scaled_austin_source5 = pd.DataFrame(X_train_scaled, columns=X.columns, index=X.index)\n",
    "scaled_austin_source5.fillna(0, inplace=True)\n",
    "\n",
    "X_test = austin_source5[austin_source5.index == yesterday_encoded]\n",
    "X_test = X_test[['TMAX', 'TMIN', 'TAVG', 'PRECIPITATION', 'WIND_SPEED', 'PRESSURE']]\n",
    "scaled_value = scaler.transform(X_test)\n",
    "X_predict_scaled = pd.DataFrame(scaled_value, columns=X_test.columns, index=X_test.index)\n",
    "X_predict_scaled.fillna(0, inplace=True)\n",
    "\n",
    "y = austin_source5[['LABEL']].copy(deep=True)\n",
    "y = y[:-2]\n",
    "y = y['LABEL'].ravel()"
   ]
  },
  {
   "cell_type": "code",
   "execution_count": 91,
   "id": "27e3b648",
   "metadata": {},
   "outputs": [
    {
     "name": "stdout",
     "output_type": "stream",
     "text": [
      "Prediction:\n",
      "[72.99173197]\n"
     ]
    }
   ],
   "source": [
    "mlp = MLPRegressor(hidden_layer_sizes=(100,6), max_iter=1000, activation='relu', \n",
    "                   solver='adam', random_state=42, learning_rate_init=0.001)\n",
    "\n",
    "mlp.fit(scaled_austin_source5, y)\n",
    "pred_aus_5_ss = mlp.predict(X_predict_scaled)\n",
    "\n",
    "print(\"Prediction:\")\n",
    "print(pred_aus_5_ss)"
   ]
  },
  {
   "cell_type": "markdown",
   "id": "36f22ef4",
   "metadata": {},
   "source": [
    "#### MinMax Scaler"
   ]
  },
  {
   "cell_type": "code",
   "execution_count": 92,
   "id": "00c15a98",
   "metadata": {},
   "outputs": [],
   "source": [
    "X = austin_source5[['TMAX', 'TMIN', 'TAVG', 'PRECIPITATION', 'WIND_SPEED', 'PRESSURE']].copy(deep=True)\n",
    "X.index = austin_source5.index\n",
    "X = X[:-2]\n",
    "fill_with_avg(X)\n",
    "\n",
    "scaler = MinMaxScaler()\n",
    "scaler.fit(X)\n",
    "X_train_scaled = scaler.transform(X)\n",
    "scaled_austin_source5 = pd.DataFrame(X_train_scaled, columns=X.columns, index=X.index)\n",
    "scaled_austin_source5.fillna(0, inplace=True)\n",
    "\n",
    "X_test = austin_source5[austin_source5.index == yesterday_encoded]\n",
    "X_test = X_test[['TMAX', 'TMIN', 'TAVG', 'PRECIPITATION', 'WIND_SPEED', 'PRESSURE']]\n",
    "scaled_value = scaler.transform(X_test)\n",
    "X_predict_scaled = pd.DataFrame(scaled_value, columns=X_test.columns, index=X_test.index)\n",
    "X_predict_scaled.fillna(0, inplace=True)\n",
    "\n",
    "y = austin_source5[['LABEL']].copy(deep=True)\n",
    "y = y[:-2]\n",
    "y = y['LABEL'].ravel()"
   ]
  },
  {
   "cell_type": "code",
   "execution_count": 93,
   "id": "6eff9053",
   "metadata": {},
   "outputs": [
    {
     "name": "stdout",
     "output_type": "stream",
     "text": [
      "Prediction:\n",
      "[78.83868337]\n"
     ]
    }
   ],
   "source": [
    "mlp = MLPRegressor(hidden_layer_sizes=(100,6), max_iter=1000, activation='relu', \n",
    "                   solver='adam', random_state=42, learning_rate_init=0.001)\n",
    "\n",
    "mlp.fit(scaled_austin_source5, y)\n",
    "pred_aus_5_mm = mlp.predict(X_predict_scaled)\n",
    "\n",
    "print(\"Prediction:\")\n",
    "print(pred_aus_5_mm)"
   ]
  },
  {
   "cell_type": "markdown",
   "id": "3ea1c42a",
   "metadata": {},
   "source": [
    "### Predictions"
   ]
  },
  {
   "cell_type": "markdown",
   "id": "25b1b7c9",
   "metadata": {},
   "source": [
    "In order to compare all predictions, especially those for the same source and city but with different scaling method, all predictions were printed here for analysis. Variable names ending in 'ss' indicate Standard Scaler, and those ending in 'mm' indicate MinMax Scaler. As mentioned before, Standard scaling gave slightly higher predictions than MinMax scaling most of the time, so the MinMax Scaler was chosen for the final model, since lower predictions were more accurate due to the nature of the sources. For this model, the final prediction submitted to Kalshi was calculated by averaging all of these predictions for each city, but this changed for the final model since the Standard Scaler was no longer used."
   ]
  },
  {
   "cell_type": "code",
   "execution_count": 94,
   "id": "1e8e5869",
   "metadata": {},
   "outputs": [
    {
     "name": "stdout",
     "output_type": "stream",
     "text": [
      "pred_mia_2_ss: [78.25359]\n",
      "pred_mia_2_mm: [78.09904]\n",
      "pred_mia_3_ss: [80.9994944]\n",
      "pred_mia_3_mm: [81.43093615]\n",
      "pred_mia_5_ss: [83.8957257]\n",
      "pred_mia_5_mm: [84.25087399]\n",
      "pred_nyc_2_ss: [53.22766]\n",
      "pred_nyc_2_mm: [52.54103]\n",
      "pred_nyc_3_ss: [59.41093563]\n",
      "pred_nyc_3_mm: [60.4079473]\n",
      "pred_nyc_5_ss: [52.47620713]\n",
      "pred_nyc_5_mm: [52.84683493]\n",
      "pred_chi_2_ss: [47.45319]\n",
      "pred_chi_2_mm: [48.766212]\n",
      "pred_chi_3_ss: [43.53379578]\n",
      "pred_chi_3_mm: [42.34775498]\n",
      "pred_chi_5_ss: [58.6920941]\n",
      "pred_chi_5_mm: [62.80279638]\n",
      "pred_aus_2_ss: [73.749405]\n",
      "pred_aus_2_mm: [74.642975]\n",
      "pred_aus_3_ss: [73.87839441]\n",
      "pred_aus_3_mm: [75.93065741]\n",
      "pred_aus_5_ss: [72.99173197]\n",
      "pred_aus_5_mm: [78.83868337]\n"
     ]
    }
   ],
   "source": [
    "print(f'pred_mia_2_ss: {pred_mia_2_ss}')\n",
    "print(f'pred_mia_2_mm: {pred_mia_2_mm}')\n",
    "\n",
    "print(f'pred_mia_3_ss: {pred_mia_3_ss}')\n",
    "print(f'pred_mia_3_mm: {pred_mia_3_mm}')\n",
    "\n",
    "print(f'pred_mia_5_ss: {pred_mia_5_ss}')\n",
    "print(f'pred_mia_5_mm: {pred_mia_5_mm}')\n",
    "\n",
    "print(f'pred_nyc_2_ss: {pred_nyc_2_ss}')\n",
    "print(f'pred_nyc_2_mm: {pred_nyc_2_mm}')\n",
    "\n",
    "print(f'pred_nyc_3_ss: {pred_nyc_3_ss}')\n",
    "print(f'pred_nyc_3_mm: {pred_nyc_3_mm}')\n",
    "\n",
    "print(f'pred_nyc_5_ss: {pred_nyc_5_ss}')\n",
    "print(f'pred_nyc_5_mm: {pred_nyc_5_mm}')\n",
    "\n",
    "print(f'pred_chi_2_ss: {pred_chi_2_ss}')\n",
    "print(f'pred_chi_2_mm: {pred_chi_2_mm}')\n",
    "\n",
    "print(f'pred_chi_3_ss: {pred_chi_3_ss}')\n",
    "print(f'pred_chi_3_mm: {pred_chi_3_mm}')\n",
    "\n",
    "print(f'pred_chi_5_ss: {pred_chi_5_ss}')\n",
    "print(f'pred_chi_5_mm: {pred_chi_5_mm}')\n",
    "\n",
    "print(f'pred_aus_2_ss: {pred_aus_2_ss}')\n",
    "print(f'pred_aus_2_mm: {pred_aus_2_mm}')\n",
    "\n",
    "print(f'pred_aus_3_ss: {pred_aus_3_ss}')\n",
    "print(f'pred_aus_3_mm: {pred_aus_3_mm}')\n",
    "\n",
    "print(f'pred_aus_5_ss: {pred_aus_5_ss}')\n",
    "print(f'pred_aus_5_mm: {pred_aus_5_mm}')"
   ]
  },
  {
   "cell_type": "markdown",
   "id": "c4e3c4f5",
   "metadata": {},
   "source": [
    "## Section 7: Final Model"
   ]
  },
  {
   "cell_type": "markdown",
   "id": "e5f3d6af",
   "metadata": {},
   "source": [
    "For the final model, the MLP Regressor model was kept, with slight changes. Additionally, major changes were made to the structure of the model for efficiency and improved readability. The use of scikit learn Pipelines was introduced for the final model, making it more efficient to instantiate the 5 regressors used for each city, and connect them automatically to the scaling algorithm. There was an attempt to add a fusion layer at the beginning of the network so only one model had to be built per city, but this proved to be extremely complex for this case because the sources have different numbers of observations. Instead of the fusion layer, pipelines were introduced so the process would be simpler but still building 1 model per source per city, they are all identical models. The process to make a prediction in this final model is organizing the data for sources 2, 3 and 5 the same way as they have been organized and cleaned before. For sources 1 and 4, the process is very similar, but adjusted to the features and needs of these sources. After the data is all organized into variables with simple names, input data, labels, and testing data for each source are organized in ordered collections. Then, one pipeline is created for each source using a loop, each pipeline is identical and consists of a MinMax Scaler and an MLP Regressor, all pipelines are saved in an ordered collection as well. Then, using another loop, the algorithm iterates simultaneously over the input data collection, the labels collection, the testing data collection, and the pipeline collection. On each iteration of the loop, it chooses the pipeline and its corresponding input, label and testing data, and then fits the pipeline with the input data and labels, and then predicts using the testing data and the trained model, saving the prediction in a predictions collection. Finally, a final prediction for the city is saved by averaging the predictions collection holding the prediction for each source. The MLP Regressor in each pipeline is identical to those in all pipelines, and they are almost identical to the ones used in Section 6: Model Version 2.0 - MLP Regressor. The only exceptions are: the MLP Regressors used here have 2 hidden layers, the first one has 100 neurons, and the second one has 31 neurons. Through trial and error, this structure gave the best predictions, but the changes were very slight anyway. Additionally, the number of epochs had to be increased to 3000 because most models were no longing converging with 1000 epochs."
   ]
  },
  {
   "cell_type": "markdown",
   "id": "e5388e47",
   "metadata": {},
   "source": [
    "### Imports"
   ]
  },
  {
   "cell_type": "code",
   "execution_count": 95,
   "id": "7b7da2b3",
   "metadata": {},
   "outputs": [],
   "source": [
    "from sklearn.pipeline import Pipeline\n",
    "from sklearn.preprocessing import MinMaxScaler\n",
    "from sklearn.neural_network import MLPRegressor\n",
    "import pandas as pd\n",
    "import numpy as np"
   ]
  },
  {
   "cell_type": "markdown",
   "id": "d706dde3",
   "metadata": {},
   "source": [
    "### Miami"
   ]
  },
  {
   "cell_type": "code",
   "execution_count": 96,
   "id": "9da2fa5b",
   "metadata": {},
   "outputs": [],
   "source": [
    "source_1 = miami_source1.copy(deep=True)\n",
    "source_2 = miami_source2.copy(deep=True)\n",
    "source_3 = miami_source3.copy(deep=True)\n",
    "source_4 = miami_source4.copy(deep=True)\n",
    "source_5 = miami_source5.copy(deep=True)"
   ]
  },
  {
   "cell_type": "markdown",
   "id": "6e0fe17e",
   "metadata": {},
   "source": [
    "#### Source 1"
   ]
  },
  {
   "cell_type": "code",
   "execution_count": 97,
   "id": "02971b71",
   "metadata": {},
   "outputs": [],
   "source": [
    "X_train_1 = source_1[['max_temperature', 'min_temperature', 'average_temperature', 'average_pressure', 'total_precipitation', 'average_wind_speed']].copy(deep=True)\n",
    "X_train_1.index = source_1.index\n",
    "X_train_1 = X_train_1[:-2]\n",
    "\n",
    "X_test_1 = source_1[source_1.index == yesterday_encoded]\n",
    "X_test_1 = X_test_1[['max_temperature', 'min_temperature', 'average_temperature', 'average_pressure', 'total_precipitation', 'average_wind_speed']]\n",
    "\n",
    "y_1 = source_1[['label']].copy(deep=True)\n",
    "y_1 = y_1[:-2]\n",
    "y_1 = y_1['label'].ravel()"
   ]
  },
  {
   "cell_type": "markdown",
   "id": "8709d73e",
   "metadata": {},
   "source": [
    "#### Source 2"
   ]
  },
  {
   "cell_type": "code",
   "execution_count": 98,
   "id": "133f6588",
   "metadata": {},
   "outputs": [],
   "source": [
    "X_train_2 = source_2[['TMAX', 'TMIN', 'TAVG', 'PRECIPITATION', 'surface_pressure']].copy(deep=True)\n",
    "X_train_2.index = source_2['DATE']\n",
    "X_train_2 = X_train_2[:-4]\n",
    "fill_with_avg(X_train_2)\n",
    "\n",
    "X_test_2 = source_2[source_2['DATE'] == before_yesterday_encoded]\n",
    "X_test_2 = X_test_2[['TMAX', 'TMIN', 'TAVG', 'PRECIPITATION', 'surface_pressure']]\n",
    "\n",
    "y_2 = source_2[['LABEL']].copy(deep=True)\n",
    "y_2 = y_2[:-4]\n",
    "y_2 = y_2['LABEL'].ravel()"
   ]
  },
  {
   "cell_type": "markdown",
   "id": "37cfdd4c",
   "metadata": {},
   "source": [
    "#### Source 3"
   ]
  },
  {
   "cell_type": "code",
   "execution_count": 99,
   "id": "799ffca3",
   "metadata": {},
   "outputs": [],
   "source": [
    "X_train_3 = source_3[['TMAX', 'TMIN', 'TAVG', 'PRCP', 'AWND']].copy(deep=True)\n",
    "X_train_3.index = source_3['DATE']\n",
    "X_train_3 = X_train_3[:source_3_constant - 1]\n",
    "fill_with_avg(X_train_3)\n",
    "X_train_3.fillna(0, inplace=True)\n",
    "\n",
    "X_test_3 = source_3.iloc[source_3_constant:source_3_constant+1]\n",
    "X_test_3.index = X_test_3['DATE']\n",
    "X_test_3 = X_test_3[['TMAX', 'TMIN', 'TAVG', 'PRCP', 'AWND']]\n",
    "\n",
    "y_3 = source_3[['LABEL']].copy(deep=True)\n",
    "y_3 = y_3[:source_3_constant - 1]\n",
    "y_3 = y_3['LABEL'].ravel()"
   ]
  },
  {
   "cell_type": "markdown",
   "id": "19b77c28",
   "metadata": {},
   "source": [
    "#### Source 4"
   ]
  },
  {
   "cell_type": "code",
   "execution_count": 100,
   "id": "5525ab8f",
   "metadata": {},
   "outputs": [],
   "source": [
    "X_train_4 = source_4[['max_temperature', 'min_temperature', 'average_temperature', 'average_pressure', 'total_precipitation', 'average_wind_speed', 'humidity']].copy(deep=True)\n",
    "X_train_4.index = source_4.index\n",
    "X_train_4 = X_train_4[:-2]\n",
    "\n",
    "X_test_4 = source_4[source_4.index == yesterday_encoded]\n",
    "X_test_4 = X_test_4[['max_temperature', 'min_temperature', 'average_temperature', 'average_pressure', 'total_precipitation', 'average_wind_speed', 'humidity']]\n",
    "\n",
    "y_4 = source_4[['label']].copy(deep=True)\n",
    "y_4 = y_4[:-2]\n",
    "y_4 = y_4['label'].ravel()"
   ]
  },
  {
   "cell_type": "markdown",
   "id": "5a624de8",
   "metadata": {},
   "source": [
    "#### Source 5"
   ]
  },
  {
   "cell_type": "code",
   "execution_count": 101,
   "id": "c64e7502",
   "metadata": {},
   "outputs": [],
   "source": [
    "X_train_5 = source_5[['TMAX', 'TMIN', 'TAVG', 'PRECIPITATION','WIND_SPEED', 'PRESSURE']].copy(deep=True)\n",
    "X_train_5.index = source_5.index\n",
    "X_train_5 = X_train_5[:-2]\n",
    "fill_with_avg(X_train_5)\n",
    "\n",
    "X_test_5 = source_5[source_5.index == yesterday_encoded]\n",
    "X_test_5 = X_test_5[['TMAX', 'TMIN', 'TAVG', 'PRECIPITATION','WIND_SPEED', 'PRESSURE']]\n",
    "\n",
    "y_5 = source_5[['LABEL']].copy(deep=True)\n",
    "y_5 = y_5[:-2]\n",
    "y_5 = y_5['LABEL'].ravel()"
   ]
  },
  {
   "cell_type": "markdown",
   "id": "a5ba84d3",
   "metadata": {},
   "source": [
    "#### Model"
   ]
  },
  {
   "cell_type": "code",
   "execution_count": 102,
   "id": "db663028",
   "metadata": {},
   "outputs": [
    {
     "name": "stdout",
     "output_type": "stream",
     "text": [
      "Prediction:\n",
      "89.38382985416425\n"
     ]
    }
   ],
   "source": [
    "X_train = [X_train_1, X_train_2, X_train_3, X_train_4, X_train_5]  # Training data array\n",
    "X_test = [X_test_1, X_test_2, X_test_3, X_test_4, X_test_5]  # Testing data array\n",
    "y = [y_1, y_2, y_3, y_4, y_5]  # Labels array\n",
    "pipelines = []  # Pipelines array\n",
    "predictions = np.array([])\n",
    "\n",
    "for i in range(5):\n",
    "    pipeline = Pipeline([\n",
    "        ('scaler', MinMaxScaler()),  \n",
    "        ('mlp', MLPRegressor(hidden_layer_sizes=(100,31), max_iter=3000, activation='relu', \n",
    "                   solver='adam', random_state=42, learning_rate_init=0.001))  \n",
    "    ])\n",
    "    pipelines.append(pipeline)   # Fill pipelines arra\n",
    "    \n",
    "# Use all pipelines with their corresponding data sources\n",
    "for i in range(5): \n",
    "    pipelines[i].fit(X_train[i], y[i])\n",
    "    predictions = np.append(predictions, pipelines[i].predict(X_test[i]))\n",
    "    \n",
    "miami_pred = np.mean(predictions)\n",
    "print(\"Prediction:\")\n",
    "print(miami_pred)"
   ]
  },
  {
   "cell_type": "markdown",
   "id": "37ff807b",
   "metadata": {},
   "source": [
    "### New York"
   ]
  },
  {
   "cell_type": "code",
   "execution_count": 103,
   "id": "9c43c764",
   "metadata": {},
   "outputs": [],
   "source": [
    "source_1 = ny_source1.copy(deep=True)\n",
    "source_2 = ny_source2.copy(deep=True)\n",
    "source_3 = ny_source3.copy(deep=True)\n",
    "source_4 = ny_source4.copy(deep=True)\n",
    "source_5 = ny_source5.copy(deep=True)"
   ]
  },
  {
   "cell_type": "markdown",
   "id": "7915820b",
   "metadata": {},
   "source": [
    "#### Source 1"
   ]
  },
  {
   "cell_type": "code",
   "execution_count": 104,
   "id": "da23a95c",
   "metadata": {},
   "outputs": [],
   "source": [
    "X_train_1 = source_1[['max_temperature', 'min_temperature', 'average_temperature', 'average_pressure', 'total_precipitation', 'average_wind_speed']].copy(deep=True)\n",
    "X_train_1.index = source_1.index\n",
    "X_train_1 = X_train_1[:-2]\n",
    "\n",
    "X_test_1 = source_1[source_1.index == yesterday_encoded]\n",
    "X_test_1 = X_test_1[['max_temperature', 'min_temperature', 'average_temperature', 'average_pressure', 'total_precipitation', 'average_wind_speed']]\n",
    "\n",
    "y_1 = source_1[['label']].copy(deep=True)\n",
    "y_1 = y_1[:-2]\n",
    "y_1 = y_1['label'].ravel()"
   ]
  },
  {
   "cell_type": "markdown",
   "id": "2b06a4c7",
   "metadata": {},
   "source": [
    "#### Source 2"
   ]
  },
  {
   "cell_type": "code",
   "execution_count": 105,
   "id": "be767cec",
   "metadata": {},
   "outputs": [],
   "source": [
    "X_train_2 = source_2[['TMAX', 'TMIN', 'TAVG', 'PRECIPITATION', 'SNOW', 'surface_pressure']].copy(deep=True)\n",
    "X_train_2.index = source_2['DATE']\n",
    "X_train_2 = X_train_2[:-4]\n",
    "fill_with_avg(X_train_2)\n",
    "\n",
    "X_test_2 = source_2[source_2['DATE'] == before_yesterday_encoded]\n",
    "X_test_2 = X_test_2[['TMAX', 'TMIN', 'TAVG', 'PRECIPITATION', 'SNOW', 'surface_pressure']]\n",
    "\n",
    "y_2 = source_2[['LABEL']].copy(deep=True)\n",
    "y_2 = y_2[:-4]\n",
    "y_2 = y_2['LABEL'].ravel()"
   ]
  },
  {
   "cell_type": "markdown",
   "id": "85d7053d",
   "metadata": {},
   "source": [
    "#### Source 3"
   ]
  },
  {
   "cell_type": "code",
   "execution_count": 110,
   "id": "d3081536",
   "metadata": {},
   "outputs": [],
   "source": [
    "X_train_3 = source_3[['TMAX', 'TMIN', 'SNOW', 'PRCP', 'AWND']].copy(deep=True)\n",
    "X_train_3.index = source_3['DATE']\n",
    "X_train_3 = X_train_3[:source_3_constant - 1]\n",
    "fill_with_avg(X_train_3)\n",
    "X_train_3.fillna(0, inplace=True)\n",
    "\n",
    "X_test_3 = source_3.iloc[source_3_constant:source_3_constant+1]\n",
    "X_test_3.index = X_test_3['DATE']\n",
    "X_test_3 = X_test_3[['TMAX', 'TMIN', 'SNOW', 'PRCP', 'AWND']]\n",
    "X_test_3.fillna(0, inplace=True)\n",
    "\n",
    "y_3 = source_3[['LABEL']].copy(deep=True)\n",
    "y_3 = y_3[:source_3_constant - 1]\n",
    "y_3 = y_3['LABEL'].ravel()"
   ]
  },
  {
   "cell_type": "markdown",
   "id": "09cb3d8c",
   "metadata": {},
   "source": [
    "#### Source 4"
   ]
  },
  {
   "cell_type": "code",
   "execution_count": 111,
   "id": "56348da3",
   "metadata": {},
   "outputs": [],
   "source": [
    "X_train_4 = source_4[['max_temperature', 'min_temperature', 'average_temperature', 'average_pressure', 'total_precipitation', 'average_wind_speed', 'snow', 'humidity']].copy(deep=True)\n",
    "X_train_4.index = source_4.index\n",
    "X_train_4 = X_train_4[:-2]\n",
    "\n",
    "X_test_4 = source_4[source_4.index == yesterday_encoded]\n",
    "X_test_4 = X_test_4[['max_temperature', 'min_temperature', 'average_temperature', 'average_pressure', 'total_precipitation', 'average_wind_speed', 'snow', 'humidity']]\n",
    "\n",
    "y_4 = source_4[['label']].copy(deep=True)\n",
    "y_4 = y_4[:-2]\n",
    "y_4 = y_4['label'].ravel()"
   ]
  },
  {
   "cell_type": "markdown",
   "id": "f704071e",
   "metadata": {},
   "source": [
    "#### Source 5"
   ]
  },
  {
   "cell_type": "code",
   "execution_count": 112,
   "id": "40eda016",
   "metadata": {},
   "outputs": [],
   "source": [
    "X_train_5 = source_5[['TMAX', 'TMIN', 'TAVG', 'PRECIPITATION', 'SNOW', 'WIND_SPEED', 'PRESSURE']].copy(deep=True)\n",
    "X_train_5.index = source_5.index\n",
    "X_train_5 = X_train_5[:-2]\n",
    "fill_with_avg(X_train_5)\n",
    "X_train_5.fillna(0, inplace=True)\n",
    "\n",
    "X_test_5 = source_5[source_5.index == yesterday_encoded]\n",
    "X_test_5 = X_test_5[['TMAX', 'TMIN', 'TAVG', 'PRECIPITATION', 'SNOW', 'WIND_SPEED', 'PRESSURE']]\n",
    "X_test_5.fillna(0, inplace=True)\n",
    "\n",
    "y_5 = source_5[['LABEL']].copy(deep=True)\n",
    "y_5 = y_5[:-2]\n",
    "y_5 = y_5['LABEL'].ravel()"
   ]
  },
  {
   "cell_type": "markdown",
   "id": "43134115",
   "metadata": {},
   "source": [
    "#### Model"
   ]
  },
  {
   "cell_type": "code",
   "execution_count": 113,
   "id": "74e40ea6",
   "metadata": {},
   "outputs": [
    {
     "name": "stdout",
     "output_type": "stream",
     "text": [
      "Prediction:\n",
      "48.52383991186423\n"
     ]
    }
   ],
   "source": [
    "X_train = [X_train_1, X_train_2, X_train_3, X_train_4, X_train_5]  # Training data array\n",
    "X_test = [X_test_1, X_test_2, X_test_3, X_test_4, X_test_5]   # Testing data array\n",
    "y = [y_1, y_2, y_3, y_4, y_5]  # Labels arra\n",
    "pipelines = []  # Pipelines array\n",
    "predictions = np.array([])\n",
    "\n",
    "for i in range(5):\n",
    "    pipeline = Pipeline([\n",
    "        ('scaler', MinMaxScaler()),  \n",
    "        ('mlp', MLPRegressor(hidden_layer_sizes=(100,31), max_iter=3000, activation='relu', \n",
    "                   solver='adam', random_state=42, learning_rate_init=0.001))  \n",
    "    ])\n",
    "    pipelines.append(pipeline)  # Fill pipelines array\n",
    "\n",
    "# Use all pipelines with their corresponding data sources\n",
    "for i in range(5):\n",
    "    pipelines[i].fit(X_train[i], y[i])\n",
    "    predictions = np.append(predictions, pipelines[i].predict(X_test[i]))\n",
    "    \n",
    "ny_pred = np.mean(predictions)\n",
    "print(\"Prediction:\")\n",
    "print(ny_pred)"
   ]
  },
  {
   "cell_type": "markdown",
   "id": "e441d389",
   "metadata": {},
   "source": [
    "### Chicago"
   ]
  },
  {
   "cell_type": "code",
   "execution_count": 114,
   "id": "5684f436",
   "metadata": {},
   "outputs": [],
   "source": [
    "source_1 = chicago_source1.copy(deep=True)\n",
    "source_2 = chicago_source2.copy(deep=True)\n",
    "source_3 = chicago_source3.copy(deep=True)\n",
    "source_4 = chicago_source4.copy(deep=True)\n",
    "source_5 = chicago_source5.copy(deep=True)"
   ]
  },
  {
   "cell_type": "markdown",
   "id": "a1f7490b",
   "metadata": {},
   "source": [
    "#### Source 1"
   ]
  },
  {
   "cell_type": "code",
   "execution_count": 115,
   "id": "698e7823",
   "metadata": {},
   "outputs": [],
   "source": [
    "X_train_1 = source_1[['max_temperature', 'min_temperature', 'average_temperature', 'average_pressure', 'total_precipitation', 'average_wind_speed']].copy(deep=True)\n",
    "X_train_1.index = source_1.index\n",
    "X_train_1 = X_train_1[:-2]\n",
    "\n",
    "X_test_1 = source_1[source_1.index == yesterday_encoded]\n",
    "X_test_1 = X_test_1[['max_temperature', 'min_temperature', 'average_temperature', 'average_pressure', 'total_precipitation', 'average_wind_speed']]\n",
    "\n",
    "y_1 = source_1[['label']].copy(deep=True)\n",
    "y_1 = y_1[:-2]\n",
    "y_1 = y_1['label'].ravel()"
   ]
  },
  {
   "cell_type": "markdown",
   "id": "15feabd1",
   "metadata": {},
   "source": [
    "#### Source 2"
   ]
  },
  {
   "cell_type": "code",
   "execution_count": 116,
   "id": "f77fc045",
   "metadata": {},
   "outputs": [],
   "source": [
    "X_train_2 = source_2[['TMAX', 'TMIN', 'TAVG', 'PRECIPITATION', 'SNOW', 'surface_pressure']].copy(deep=True)\n",
    "X_train_2.index = source_2['DATE']\n",
    "X_train_2 = X_train_2[:-4]\n",
    "fill_with_avg(X_train_2)\n",
    "\n",
    "X_test_2 = source_2[source_2['DATE'] == before_yesterday_encoded]\n",
    "X_test_2 = X_test_2[['TMAX', 'TMIN', 'TAVG', 'PRECIPITATION', 'SNOW', 'surface_pressure']]\n",
    "\n",
    "y_2 = source_2[['LABEL']].copy(deep=True)\n",
    "y_2 = y_2[:-4]\n",
    "y_2 = y_2['LABEL'].ravel()"
   ]
  },
  {
   "cell_type": "markdown",
   "id": "e2e24e89",
   "metadata": {},
   "source": [
    "#### Source 3"
   ]
  },
  {
   "cell_type": "code",
   "execution_count": 117,
   "id": "b4f00560",
   "metadata": {},
   "outputs": [],
   "source": [
    "X_train_3 = source_3[['TMAX', 'TMIN', 'SNOW', 'PRCP', 'AWND']].copy(deep=True)\n",
    "X_train_3.index = source_3['DATE']\n",
    "X_train_3 = X_train_3[:source_3_constant - 1]\n",
    "fill_with_avg(X_train_3)\n",
    "X_train_3.fillna(0, inplace=True)\n",
    "\n",
    "X_test_3 = source_3.iloc[source_3_constant:source_3_constant+1]\n",
    "X_test_3.index = X_test_3['DATE']\n",
    "X_test_3 = X_test_3[['TMAX', 'TMIN', 'SNOW', 'PRCP', 'AWND']]\n",
    "\n",
    "y_3 = source_3[['LABEL']].copy(deep=True)\n",
    "y_3 = y_3[:source_3_constant - 1]\n",
    "y_3 = y_3['LABEL'].ravel()"
   ]
  },
  {
   "cell_type": "markdown",
   "id": "bb84e709",
   "metadata": {},
   "source": [
    "#### Source 4"
   ]
  },
  {
   "cell_type": "code",
   "execution_count": 118,
   "id": "3d37fafd",
   "metadata": {},
   "outputs": [],
   "source": [
    "X_train_4 = source_4[['max_temperature', 'min_temperature', 'average_temperature', 'average_pressure', 'total_precipitation', 'average_wind_speed', 'snow', 'humidity']].copy(deep=True)\n",
    "X_train_4.index = source_4.index\n",
    "X_train_4 = X_train_4[:-2]\n",
    "\n",
    "X_test_4 = source_4[source_4.index == yesterday_encoded]\n",
    "X_test_4 = X_test_4[['max_temperature', 'min_temperature', 'average_temperature', 'average_pressure', 'total_precipitation', 'average_wind_speed', 'snow', 'humidity']]\n",
    "\n",
    "y_4 = source_4[['label']].copy(deep=True)\n",
    "y_4 = y_4[:-2]\n",
    "y_4 = y_4['label'].ravel()"
   ]
  },
  {
   "cell_type": "markdown",
   "id": "c133cc73",
   "metadata": {},
   "source": [
    "#### Source 5"
   ]
  },
  {
   "cell_type": "code",
   "execution_count": 119,
   "id": "02d5bf67",
   "metadata": {},
   "outputs": [],
   "source": [
    "X_train_5 = source_5[['TMAX', 'TMIN', 'TAVG', 'PRECIPITATION', 'SNOW', 'WIND_SPEED', 'PRESSURE']].copy(deep=True)\n",
    "X_train_5.index = source_5.index\n",
    "X_train_5 = X_train_5[:-2]\n",
    "fill_with_avg(X_train_5)\n",
    "X_train_5.fillna(0, inplace=True)\n",
    "\n",
    "X_test_5 = source_5[source_5.index == yesterday_encoded]\n",
    "X_test_5 = X_test_5[['TMAX', 'TMIN', 'TAVG', 'PRECIPITATION', 'SNOW', 'WIND_SPEED', 'PRESSURE']]\n",
    "X_test_5.fillna(0, inplace=True)\n",
    "\n",
    "y_5 = source_5[['LABEL']].copy(deep=True)\n",
    "y_5 = y_5[:-2]\n",
    "y_5 = y_5['LABEL'].ravel()"
   ]
  },
  {
   "cell_type": "markdown",
   "id": "5513f91d",
   "metadata": {},
   "source": [
    "#### Model"
   ]
  },
  {
   "cell_type": "code",
   "execution_count": 120,
   "id": "6f6b7ad8",
   "metadata": {},
   "outputs": [
    {
     "name": "stdout",
     "output_type": "stream",
     "text": [
      "Prediction:\n",
      "52.77761207357023\n"
     ]
    }
   ],
   "source": [
    "X_train = [X_train_1, X_train_2, X_train_3, X_train_4, X_train_5]  # Training data array\n",
    "X_test = [X_test_1, X_test_2, X_test_3, X_test_4, X_test_5]  # Testing data array\n",
    "y = [y_1, y_2, y_3, y_4, y_5]  # Labels array\n",
    "pipelines = []  # Pipelines array\n",
    "predictions = np.array([])\n",
    "\n",
    "for i in range(5):\n",
    "    pipeline = Pipeline([\n",
    "        ('scaler', MinMaxScaler()),  \n",
    "        ('mlp', MLPRegressor(hidden_layer_sizes=(100,31), max_iter=3000, activation='relu', \n",
    "                   solver='adam', random_state=42, learning_rate_init=0.001))  \n",
    "    ])\n",
    "    pipelines.append(pipeline)  # Fill pipelines array\n",
    "\n",
    "# Use all pipelines with their corresponding data sources\n",
    "for i in range(5):\n",
    "    pipelines[i].fit(X_train[i], y[i])\n",
    "    predictions = np.append(predictions, pipelines[i].predict(X_test[i]))\n",
    "    \n",
    "chicago_pred = np.mean(predictions)\n",
    "print(\"Prediction:\")\n",
    "print(chicago_pred)"
   ]
  },
  {
   "cell_type": "markdown",
   "id": "7762e6d4",
   "metadata": {},
   "source": [
    "### Austin"
   ]
  },
  {
   "cell_type": "code",
   "execution_count": 121,
   "id": "bad61504",
   "metadata": {},
   "outputs": [],
   "source": [
    "source_1 = austin_source1.copy(deep=True)\n",
    "source_2 = austin_source2.copy(deep=True)\n",
    "source_3 = austin_source3.copy(deep=True)\n",
    "source_4 = austin_source4.copy(deep=True)\n",
    "source_5 = austin_source5.copy(deep=True)"
   ]
  },
  {
   "cell_type": "markdown",
   "id": "ce413ce1",
   "metadata": {},
   "source": [
    "#### Source 1"
   ]
  },
  {
   "cell_type": "code",
   "execution_count": 122,
   "id": "50cfaf89",
   "metadata": {},
   "outputs": [],
   "source": [
    "X_train_1 = source_1[['max_temperature', 'min_temperature', 'average_temperature', 'average_pressure', 'total_precipitation', 'average_wind_speed']].copy(deep=True)\n",
    "X_train_1.index = source_1.index\n",
    "X_train_1 = X_train_1[:-2]\n",
    "\n",
    "X_test_1 = source_1[source_1.index == yesterday_encoded]\n",
    "X_test_1 = X_test_1[['max_temperature', 'min_temperature', 'average_temperature', 'average_pressure', 'total_precipitation', 'average_wind_speed']]\n",
    "\n",
    "y_1 = source_1[['label']].copy(deep=True)\n",
    "y_1 = y_1[:-2]\n",
    "y_1 = y_1['label'].ravel()"
   ]
  },
  {
   "cell_type": "markdown",
   "id": "6c586648",
   "metadata": {},
   "source": [
    "#### Source 2"
   ]
  },
  {
   "cell_type": "code",
   "execution_count": 123,
   "id": "b2632e0c",
   "metadata": {},
   "outputs": [],
   "source": [
    "X_train_2 = source_2[['TMAX', 'TMIN', 'TAVG', 'PRECIPITATION', 'surface_pressure']].copy(deep=True)\n",
    "X_train_2.index = source_2['DATE']\n",
    "X_train_2 = X_train_2[:-4]\n",
    "fill_with_avg(X_train_2)\n",
    "\n",
    "X_test_2 = source_2[source_2['DATE'] == before_yesterday_encoded]\n",
    "X_test_2 = X_test_2[['TMAX', 'TMIN', 'TAVG', 'PRECIPITATION', 'surface_pressure']]\n",
    "\n",
    "y_2 = source_2[['LABEL']].copy(deep=True)\n",
    "y_2 = y_2[:-4]\n",
    "y_2 = y_2['LABEL'].ravel()"
   ]
  },
  {
   "cell_type": "markdown",
   "id": "405ab8cd",
   "metadata": {},
   "source": [
    "#### Source 3"
   ]
  },
  {
   "cell_type": "code",
   "execution_count": 125,
   "id": "2f5f7d24",
   "metadata": {},
   "outputs": [],
   "source": [
    "X_train_3 = source_3[['TMAX', 'TMIN', 'PRCP', 'AWND']].copy(deep=True)\n",
    "X_train_3.index = source_3['DATE']\n",
    "X_train_3 = X_train_3[:source_3_constant - 1]\n",
    "fill_with_avg(X_train_3)\n",
    "X_train_3.fillna(0, inplace=True)\n",
    "\n",
    "X_test_3 = source_3.iloc[source_3_constant:source_3_constant+1]\n",
    "X_test_3.index = X_test_3['DATE']\n",
    "X_test_3 = X_test_3[['TMAX', 'TMIN', 'PRCP', 'AWND']]\n",
    "\n",
    "y_3 = source_3[['LABEL']].copy(deep=True)\n",
    "y_3 = y_3[:source_3_constant - 1]\n",
    "y_3 = y_3['LABEL'].ravel()"
   ]
  },
  {
   "cell_type": "markdown",
   "id": "0bb60157",
   "metadata": {},
   "source": [
    "#### Source 4"
   ]
  },
  {
   "cell_type": "code",
   "execution_count": 126,
   "id": "f3aeac1c",
   "metadata": {},
   "outputs": [],
   "source": [
    "X_train_4 = source_4[['max_temperature', 'min_temperature', 'average_temperature', 'average_pressure', 'total_precipitation', 'average_wind_speed', 'humidity']].copy(deep=True)\n",
    "X_train_4.index = source_4.index\n",
    "X_train_4 = X_train_4[:-2]\n",
    "\n",
    "X_test_4 = source_4[source_4.index == yesterday_encoded]\n",
    "X_test_4 = X_test_4[['max_temperature', 'min_temperature', 'average_temperature', 'average_pressure', 'total_precipitation', 'average_wind_speed', 'humidity']]\n",
    "\n",
    "y_4 = source_4[['label']].copy(deep=True)\n",
    "y_4 = y_4[:-2]\n",
    "y_4 = y_4['label'].ravel()"
   ]
  },
  {
   "cell_type": "markdown",
   "id": "dc340a00",
   "metadata": {},
   "source": [
    "#### Source 5"
   ]
  },
  {
   "cell_type": "code",
   "execution_count": 127,
   "id": "f1ed09ac",
   "metadata": {},
   "outputs": [],
   "source": [
    "X_train_5 = source_5[['TMAX', 'TMIN', 'TAVG', 'PRECIPITATION', 'WIND_SPEED', 'PRESSURE']].copy(deep=True)\n",
    "X_train_5.index = source_5.index\n",
    "X_train_5 = X_train_5[:-2]\n",
    "fill_with_avg(X_train_5)\n",
    "X_train_5.fillna(0, inplace=True)\n",
    "\n",
    "X_test_5 = source_5[austin_source5.index == yesterday_encoded]\n",
    "X_test_5 = X_test_5[['TMAX', 'TMIN', 'TAVG', 'PRECIPITATION', 'WIND_SPEED', 'PRESSURE']]\n",
    "X_test_5.fillna(0, inplace=True)\n",
    "\n",
    "y_5 = source_5[['LABEL']].copy(deep=True)\n",
    "y_5 = y_5[:-2]\n",
    "y_5 = y_5['LABEL'].ravel()"
   ]
  },
  {
   "cell_type": "markdown",
   "id": "c151c920",
   "metadata": {},
   "source": [
    "#### Model"
   ]
  },
  {
   "cell_type": "code",
   "execution_count": 128,
   "id": "2aed1151",
   "metadata": {},
   "outputs": [
    {
     "name": "stdout",
     "output_type": "stream",
     "text": [
      "Prediction:\n",
      "76.29131145910945\n"
     ]
    }
   ],
   "source": [
    "X_train = [X_train_1, X_train_2, X_train_3, X_train_4, X_train_5] # Training data array\n",
    "X_test = [X_test_1, X_test_2, X_test_3, X_test_4, X_test_5] # Testing data array\n",
    "y = [y_1, y_2, y_3, y_4, y_5] # Labels array\n",
    "pipelines = []  # Pipelines array\n",
    "predictions = np.array([])\n",
    "\n",
    "for i in range(5):\n",
    "    pipeline = Pipeline([\n",
    "        ('scaler', MinMaxScaler()),  \n",
    "        ('mlp', MLPRegressor(hidden_layer_sizes=(100,31), max_iter=3000, activation='relu', \n",
    "                   solver='adam', random_state=42, learning_rate_init=0.001)) \n",
    "    ])\n",
    "    pipelines.append(pipeline)  # Fill pipelines array\n",
    "\n",
    "# Use all pipelines with their corresponding data sources\n",
    "for i in range(5):\n",
    "    pipelines[i].fit(X_train[i], y[i])\n",
    "    predictions = np.append(predictions, pipelines[i].predict(X_test[i]))\n",
    "    \n",
    "austin_pred = np.mean(predictions)\n",
    "print(\"Prediction:\")\n",
    "print(austin_pred)"
   ]
  },
  {
   "cell_type": "markdown",
   "id": "4a8aaba9",
   "metadata": {},
   "source": [
    "### Predictions"
   ]
  },
  {
   "cell_type": "markdown",
   "id": "2f8ba2a8",
   "metadata": {},
   "source": [
    "The final prediction for each city is displayed here for easy viewing, these are ready to submit to Kalshi."
   ]
  },
  {
   "cell_type": "code",
   "execution_count": 129,
   "id": "3e4debeb",
   "metadata": {},
   "outputs": [
    {
     "name": "stdout",
     "output_type": "stream",
     "text": [
      "Miami: 89.38382985416425\n",
      "New York: 48.52383991186423\n",
      "Chicago: 52.77761207357023\n",
      "Austin: 76.29131145910945\n"
     ]
    }
   ],
   "source": [
    "print(f\"Miami: {miami_pred}\")\n",
    "print(f\"New York: {ny_pred}\")\n",
    "print(f\"Chicago: {chicago_pred}\")\n",
    "print(f\"Austin: {austin_pred}\")"
   ]
  },
  {
   "cell_type": "markdown",
   "id": "0ba9cb30",
   "metadata": {},
   "source": [
    "## Section 8: Model Evaluation"
   ]
  },
  {
   "cell_type": "markdown",
   "id": "e6a73158",
   "metadata": {},
   "source": [
    "To evaluate the accuracy of the model and the model overall, three metrics are used: Mean Squared Error (MSE), Mean Absolute Error (MAE), and Coefficient of Determination (R^2). MAE will give a precise measure of the error the model's predictions have had, which can be used to estimate the error the model will have in the future. MSE will give a similar result, but penalizing really large errors, so it is more evident when the model makes big mistakes in the predictions and when it makes small mistakes which are acceptable in this case. Finally, R^2 evaluates the fit of the model's predictions with the real values, and the extent to which the independent variables explain the variance of the dependent variable, which is also an excellent metric to evaluate the model's performance, since the other 2 metrics used can be misleading, which will be explained later in the report. For this model evaluation, the prediction values used were those given by the midpoint of the range of the option purchased each day on Kalshi, or in the case of extrema options (T and above or T and below), by the edge value T. The true values for each prediction day were extracted from the winning option in Kalshi for that day in the same way, midpoint of option range or limit value for extrema options (T and above or T and below). The model will be analyzed as a whole first, and then city by city because different patterns and metrics can be generated from each of these analysis."
   ]
  },
  {
   "cell_type": "markdown",
   "id": "b2e37151",
   "metadata": {},
   "source": [
    "### Imports"
   ]
  },
  {
   "cell_type": "code",
   "execution_count": 130,
   "id": "1a8cfee5",
   "metadata": {},
   "outputs": [],
   "source": [
    "from sklearn.metrics import mean_squared_error, mean_absolute_error, r2_score"
   ]
  },
  {
   "cell_type": "markdown",
   "id": "70880bce",
   "metadata": {},
   "source": [
    "### Full Model"
   ]
  },
  {
   "cell_type": "code",
   "execution_count": 131,
   "id": "d225eb71",
   "metadata": {},
   "outputs": [
    {
     "data": {
      "image/png": "[encoded data removed]",
      "text/plain": [
       "<Figure size 640x480 with 1 Axes>"
      ]
     },
     "metadata": {},
     "output_type": "display_data"
    },
    {
     "data": {
      "image/png": "[encoded data removed]",
      "text/plain": [
       "<Figure size 640x480 with 1 Axes>"
      ]
     },
     "metadata": {},
     "output_type": "display_data"
    },
    {
     "name": "stdout",
     "output_type": "stream",
     "text": [
      "MAE all cities: 2.718\n",
      "MSE all cities: 13.200200000000002\n",
      "R^2 all cities: 0.9467992529567559\n"
     ]
    }
   ],
   "source": [
    "y_true = np.array([78.5, 81.5, 79.5, 80.5, 82.5, 81.5, 85, 78.5, 81.5, 75.6, 81, 82.5, 54.5, 61.5, 43, 48.5, 54, 49.5, 52.5, 54.5, 57.5, 42.5, 45.5, 47.5, 52.5, 32, 45.5, 47, 60.5, 44.5, 50.5, 49.5, 43, 40.5, 41, 50, 58.5, 81.5, 80, 67, 52, 71, 91, 83.5, 75.5, 67.5, 67, 78.5, 72.5, 65.5])\n",
    "y_pred = np.array([76.5, 79.5, 79.5, 80.5, 78.5, 81.5, 79.5, 82, 83, 83, 81, 78.5, 52.5, 59.5, 43, 44.5, 46.5, 51.5, 54.5, 52.5, 55.5, 48, 49, 49.5, 52.5, 30.5, 47.5, 47, 55, 46.5, 48.5, 49.5, 43, 44, 48.5, 50, 51, 85.5, 83.5, 65.5, 52, 72.5, 82, 81.5, 75.5, 71, 68.5, 71, 70.5, 69.5])\n",
    "\n",
    "mae_values = np.abs(y_true - y_pred)\n",
    "mse_values = (y_true - y_pred) ** 2\n",
    "\n",
    "mae = mean_absolute_error(y_true, y_pred)\n",
    "mse = mean_squared_error(y_true, y_pred)\n",
    "r2 = r2_score(y_true, y_pred)\n",
    "\n",
    "# Plotting\n",
    "\n",
    "# All cities\n",
    "plt.scatter(range(len(mae_values)), mae_values, color='blue')\n",
    "plt.plot(mae_values, label='MAE', linestyle='--', marker='o', color='blue')\n",
    "plt.title('Mean Absolute Error for Each Prediction (All cities)')\n",
    "plt.xlabel('Prediction Index')\n",
    "plt.ylabel('MAE Value')\n",
    "plt.grid(True)\n",
    "plt.legend()\n",
    "plt.show()\n",
    "\n",
    "plt.scatter(range(len(mse_values)), mse_values, color='red')\n",
    "plt.plot(mse_values, label='MSE', linestyle='--', marker='o', color='red')\n",
    "plt.title('Mean Squared Error for Each Prediction (All cities)')\n",
    "plt.xlabel('Prediction Index')\n",
    "plt.ylabel('MSE Value')\n",
    "plt.grid(True)\n",
    "plt.legend()\n",
    "plt.show()\n",
    "\n",
    "print(\"MAE all cities:\", mae)\n",
    "print(\"MSE all cities:\", mse)\n",
    "print(\"R^2 all cities:\", r2)"
   ]
  },
  {
   "cell_type": "markdown",
   "id": "549adaac",
   "metadata": {},
   "source": [
    "The results for the model evaluation give mixed results, but overall the model is considered to be successful at predicting the next day's maximum temperature for the 4 cities. Overall, combining predictions and true values for the 4 cities, the graphs of MAE and MSE show multiple peaks, showing little consistency with the  accuracy of the model. There is a clear decrease in both MSE and MAE with the introduction of the MLP Regressor, but these errors spike some time after, with the largest error in prediction occurring towards the end of the graphs, when the model already was at its peak complexity and the 5 sources were being used for prediction. This can be due to weather anomalies that make the true temperature deviate from the expected or due to the model and its quality. The remaining analysis will help clarify this unknown. Looking at the scale of the MAE, the error was never greater than 8 degrees farenheit, which is okay (not great) for a temperature prediction. But additionally, 31 predictions were in the MAE error range of 0-2 degrees farenheit, while 19 were above that range, and only 9 were above the 5 degrees farenheit error range. This shows the model is actually successful in predicting temperature with an acceptable (good) accuracy. In the graph for MSE, it is more evident how few outliers (big errors) there are, and how concentrated towards the lower end of the y-axis the errors are, which is a very good sign for overall model performance. The overall MAE and MSE values, 2.72 and 13.2 respectively, also show great model performance. Predicting the next day's temperature with an average error of 2.7 degrees (above or below) is a good result due to the natural unexpected variability of weather. Finally, the R^2 value for the combination of all cities is 0.947, which is an excellent value for this model, and one that clearly shows a great fit of the predictions with the true values, and a great correlation between the variance of the predictions and the features used, which is also a great sign of the quality of the model."
   ]
  },
  {
   "cell_type": "markdown",
   "id": "47d8ba02",
   "metadata": {},
   "source": [
    "### Miami"
   ]
  },
  {
   "cell_type": "code",
   "execution_count": 132,
   "id": "bf45554d",
   "metadata": {},
   "outputs": [
    {
     "data": {
      "image/png": "[encoded data removed]",
      "text/plain": [
       "<Figure size 640x480 with 1 Axes>"
      ]
     },
     "metadata": {},
     "output_type": "display_data"
    },
    {
     "data": {
      "image/png": "[encoded data removed]",
      "text/plain": [
       "<Figure size 640x480 with 1 Axes>"
      ]
     },
     "metadata": {},
     "output_type": "display_data"
    },
    {
     "name": "stdout",
     "output_type": "stream",
     "text": [
      "MAE Miami: 2.491666666666667\n",
      "MSE Miami: 11.62583333333334\n",
      "R^2 Miami: -1.1750009743929524\n"
     ]
    }
   ],
   "source": [
    "y_true_mia = np.array([78.5, 81.5, 79.5, 80.5, 82.5, 81.5, 85, 78.5, 81.5, 75.6, 81, 82.5])\n",
    "\n",
    "y_pred_mia = np.array([76.5, 79.5, 79.5, 80.5, 78.5, 81.5, 79.5, 82, 83, 83, 81, 78.5])\n",
    "\n",
    "mae_vals_mia = np.abs(y_true_mia - y_pred_mia)\n",
    "\n",
    "mse_vals_mia = (y_true_mia - y_pred_mia) ** 2\n",
    "\n",
    "mae_mia = mean_absolute_error(y_true_mia, y_pred_mia)\n",
    "\n",
    "mse_mia = mean_squared_error(y_true_mia, y_pred_mia)\n",
    "\n",
    "r2_mia = r2_score(y_true_mia, y_pred_mia)\n",
    "\n",
    "# Plotting\n",
    "\n",
    "# Miami\n",
    "plt.scatter(range(len(mae_vals_mia)), mae_vals_mia, color='blue')\n",
    "plt.plot(mae_vals_mia, label='MAE', linestyle='--', marker='o', color='blue')\n",
    "plt.title('Mean Absolute Error for Each Prediction (Miami)')\n",
    "plt.xlabel('Prediction Index')\n",
    "plt.ylabel('MAE Value')\n",
    "plt.grid(True)\n",
    "plt.legend()\n",
    "plt.show()\n",
    "\n",
    "plt.scatter(range(len(mse_vals_mia)), mse_vals_mia, color='red')\n",
    "plt.plot(mse_vals_mia, label='MSE', linestyle='--', marker='o', color='red')\n",
    "plt.title('Mean Squared Error for Each Prediction (Miami)')\n",
    "plt.xlabel('Prediction Index')\n",
    "plt.ylabel('MSE Value')\n",
    "plt.grid(True)\n",
    "plt.legend()\n",
    "plt.show()\n",
    "\n",
    "print(\"MAE Miami:\", mae_mia)\n",
    "print(\"MSE Miami:\", mse_mia)\n",
    "print(\"R^2 Miami:\", r2_mia)"
   ]
  },
  {
   "cell_type": "markdown",
   "id": "17954962",
   "metadata": {},
   "source": [
    "The predictions made by the model for the city of Miami displayed the most erratic behavior in their error. But looking at the graphs for the MAE and MSE values, there were 4 hits where the prediction matched the true value and 8 misses. Out of these misses, only 2 were outside of the 0 to 5 degrees farenheit range, which is a positive sign, and 3 of the 8 misses were inside the 0 to 2 degrees farenheit range, which is also acceptable. The MAE for all the predictions was 2.49, which again, shows great accuracy for the model since an average error of 2.5 degrees farenheit is very good for temperature predictions. MSE values show only 1 big outlier and another intermediate outlier, which is good but could be improved. On the other hand, the R^2 value for Miami is far from expected. A negative R^2 value means the model would be better off predicting the mean of the true values, which is extremely negative for any machine learning model. At the moment, there is little certainty about why this is happening and how this could be improved, but the overall result is still very positive from the MAE and MSE values."
   ]
  },
  {
   "cell_type": "markdown",
   "id": "de44d616",
   "metadata": {},
   "source": [
    "### New York City"
   ]
  },
  {
   "cell_type": "code",
   "execution_count": 133,
   "id": "9ee77c78",
   "metadata": {},
   "outputs": [
    {
     "data": {
      "image/png": "[encoded data removed]",
      "text/plain": [
       "<Figure size 640x480 with 1 Axes>"
      ]
     },
     "metadata": {},
     "output_type": "display_data"
    },
    {
     "data": {
      "image/png": "[encoded data removed]",
      "text/plain": [
       "<Figure size 640x480 with 1 Axes>"
      ]
     },
     "metadata": {},
     "output_type": "display_data"
    },
    {
     "name": "stdout",
     "output_type": "stream",
     "text": [
      "MAE New York City: 2.6538461538461537\n",
      "MSE New York City: 10.98076923076923\n",
      "R^2 New York City: 0.6220853273597393\n"
     ]
    }
   ],
   "source": [
    "y_true_nyc = np.array([54.5, 61.5, 43, 48.5, 54, 49.5, 52.5, 54.5, 57.5, 42.5, 45.5, 47.5, 52.5])\n",
    "\n",
    "y_pred_nyc = np.array([52.5, 59.5, 43, 44.5, 46.5, 51.5, 54.5, 52.5, 55.5, 48, 49, 49.5, 52.5])\n",
    "\n",
    "mae_vals_nyc = np.abs(y_true_nyc - y_pred_nyc)\n",
    "\n",
    "mse_vals_nyc = (y_true_nyc - y_pred_nyc) ** 2\n",
    "\n",
    "mae_nyc = mean_absolute_error(y_true_nyc, y_pred_nyc)\n",
    "\n",
    "mse_nyc = mean_squared_error(y_true_nyc, y_pred_nyc)\n",
    "\n",
    "r2_nyc = r2_score(y_true_nyc, y_pred_nyc)\n",
    "\n",
    "# Plotting\n",
    "\n",
    "# New York City\n",
    "plt.scatter(range(len(mae_vals_nyc)), mae_vals_nyc, color='blue')\n",
    "plt.plot(mae_vals_nyc, label='MAE', linestyle='--', marker='o', color='blue')\n",
    "plt.title('Mean Absolute Error for Each Prediction (New York City)')\n",
    "plt.xlabel('Prediction Index')\n",
    "plt.ylabel('MAE Value')\n",
    "plt.grid(True)\n",
    "plt.legend()\n",
    "plt.show()\n",
    "\n",
    "plt.scatter(range(len(mse_vals_nyc)), mse_vals_nyc, color='red')\n",
    "plt.plot(mse_vals_nyc, label='MSE', linestyle='--', marker='o', color='red')\n",
    "plt.title('Mean Squared Error for Each Prediction (New York City)')\n",
    "plt.xlabel('Prediction Index')\n",
    "plt.ylabel('MSE Value')\n",
    "plt.grid(True)\n",
    "plt.legend()\n",
    "plt.show()\n",
    "\n",
    "print(\"MAE New York City:\", mae_nyc)\n",
    "print(\"MSE New York City:\", mse_nyc)\n",
    "print(\"R^2 New York City:\", r2_nyc)"
   ]
  },
  {
   "cell_type": "markdown",
   "id": "23b64cc1",
   "metadata": {},
   "source": [
    "For the city of New York, the results were positive. Even though there were only 2 hits in the predictions, MAE shows 9 out of 13 predictions inside the 0 to 2 degrees farenheit range, which is a positive result. Only 2 predictions were outside the 0 to 5 degrees farenheit range. MSE values show one big outlier and another intermediate outlier, which is good but could be improved. MAE and MSE overall values, 2.65 and 10.98 respectively, show positive results for temperature prediction with few outliers. The R^2 value for New York City , 0.62, shows acceptable fit between the predictions and the true values, but its still lower than expected. These results for a specific city show mixed results, some are very good (MSE and MAE) but some are just acceptable (R^2), and to improve the model, these would have to be addressed city by city, but with the results of the overall model combining the 4 cities, the model shows good performance. "
   ]
  },
  {
   "cell_type": "markdown",
   "id": "27aeb837",
   "metadata": {},
   "source": [
    "### Chicago"
   ]
  },
  {
   "cell_type": "code",
   "execution_count": 134,
   "id": "e1dcd3c9",
   "metadata": {},
   "outputs": [
    {
     "data": {
      "image/png": "[encoded data removed]",
      "text/plain": [
       "<Figure size 640x480 with 1 Axes>"
      ]
     },
     "metadata": {},
     "output_type": "display_data"
    },
    {
     "data": {
      "image/png": "[encoded data removed]",
      "text/plain": [
       "<Figure size 640x480 with 1 Axes>"
      ]
     },
     "metadata": {},
     "output_type": "display_data"
    },
    {
     "name": "stdout",
     "output_type": "stream",
     "text": [
      "MAE Chicago: 2.625\n",
      "MSE Chicago: 14.104166666666666\n",
      "R^2 Chicago: 0.7472230000933445\n"
     ]
    }
   ],
   "source": [
    "y_true_chi = np.array([32, 45.5, 47, 60.5, 44.5, 50.5, 49.5, 43, 40.5, 41, 50, 58.5])\n",
    "\n",
    "y_pred_chi = np.array([30.5, 47.5, 47, 55, 46.5, 48.5, 49.5, 43, 44, 48.5, 50, 51])\n",
    "\n",
    "mae_vals_chi = np.abs(y_true_chi - y_pred_chi)\n",
    "\n",
    "mse_vals_chi = (y_true_chi - y_pred_chi) ** 2\n",
    "\n",
    "mae_chi = mean_absolute_error(y_true_chi, y_pred_chi)\n",
    "\n",
    "mse_chi = mean_squared_error(y_true_chi, y_pred_chi)\n",
    "\n",
    "r2_chi = r2_score(y_true_chi, y_pred_chi)\n",
    "\n",
    "# Plotting\n",
    "\n",
    "# Chicago\n",
    "plt.scatter(range(len(mae_vals_chi)), mae_vals_chi, color='blue')\n",
    "plt.plot(mae_vals_chi, label='MAE', linestyle='--', marker='o', color='blue')\n",
    "plt.title('Mean Absolute Error for Each Prediction (Chicago)')\n",
    "plt.xlabel('Prediction Index')\n",
    "plt.ylabel('MAE Value')\n",
    "plt.grid(True)\n",
    "plt.legend()\n",
    "plt.show()\n",
    "\n",
    "plt.scatter(range(len(mse_vals_chi)), mse_vals_chi, color='red')\n",
    "plt.plot(mse_vals_chi, label='MSE', linestyle='--', marker='o', color='red')\n",
    "plt.title('Mean Squared Error for Each Prediction (Chicago)')\n",
    "plt.xlabel('Prediction Index')\n",
    "plt.ylabel('MSE Value')\n",
    "plt.grid(True)\n",
    "plt.legend()\n",
    "plt.show()\n",
    "\n",
    "print(\"MAE Chicago:\", mae_chi)\n",
    "print(\"MSE Chicago:\", mse_chi)\n",
    "print(\"R^2 Chicago:\", r2_chi)"
   ]
  },
  {
   "cell_type": "markdown",
   "id": "c2c2b7ac",
   "metadata": {},
   "source": [
    "Chicago shows an interesting behavior, even though there are more outliers relative to the other cities (3), the rest of the predictions are mostly inside the 0 to 2 degrees farenheit range (8 out of 12). MAE and MSE overall values, 2.63 and 14.1 respectively, show good performance for temperature predictions, with slightly elevated outlier numbers, but still good. The R^2 value (0.75) shows good fit between the predictions and the true values, which is a great indicator for accuracy and model quality, so the overall results for Chicago are positive."
   ]
  },
  {
   "cell_type": "markdown",
   "id": "80d4399a",
   "metadata": {},
   "source": [
    "### Austin"
   ]
  },
  {
   "cell_type": "code",
   "execution_count": 135,
   "id": "d375e9a7",
   "metadata": {},
   "outputs": [
    {
     "data": {
      "image/png": "[encoded data removed]",
      "text/plain": [
       "<Figure size 640x480 with 1 Axes>"
      ]
     },
     "metadata": {},
     "output_type": "display_data"
    },
    {
     "data": {
      "image/png": "[encoded data removed]",
      "text/plain": [
       "<Figure size 640x480 with 1 Axes>"
      ]
     },
     "metadata": {},
     "output_type": "display_data"
    },
    {
     "name": "stdout",
     "output_type": "stream",
     "text": [
      "MAE Austin: 3.076923076923077\n",
      "MSE Austin: 16.03846153846154\n",
      "R^2 Austin: 0.8254949299855142\n"
     ]
    }
   ],
   "source": [
    "y_true_aus = np.array([81.5, 80, 67, 52, 71, 91, 83.5, 75.5, 67.5, 67, 78.5, 72.5, 65.5])\n",
    "\n",
    "y_pred_aus = np.array([85.5, 83.5, 65.5, 52, 72.5, 82, 81.5, 75.5, 71, 68.5, 71, 70.5, 69.5])\n",
    "\n",
    "mae_vals_aus = np.abs(y_true_aus - y_pred_aus)\n",
    "\n",
    "mse_vals_aus = (y_true_aus - y_pred_aus) ** 2\n",
    "\n",
    "mae_aus = mean_absolute_error(y_true_aus, y_pred_aus)\n",
    "\n",
    "mse_aus = mean_squared_error(y_true_aus, y_pred_aus)\n",
    "\n",
    "r2_aus = r2_score(y_true_aus, y_pred_aus)\n",
    "\n",
    "# Plotting\n",
    "\n",
    "# Austin\n",
    "plt.scatter(range(len(mae_vals_aus)), mae_vals_aus, color='blue')\n",
    "plt.plot(mae_vals_aus, label='MAE', linestyle='--', marker='o', color='blue')\n",
    "plt.title('Mean Absolute Error for Each Prediction (Austin)')\n",
    "plt.xlabel('Prediction Index')\n",
    "plt.ylabel('MAE Value')\n",
    "plt.grid(True)\n",
    "plt.legend()\n",
    "plt.show()\n",
    "\n",
    "plt.scatter(range(len(mse_vals_aus)), mse_vals_aus, color='red')\n",
    "plt.plot(mse_vals_aus, label='MSE', linestyle='--', marker='o', color='red')\n",
    "plt.title('Mean Squared Error for Each Prediction (Austin)')\n",
    "plt.xlabel('Prediction Index')\n",
    "plt.ylabel('MSE Value')\n",
    "plt.grid(True)\n",
    "plt.legend()\n",
    "plt.show()\n",
    "\n",
    "print(\"MAE Austin:\", mae_aus)\n",
    "print(\"MSE Austin:\", mse_aus)\n",
    "print(\"R^2 Austin:\", r2_aus)"
   ]
  },
  {
   "cell_type": "markdown",
   "id": "5a30c80a",
   "metadata": {},
   "source": [
    "Austin shows mixed results, almost opposite to other cities. MAE values are less clustered in the 0 to 2 degrees farenheit range (only 6 out of 12 predictions), but only 2 are outside the 0 to 5 degrees farenheit range, which is shown more evidently in the MSE values with the 2 obvious outliers. The sparsity in the lower end of the MAE values is shown in the overall MAE value, with 3.08 being the highest of all cities. MSE is also elevated, 16.04, which shows the 2 outliers are also fairly distanced from the rest of the predictions. The positive indicator comes from the MSE graph showing the vast majority of predictions in the lower end of the spectrum. On the other hand, the R^2 value of 0.83 is a very positive indicator of the model's performance for Austin and overall. This shows a great fit between predictions and true values and a great correlation between features and predicted values."
   ]
  },
  {
   "cell_type": "markdown",
   "id": "4084cdcf",
   "metadata": {},
   "source": [
    "## Section 9: Automatic Trading With Kalshi API"
   ]
  },
  {
   "cell_type": "markdown",
   "id": "efdfdf35",
   "metadata": {},
   "source": [
    "In this section, the predictions are submitted to a Kalshi demo account in order to evaluate the model with a specific measurement. Connection was straightforward using the Kalshi API documentation. There were two important issues encountered with this API but they were both resolved quickly and had no impact on model testing. The first issue was the authentication stopped working suddenly, but luckily, the documentation gave a secondary authentication method. After switching to the secondary authentication method, everything was working again and it remained stable for the rest of the project. The second issue was there was one occasion in which the market information for the 4 tickers in question stopped returning the attributes: cap_strike and floor_strike, which were necessary to choose a specific prediction and submit. That day there was no prediction done on Kalshi, but the next day everything resolved on its own and stabilized for the rest of the project. The method used to execute trades is connecting to the API one time, and then for each city, using the general market ticker for Highest temperature for that city, the market options are requested for the date of 1 day into the future from the present day. These market options are parsed, comparing the prediction given by the model for that city with the option's attributes. When the right option is found, the ticker is saved in a variable and then an order is submitted for a set amount of contracts at a set price for the option matching the model's prediction. For version 2.0 of the model, the average of all predictions for each city was calculated here. This code is not necessary for the final model but the code was commented out for viewing and understanding the progress of this project."
   ]
  },
  {
   "cell_type": "markdown",
   "id": "2eb22fac",
   "metadata": {},
   "source": [
    "### Establish Connection With the Kalshi API"
   ]
  },
  {
   "cell_type": "code",
   "execution_count": 136,
   "id": "68d685e5",
   "metadata": {},
   "outputs": [
    {
     "name": "stdout",
     "output_type": "stream",
     "text": [
      "Exchange status response: \n",
      "{'exchange_active': True, 'trading_active': True}\n",
      "\n",
      "User balance: \n",
      "{'balance': 998064}\n"
     ]
    }
   ],
   "source": [
    "config = kalshi_python.Configuration()\n",
    "# Comment the line below to use production\n",
    "config.host = 'https://demo-api.kalshi.co/trade-api/v2'\n",
    "\n",
    "# Create an API configuration passing your credentials.\n",
    "# Use this if you want the kalshi_python sdk to manage the authentication for you.\n",
    "#kalshi_api = kalshi_python.ApiInstance(\n",
    "    #email='nicolasrestrepog2506@gmail.com',\n",
    "    #password='BostonU24.',\n",
    "    #configuration=config,\n",
    "#)\n",
    "\n",
    "kalshi_api = kalshi_python.ApiInstance(\n",
    "    configuration=config,\n",
    ")\n",
    "loginResponse = kalshi_api.login(LoginRequest(email='nicolasrestrepog2506@gmail.com', password='BostonU24.'))\n",
    "token = loginResponse.token\n",
    "kalshi_api.set_api_token(loginResponse.token)\n",
    "\n",
    "# Checks if the exchange is available.\n",
    "exchangeStatus = kalshi_api.get_exchange_status()\n",
    "print('Exchange status response: ')\n",
    "pprint(exchangeStatus)\n",
    "\n",
    "# Gets the balance for your kalshi account.\n",
    "balanceResponse = kalshi_api.get_balance()\n",
    "print('\\nUser balance: ')\n",
    "pprint(balanceResponse)"
   ]
  },
  {
   "cell_type": "code",
   "execution_count": 138,
   "id": "8b873873",
   "metadata": {},
   "outputs": [
    {
     "name": "stdout",
     "output_type": "stream",
     "text": [
      "1\n"
     ]
    }
   ],
   "source": [
    "tomorrow_day = pd.Timestamp.now().day + 1\n",
    "if(tomorrow_day == 32):\n",
    "    tomorrow_day = 1\n",
    "print(tomorrow_day)"
   ]
  },
  {
   "cell_type": "markdown",
   "id": "f131c156",
   "metadata": {},
   "source": [
    "### New York Trade"
   ]
  },
  {
   "cell_type": "code",
   "execution_count": 145,
   "id": "9a56e1ce",
   "metadata": {},
   "outputs": [
    {
     "name": "stdout",
     "output_type": "stream",
     "text": [
      "48.52383991186423\n",
      "\n",
      "Order submitted: \n",
      "{'order': {'action': 'buy',\n",
      "           'client_order_id': '4d23822b-894c-4c95-960d-1a016e8663fc',\n",
      "           'created_time': '2024-03-31T14:46:40.682044Z',\n",
      "           'expiration_time': None,\n",
      "           'no_price': 90,\n",
      "           'order_id': '34965aca-def8-40a8-bb34-558799d79ada',\n",
      "           'side': 'yes',\n",
      "           'status': 'resting',\n",
      "           'ticker': 'HIGHNY-24APR01-T48',\n",
      "           'type': 'limit',\n",
      "           'user_id': '5c67ef25-dc7f-4706-94c2-da3e9b6c6edd',\n",
      "           'yes_price': 10}}\n"
     ]
    }
   ],
   "source": [
    "#print(f'pred_nyc_2_ss: {pred_nyc_2_ss}')\n",
    "#print(f'pred_nyc_2_mm: {pred_nyc_2_mm}')\n",
    "\n",
    "#print(f'pred_nyc_3_ss: {pred_nyc_3_ss}')\n",
    "#print(f'pred_nyc_3_mm: {pred_nyc_3_mm}')\n",
    "\n",
    "#print(f'pred_nyc_5_ss: {pred_nyc_5_ss}')\n",
    "#print(f'pred_nyc_5_mm: {pred_nyc_5_mm}')\n",
    "\n",
    "#preds = np.array([pred_nyc_2_ss, pred_nyc_2_mm, pred_nyc_3_ss, pred_nyc_3_mm, pred_nyc_5_ss, pred_nyc_5_mm])\n",
    "\n",
    "#final_pred = np.mean(preds)\n",
    "\n",
    "final_pred = ny_pred\n",
    "print(final_pred)\n",
    "\n",
    "# Gets the data for a specific event.\n",
    "eventTicker = ''\n",
    "if tomorrow_day < 10:\n",
    "    eventTicker = f'HIGHNY-24APR0{tomorrow_day}'\n",
    "else:\n",
    "    eventTicker = f'HIGHNY-24APR{tomorrow_day}'\n",
    "eventResponse = kalshi_api.get_event(eventTicker)\n",
    "\n",
    "markets = eventResponse.markets\n",
    "\n",
    "ticker = ''\n",
    "chosen_market = None\n",
    "\n",
    "for market in markets:\n",
    "    \n",
    "    if(market.floor_strike == None):\n",
    "        if(market.cap_strike >= int(final_pred)):\n",
    "            chosen_market = market\n",
    "            break\n",
    "    elif(market.cap_strike == None):\n",
    "        if(market.floor_strike <= int(final_pred)):\n",
    "            chosen_market = market\n",
    "            break\n",
    "    else:\n",
    "        if(market.cap_strike >= int(final_pred) and market.floor_strike <= int(final_pred)):\n",
    "            chosen_market = market\n",
    "            break\n",
    "\n",
    "if exchangeStatus.trading_active:\n",
    "    orderUuid = str(uuid.uuid4())\n",
    "    orderResponse = kalshi_api.create_order(CreateOrderRequest(\n",
    "        ticker=chosen_market.ticker,\n",
    "        action='buy',\n",
    "        type='limit',\n",
    "        yes_price=10,\n",
    "        count=10,\n",
    "        client_order_id=orderUuid,\n",
    "        side='yes',\n",
    "    ))\n",
    "    print('\\nOrder submitted: ')\n",
    "    pprint(orderResponse)\n",
    "else:\n",
    "    print('\\nThe exchange is not trading active, no orders will be sent right now.')"
   ]
  },
  {
   "cell_type": "markdown",
   "id": "dcac814b",
   "metadata": {},
   "source": [
    "### Miami Trade"
   ]
  },
  {
   "cell_type": "code",
   "execution_count": 146,
   "id": "e37d28c6",
   "metadata": {},
   "outputs": [
    {
     "name": "stdout",
     "output_type": "stream",
     "text": [
      "89.38382985416425\n",
      "\n",
      "Order submitted: \n",
      "{'order': {'action': 'buy',\n",
      "           'client_order_id': '133189d9-4b45-4d83-815d-dbdd9debad4f',\n",
      "           'created_time': '2024-03-31T14:47:43.220373Z',\n",
      "           'expiration_time': None,\n",
      "           'no_price': 90,\n",
      "           'order_id': 'fa006b8a-3e32-4d71-95de-8365e58af512',\n",
      "           'side': 'yes',\n",
      "           'status': 'resting',\n",
      "           'ticker': 'HIGHMIA-24APR01-T83',\n",
      "           'type': 'limit',\n",
      "           'user_id': '5c67ef25-dc7f-4706-94c2-da3e9b6c6edd',\n",
      "           'yes_price': 10}}\n"
     ]
    }
   ],
   "source": [
    "#print(f'pred_mia_2_ss: {pred_mia_2_ss}')\n",
    "#print(f'pred_mia_2_mm: {pred_mia_2_mm}')\n",
    "\n",
    "#print(f'pred_mia_3_ss: {pred_mia_3_ss}')\n",
    "#print(f'pred_mia_3_mm: {pred_mia_3_mm}')\n",
    "\n",
    "#print(f'pred_mia_5_ss: {pred_mia_5_ss}')\n",
    "#print(f'pred_mia_5_mm: {pred_mia_5_mm}')\n",
    "\n",
    "#preds = np.array([pred_mia_2_ss, pred_mia_2_mm, pred_mia_3_ss, pred_mia_3_mm, pred_mia_5_ss, pred_mia_5_mm])\n",
    "\n",
    "#final_pred = np.mean(preds)\n",
    "\n",
    "final_pred = miami_pred\n",
    "print(final_pred)\n",
    "\n",
    "# Gets the data for a specific event.\n",
    "eventTicker = ''\n",
    "if tomorrow_day < 10:\n",
    "    eventTicker = f'HIGHMIA-24APR0{tomorrow_day}'\n",
    "else:\n",
    "    eventTicker = f'HIGHMIA-24APR{tomorrow_day}'\n",
    "eventResponse = kalshi_api.get_event(eventTicker)\n",
    "\n",
    "markets = eventResponse.markets\n",
    "\n",
    "ticker = ''\n",
    "chosen_market = None\n",
    "\n",
    "for market in markets:\n",
    "    \n",
    "    if(market.floor_strike == None):\n",
    "        if(market.cap_strike >= int(final_pred)):\n",
    "            chosen_market = market\n",
    "            break\n",
    "    elif(market.cap_strike == None):\n",
    "        if(market.floor_strike <= int(final_pred)):\n",
    "            chosen_market = market\n",
    "            break\n",
    "    else:\n",
    "        if(market.cap_strike >= int(final_pred) and market.floor_strike <= int(final_pred)):\n",
    "            chosen_market = market\n",
    "            break\n",
    "\n",
    "if exchangeStatus.trading_active:\n",
    "    orderUuid = str(uuid.uuid4())\n",
    "    orderResponse = kalshi_api.create_order(CreateOrderRequest(\n",
    "        ticker=chosen_market.ticker,\n",
    "        action='buy',\n",
    "        type='limit',\n",
    "        yes_price=10,\n",
    "        count=10,\n",
    "        client_order_id=orderUuid,\n",
    "        side='yes',\n",
    "    ))\n",
    "    print('\\nOrder submitted: ')\n",
    "    pprint(orderResponse)\n",
    "else:\n",
    "    print('\\nThe exchange is not trading active, no orders will be sent right now.')"
   ]
  },
  {
   "cell_type": "markdown",
   "id": "7ff105ab",
   "metadata": {},
   "source": [
    "### Chicago Trade"
   ]
  },
  {
   "cell_type": "code",
   "execution_count": 147,
   "id": "5f94373e",
   "metadata": {},
   "outputs": [
    {
     "name": "stdout",
     "output_type": "stream",
     "text": [
      "52.77761207357023\n",
      "\n",
      "Order submitted: \n",
      "{'order': {'action': 'buy',\n",
      "           'client_order_id': 'c42ba075-fb7c-45a2-99ac-3aca0aa7da5b',\n",
      "           'created_time': '2024-03-31T14:48:08.555279Z',\n",
      "           'expiration_time': None,\n",
      "           'no_price': 90,\n",
      "           'order_id': '3f064fe6-ade1-4fcb-8497-a0a218803374',\n",
      "           'side': 'yes',\n",
      "           'status': 'resting',\n",
      "           'ticker': 'HIGHCHI-24APR01-T49',\n",
      "           'type': 'limit',\n",
      "           'user_id': '5c67ef25-dc7f-4706-94c2-da3e9b6c6edd',\n",
      "           'yes_price': 10}}\n"
     ]
    }
   ],
   "source": [
    "#print(f'pred_chi_2_ss: {pred_chi_2_ss}')\n",
    "#print(f'pred_chi_2_mm: {pred_chi_2_mm}')\n",
    "\n",
    "#print(f'pred_chi_3_ss: {pred_chi_3_ss}')\n",
    "#print(f'pred_chi_3_mm: {pred_chi_3_mm}')\n",
    "\n",
    "#print(f'pred_chi_5_ss: {pred_chi_5_ss}')\n",
    "#print(f'pred_chi_5_mm: {pred_chi_5_mm}')\n",
    "\n",
    "#preds = np.array([pred_chi_2_ss, pred_chi_2_mm, pred_chi_3_ss, pred_chi_3_mm, pred_chi_5_ss, pred_chi_5_mm])\n",
    "\n",
    "#final_pred = np.mean(preds)\n",
    "#print(final_pred)\n",
    "\n",
    "final_pred = chicago_pred\n",
    "print(final_pred)\n",
    "\n",
    "# Gets the data for a specific event.\n",
    "eventTicker = ''\n",
    "if tomorrow_day < 10:\n",
    "    eventTicker = f'HIGHCHI-24APR0{tomorrow_day}'\n",
    "else:\n",
    "    eventTicker = f'HIGHCHI-24APR{tomorrow_day}'\n",
    "eventResponse = kalshi_api.get_event(eventTicker)\n",
    "\n",
    "markets = eventResponse.markets\n",
    "\n",
    "ticker = ''\n",
    "chosen_market = None\n",
    "\n",
    "for market in markets:\n",
    "    \n",
    "    if(market.floor_strike == None):\n",
    "        if(market.cap_strike >= int(final_pred)):\n",
    "            chosen_market = market\n",
    "            break\n",
    "    elif(market.cap_strike == None):\n",
    "        if(market.floor_strike <= int(final_pred)):\n",
    "            chosen_market = market\n",
    "            break\n",
    "    else:\n",
    "        if(market.cap_strike >= int(final_pred) and market.floor_strike <= int(final_pred)):\n",
    "            chosen_market = market\n",
    "            break\n",
    "\n",
    "if exchangeStatus.trading_active:\n",
    "    orderUuid = str(uuid.uuid4())\n",
    "    orderResponse = kalshi_api.create_order(CreateOrderRequest(\n",
    "        ticker=chosen_market.ticker,\n",
    "        action='buy',\n",
    "        type='limit',\n",
    "        yes_price=10,\n",
    "        count=10,\n",
    "        client_order_id=orderUuid,\n",
    "        side='yes',\n",
    "    ))\n",
    "    print('\\nOrder submitted: ')\n",
    "    pprint(orderResponse)\n",
    "else:\n",
    "    print('\\nThe exchange is not trading active, no orders will be sent right now.')"
   ]
  },
  {
   "cell_type": "markdown",
   "id": "07dd6c7b",
   "metadata": {},
   "source": [
    "### Austin Trade"
   ]
  },
  {
   "cell_type": "code",
   "execution_count": 148,
   "id": "d9706fda",
   "metadata": {},
   "outputs": [
    {
     "name": "stdout",
     "output_type": "stream",
     "text": [
      "76.29131145910945\n",
      "\n",
      "Order submitted: \n",
      "{'order': {'action': 'buy',\n",
      "           'client_order_id': 'f0280120-d72d-4b3b-8332-425b653a0fd1',\n",
      "           'created_time': '2024-03-31T14:48:24.323547Z',\n",
      "           'expiration_time': None,\n",
      "           'no_price': 90,\n",
      "           'order_id': '941e6924-6b44-465a-b140-8a54075c7141',\n",
      "           'side': 'yes',\n",
      "           'status': 'resting',\n",
      "           'ticker': 'HIGHAUS-24APR01-T83',\n",
      "           'type': 'limit',\n",
      "           'user_id': '5c67ef25-dc7f-4706-94c2-da3e9b6c6edd',\n",
      "           'yes_price': 10}}\n"
     ]
    }
   ],
   "source": [
    "#print(f'pred_aus_2_ss: {pred_aus_2_ss}')\n",
    "#print(f'pred_aus_2_mm: {pred_aus_2_mm}')\n",
    "\n",
    "#print(f'pred_aus_3_ss: {pred_aus_3_ss}')\n",
    "#print(f'pred_aus_3_mm: {pred_aus_3_mm}')\n",
    "\n",
    "#print(f'pred_aus_5_ss: {pred_aus_5_ss}')\n",
    "#print(f'pred_aus_5_mm: {pred_aus_5_mm}')\n",
    "\n",
    "#preds = np.array([pred_aus_2_ss, pred_aus_2_mm, pred_aus_3_ss, pred_aus_3_mm, pred_aus_5_ss, pred_aus_5_mm])\n",
    "\n",
    "#final_pred = np.mean(preds)\n",
    "#print(final_pred)\n",
    "\n",
    "final_pred = austin_pred\n",
    "print(final_pred)\n",
    "\n",
    "# Gets the data for a specific event.\n",
    "eventTicker = ''\n",
    "if tomorrow_day < 10:\n",
    "    eventTicker = f'HIGHAUS-24APR0{tomorrow_day}'\n",
    "else:\n",
    "    eventTicker = f'HIGHAUS-24APR{tomorrow_day}'\n",
    "eventResponse = kalshi_api.get_event(eventTicker)\n",
    "\n",
    "markets = eventResponse.markets\n",
    "\n",
    "ticker = ''\n",
    "chosen_market = None\n",
    "\n",
    "for market in markets:\n",
    "    \n",
    "    if(market.floor_strike == None):\n",
    "        if(market.cap_strike >= int(final_pred)):\n",
    "            chosen_market = market\n",
    "            break\n",
    "    elif(market.cap_strike == None):\n",
    "        if(market.floor_strike <= int(final_pred)):\n",
    "            chosen_market = market\n",
    "            break\n",
    "    else:\n",
    "        if(market.cap_strike >= int(final_pred) and market.floor_strike <= int(final_pred)):\n",
    "            chosen_market = market\n",
    "            break\n",
    "\n",
    "if exchangeStatus.trading_active:\n",
    "    orderUuid = str(uuid.uuid4())\n",
    "    orderResponse = kalshi_api.create_order(CreateOrderRequest(\n",
    "        ticker=chosen_market.ticker,\n",
    "        action='buy',\n",
    "        type='limit',\n",
    "        yes_price=10,\n",
    "        count=10,\n",
    "        client_order_id=orderUuid,\n",
    "        side='yes',\n",
    "    ))\n",
    "    print('\\nOrder submitted: ')\n",
    "    pprint(orderResponse)\n",
    "else:\n",
    "    print('\\nThe exchange is not trading active, no orders will be sent right now.')"
   ]
  }
 ],
 "metadata": {
  "kernelspec": {
   "display_name": "Python 3 (ipykernel)",
   "language": "python",
   "name": "python3"
  },
  "language_info": {
   "codemirror_mode": {
    "name": "ipython",
    "version": 3
   },
   "file_extension": ".py",
   "mimetype": "text/x-python",
   "name": "python",
   "nbconvert_exporter": "python",
   "pygments_lexer": "ipython3",
   "version": "3.9.13"
  }
 },
 "nbformat": 4,
 "nbformat_minor": 5
}
